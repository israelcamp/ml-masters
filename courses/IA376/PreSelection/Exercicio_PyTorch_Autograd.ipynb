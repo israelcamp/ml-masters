{
 "cells": [
  {
   "cell_type": "markdown",
   "metadata": {
    "colab_type": "text",
    "id": "B5_ZRWRfCZtI"
   },
   "source": [
    "# Exercício PyTorch: Gradientes e Grafo Computacional"
   ]
  },
  {
   "cell_type": "markdown",
   "metadata": {
    "colab_type": "text",
    "id": "BIlQdKAuCZtR"
   },
   "source": [
    "Um dos principais fundamentos para que o PyTorch seja adequado para deep learning é a sua habilidade de\n",
    "calcular o gradiente automaticamente a partir da expressões definidas. Essa facilidade é implementada\n",
    "pelo tensor através do cálculo automático do gradiente pela construção dinâmica do grafo computacional."
   ]
  },
  {
   "cell_type": "markdown",
   "metadata": {
    "colab_type": "text",
    "id": "ZF_-dJ2nCZtT"
   },
   "source": [
    "## Grafo computacional"
   ]
  },
  {
   "cell_type": "markdown",
   "metadata": {
    "colab_type": "text",
    "id": "jboejVQMCZtU"
   },
   "source": [
    "```\n",
    "    y_pred = x * w\n",
    "    e = y_pred - y\n",
    "    e2 = e**2\n",
    "    J = e2.sum()\n",
    "```"
   ]
  },
  {
   "cell_type": "markdown",
   "metadata": {
    "colab_type": "text",
    "id": "n7JmU6qhc2Y2"
   },
   "source": [
    "As quatro expressões acima, para o cálculo do J pode ser representadas pelo grafo computacional visualizado a seguir: os círculos são as variáveis (tensores), os quadrados são as operações, os números em preto são os cálculos durante a execução das quatro expressões para calcular o J (forward, predict). O cálculo do gradiente, mostrado em vermelho, é calculado pela regra da cadeia, de trás para frente (backward)."
   ]
  },
  {
   "cell_type": "markdown",
   "metadata": {
    "colab_type": "text",
    "id": "KeeEBKl4CZtV"
   },
   "source": [
    "<img src=\"https://raw.githubusercontent.com/robertoalotufo/files/master/figures/GrafoComputacional.png\" width=\"600pt\"/>"
   ]
  },
  {
   "cell_type": "markdown",
   "metadata": {
    "colab_type": "text",
    "id": "8yZun7wrCZtX"
   },
   "source": [
    "Para entender melhor o funcionamento do grafo computacional com os tensores, recomenda-se leitura em:\n",
    "\n",
    "https://pytorch.org/docs/stable/notes/autograd.html"
   ]
  },
  {
   "cell_type": "code",
   "execution_count": 1,
   "metadata": {
    "ExecuteTime": {
     "end_time": "2019-12-11T00:23:00.431853Z",
     "start_time": "2019-12-11T00:23:00.414813Z"
    },
    "colab": {},
    "colab_type": "code",
    "id": "HlT2d-4fCZtZ"
   },
   "outputs": [],
   "source": [
    "import torch"
   ]
  },
  {
   "cell_type": "code",
   "execution_count": 2,
   "metadata": {
    "ExecuteTime": {
     "end_time": "2019-12-11T00:23:00.863228Z",
     "start_time": "2019-12-11T00:23:00.844457Z"
    },
    "colab": {
     "base_uri": "https://localhost:8080/",
     "height": 34
    },
    "colab_type": "code",
    "executionInfo": {
     "elapsed": 1083,
     "status": "ok",
     "timestamp": 1576025956827,
     "user": {
      "displayName": "Roberto Lotufo",
      "photoUrl": "https://lh3.googleusercontent.com/a-/AAuE7mAo8mNkCwYHBAV6lSJd0DmUs3TylYJJcHpvSYSJKg=s64",
      "userId": "00857172468435692304"
     },
     "user_tz": 180
    },
    "id": "xX0QwUduCZtf",
    "outputId": "5f4368ed-556d-466a-c371-d3d8794dcbec"
   },
   "outputs": [
    {
     "data": {
      "text/plain": [
       "'1.2.0'"
      ]
     },
     "execution_count": 2,
     "metadata": {},
     "output_type": "execute_result"
    }
   ],
   "source": [
    "torch.__version__"
   ]
  },
  {
   "cell_type": "markdown",
   "metadata": {
    "colab_type": "text",
    "id": "vsqzALS4CZtl"
   },
   "source": [
    "## Se um tensor possui .requires_grad=*True*\n",
    "\n"
   ]
  },
  {
   "cell_type": "code",
   "execution_count": 3,
   "metadata": {
    "ExecuteTime": {
     "end_time": "2019-09-29T03:07:22.117010Z",
     "start_time": "2019-09-29T03:07:22.041861Z"
    },
    "colab": {
     "base_uri": "https://localhost:8080/",
     "height": 34
    },
    "colab_type": "code",
    "executionInfo": {
     "elapsed": 741,
     "status": "ok",
     "timestamp": 1576026041241,
     "user": {
      "displayName": "Roberto Lotufo",
      "photoUrl": "https://lh3.googleusercontent.com/a-/AAuE7mAo8mNkCwYHBAV6lSJd0DmUs3TylYJJcHpvSYSJKg=s64",
      "userId": "00857172468435692304"
     },
     "user_tz": 180
    },
    "id": "foaAb94aCZtm",
    "outputId": "145f5626-1c8d-42e2-8287-68759f589eed"
   },
   "outputs": [
    {
     "data": {
      "text/plain": [
       "tensor([0., 2., 4., 6.])"
      ]
     },
     "execution_count": 3,
     "metadata": {},
     "output_type": "execute_result"
    }
   ],
   "source": [
    "y = 2 * torch.arange(0,4).float()\n",
    "y"
   ]
  },
  {
   "cell_type": "code",
   "execution_count": 4,
   "metadata": {
    "ExecuteTime": {
     "end_time": "2019-09-29T03:07:28.610934Z",
     "start_time": "2019-09-29T03:07:28.598223Z"
    },
    "colab": {
     "base_uri": "https://localhost:8080/",
     "height": 34
    },
    "colab_type": "code",
    "executionInfo": {
     "elapsed": 666,
     "status": "ok",
     "timestamp": 1576026042682,
     "user": {
      "displayName": "Roberto Lotufo",
      "photoUrl": "https://lh3.googleusercontent.com/a-/AAuE7mAo8mNkCwYHBAV6lSJd0DmUs3TylYJJcHpvSYSJKg=s64",
      "userId": "00857172468435692304"
     },
     "user_tz": 180
    },
    "id": "no6SdSyICZtr",
    "outputId": "a31a5f93-d5fd-4f69-f94e-50c79bc6bc24"
   },
   "outputs": [
    {
     "data": {
      "text/plain": [
       "tensor([0., 1., 2., 3.])"
      ]
     },
     "execution_count": 4,
     "metadata": {},
     "output_type": "execute_result"
    }
   ],
   "source": [
    "x = torch.arange(0,4).float(); x"
   ]
  },
  {
   "cell_type": "code",
   "execution_count": 5,
   "metadata": {
    "ExecuteTime": {
     "end_time": "2019-09-29T03:07:31.523762Z",
     "start_time": "2019-09-29T03:07:31.497683Z"
    },
    "colab": {
     "base_uri": "https://localhost:8080/",
     "height": 34
    },
    "colab_type": "code",
    "executionInfo": {
     "elapsed": 3388,
     "status": "ok",
     "timestamp": 1576024733531,
     "user": {
      "displayName": "Roberto Lotufo",
      "photoUrl": "https://lh3.googleusercontent.com/a-/AAuE7mAo8mNkCwYHBAV6lSJd0DmUs3TylYJJcHpvSYSJKg=s64",
      "userId": "00857172468435692304"
     },
     "user_tz": 180
    },
    "id": "eL_i1mwGCZtw",
    "outputId": "4b39ed14-a0fe-4a51-f41b-56780aabcac8"
   },
   "outputs": [
    {
     "data": {
      "text/plain": [
       "tensor([1.], requires_grad=True)"
      ]
     },
     "execution_count": 5,
     "metadata": {},
     "output_type": "execute_result"
    }
   ],
   "source": [
    "w = torch.ones(1,requires_grad=True); w"
   ]
  },
  {
   "cell_type": "markdown",
   "metadata": {
    "colab_type": "text",
    "id": "qjEl-0l7CZt0"
   },
   "source": [
    "## Cálculo automático do gradiente da função perda J"
   ]
  },
  {
   "cell_type": "markdown",
   "metadata": {
    "colab_type": "text",
    "id": "8pUh-SCnCZt1"
   },
   "source": [
    "Seja a expressão: $$ J = \\sum ((x  w) - y)^2 $$\n",
    "\n",
    "Queremos calcular a derivada de $J$ em relação a $w$."
   ]
  },
  {
   "cell_type": "markdown",
   "metadata": {
    "colab_type": "text",
    "id": "eMwwVtJ1CZt2"
   },
   "source": [
    "### Montagem do grafo computacional"
   ]
  },
  {
   "cell_type": "code",
   "execution_count": 6,
   "metadata": {
    "ExecuteTime": {
     "end_time": "2019-09-29T03:07:36.290122Z",
     "start_time": "2019-09-29T03:07:36.273229Z"
    },
    "colab": {
     "base_uri": "https://localhost:8080/",
     "height": 34
    },
    "colab_type": "code",
    "executionInfo": {
     "elapsed": 3355,
     "status": "ok",
     "timestamp": 1576024733531,
     "user": {
      "displayName": "Roberto Lotufo",
      "photoUrl": "https://lh3.googleusercontent.com/a-/AAuE7mAo8mNkCwYHBAV6lSJd0DmUs3TylYJJcHpvSYSJKg=s64",
      "userId": "00857172468435692304"
     },
     "user_tz": 180
    },
    "id": "zp2aK4YhCZt3",
    "outputId": "29ce6a8f-d308-4737-9c24-2dbff33c9202"
   },
   "outputs": [
    {
     "data": {
      "text/plain": [
       "tensor(14., grad_fn=<SumBackward0>)"
      ]
     },
     "execution_count": 6,
     "metadata": {},
     "output_type": "execute_result"
    }
   ],
   "source": [
    "# predict (forward)\n",
    "y_pred = x * w\n",
    "\n",
    "# cálculo da perda J: loss\n",
    "e = y_pred - y\n",
    "e2 = e.pow(2)\n",
    "J = e2.sum()\n",
    "J"
   ]
  },
  {
   "cell_type": "markdown",
   "metadata": {
    "colab_type": "text",
    "id": "XC96wB7PCZt8"
   },
   "source": [
    "## Auto grad - processa o grafo computacional backwards"
   ]
  },
  {
   "cell_type": "markdown",
   "metadata": {
    "ExecuteTime": {
     "end_time": "2017-10-04T15:55:45.308858",
     "start_time": "2017-10-04T15:55:45.304654"
    },
    "colab_type": "text",
    "id": "kKbf4D0CCZt-"
   },
   "source": [
    "O `backward()` varre o grafo computacional a partir da variável a ele associada e calcula o gradiente para todos os tensores que possuem o atributo `requires_grad` como verdadeiro.\n",
    "O `backward()` destroi o grafo após sua execução. Isso é intrínsico ao PyTorch pelo fato dele ser uma rede dinâmica.\n",
    "\n",
    "w.grad é o gradiente de J em relação a w."
   ]
  },
  {
   "cell_type": "code",
   "execution_count": 7,
   "metadata": {
    "ExecuteTime": {
     "end_time": "2019-09-29T03:07:40.267334Z",
     "start_time": "2019-09-29T03:07:40.247422Z"
    },
    "colab": {
     "base_uri": "https://localhost:8080/",
     "height": 34
    },
    "colab_type": "code",
    "executionInfo": {
     "elapsed": 3321,
     "status": "ok",
     "timestamp": 1576024733532,
     "user": {
      "displayName": "Roberto Lotufo",
      "photoUrl": "https://lh3.googleusercontent.com/a-/AAuE7mAo8mNkCwYHBAV6lSJd0DmUs3TylYJJcHpvSYSJKg=s64",
      "userId": "00857172468435692304"
     },
     "user_tz": 180
    },
    "id": "Z1lnkb0GCZt_",
    "outputId": "6cb5c74b-ece8-4397-9870-2f7f6581491e"
   },
   "outputs": [
    {
     "name": "stdout",
     "output_type": "stream",
     "text": [
      "tensor([-28.])\n"
     ]
    }
   ],
   "source": [
    "J.backward()\n",
    "print(w.grad)"
   ]
  },
  {
   "cell_type": "code",
   "execution_count": 8,
   "metadata": {
    "ExecuteTime": {
     "end_time": "2019-09-29T03:07:42.637508Z",
     "start_time": "2019-09-29T03:07:42.627818Z"
    },
    "colab": {},
    "colab_type": "code",
    "id": "NJWgpQbICZuD"
   },
   "outputs": [],
   "source": [
    "w.grad.data.zero_();"
   ]
  },
  {
   "cell_type": "markdown",
   "metadata": {
    "colab_type": "text",
    "id": "j-HTDCpBCZuH"
   },
   "source": [
    "# Exercícios\n",
    "\n",
    "\n"
   ]
  },
  {
   "cell_type": "markdown",
   "metadata": {
    "colab_type": "text",
    "id": "LsOThnt8fDJV"
   },
   "source": [
    "1. Calcule o mesmo gradiente usando a regra das diferenças finitas, de acordo com a equação a seguir, utilizando um valor de $\\Delta w$ bem pequeno.\n",
    "\n",
    "$$ \\frac{\\partial J}{\\partial w} = \\frac{J(w + \\Delta w) - J(w - \\Delta w)}{2 \\Delta w} $$"
   ]
  },
  {
   "cell_type": "code",
   "execution_count": 9,
   "metadata": {
    "colab": {},
    "colab_type": "code",
    "id": "62nZAfUoCZu5"
   },
   "outputs": [],
   "source": [
    "def J(w):\n",
    "    return ((x*w - y)**2).sum()\n",
    "\n",
    "def dJ(w,dw=1e-4):\n",
    "    # Cálculo da derivada de J em relação a w usando diferenças finitas\n",
    "    return (J(w + dw) - J(w - dw))/ (2*dw)"
   ]
  },
  {
   "cell_type": "markdown",
   "metadata": {
    "colab_type": "text",
    "id": "NLIevG8lhYXO"
   },
   "source": [
    "2. Calcule as derivadas primeira, segunda, terceira e quarta, da função tangente hiperbólica\n",
    "\n",
    "[Veja o exemplo 1: Derivatives of a function](https://colindcarroll.com/2019/04/06/exercises-in-automatic-differentiation-using-autograd-and-jax/)\n",
    "\n",
    "A seguir está o plot da tangente hiperbólica:"
   ]
  },
  {
   "cell_type": "code",
   "execution_count": 10,
   "metadata": {
    "colab": {},
    "colab_type": "code",
    "id": "PMI-Yo_MhWzq"
   },
   "outputs": [],
   "source": [
    "import matplotlib.pyplot as plt\n",
    "import numpy as np"
   ]
  },
  {
   "cell_type": "code",
   "execution_count": 11,
   "metadata": {
    "colab": {
     "base_uri": "https://localhost:8080/",
     "height": 282
    },
    "colab_type": "code",
    "executionInfo": {
     "elapsed": 678,
     "status": "ok",
     "timestamp": 1576027141229,
     "user": {
      "displayName": "Roberto Lotufo",
      "photoUrl": "https://lh3.googleusercontent.com/a-/AAuE7mAo8mNkCwYHBAV6lSJd0DmUs3TylYJJcHpvSYSJKg=s64",
      "userId": "00857172468435692304"
     },
     "user_tz": 180
    },
    "id": "SooCERSjiBBA",
    "outputId": "28dfcb29-03ed-46be-f5ff-41f2a7f4e3b3"
   },
   "outputs": [
    {
     "data": {
      "text/plain": [
       "[<matplotlib.lines.Line2D at 0x7fb19ea3c310>]"
      ]
     },
     "execution_count": 11,
     "metadata": {},
     "output_type": "execute_result"
    },
    {
     "data": {
      "image/png": "[encoded data removed]",
      "text/plain": [
       "<Figure size 432x288 with 1 Axes>"
      ]
     },
     "metadata": {
      "needs_background": "light"
     },
     "output_type": "display_data"
    }
   ],
   "source": [
    "x = np.linspace(-4, 4, 1000)\n",
    "plt.plot(x,np.tanh(x))"
   ]
  },
  {
   "cell_type": "markdown",
   "metadata": {
    "colab_type": "text",
    "id": "BIIqesTBjIhr"
   },
   "source": [
    "2a) Calcule as derivadas primeira, segunda, terceira e quarta da tangente hiperbólica conforme a figura do exemplo do link, usando o cálculo da derivada por diferenças finitas."
   ]
  },
  {
   "cell_type": "code",
   "execution_count": 69,
   "metadata": {},
   "outputs": [
    {
     "data": {
      "text/plain": [
       "[<matplotlib.lines.Line2D at 0x7fb18f7d9350>]"
      ]
     },
     "execution_count": 69,
     "metadata": {},
     "output_type": "execute_result"
    },
    {
     "data": {
      "image/png": "[encoded data removed]",
      "text/plain": [
       "<Figure size 720x504 with 1 Axes>"
      ]
     },
     "metadata": {
      "needs_background": "light"
     },
     "output_type": "display_data"
    }
   ],
   "source": [
    "fig, ax = plt.subplots(figsize=(10, 7))\n",
    "z = torch.linspace(-4, 4, 1000)\n",
    "my_func = torch.tanh\n",
    "ax.plot(z, my_func(z))\n",
    "\n",
    "dw = 1e-1\n",
    "\n",
    "z1 = (my_func(z + dw) - my_func(z - dw))/ (2*dw)\n",
    "ax.plot(z, z1)\n",
    "\n",
    "z1 = (my_func(z - dw) - 2*my_func(z) + my_func(z + dw))/ (dw**2)\n",
    "ax.plot(z, z1)\n",
    "\n",
    "z1 = (my_func(z + 3*dw) - 3*my_func(z + 2*dw) + 3*my_func(z + dw) - my_func(z))/ (dw**3)\n",
    "ax.plot(z, z1)\n",
    "\n",
    "z1 = (my_func(z + 4*dw) - 4*my_func(z + 3*dw) + 6*my_func(z + 2*dw) - 4*my_func(z + dw) + my_func(z))/ (dw**4)\n",
    "ax.plot(z, z1)"
   ]
  },
  {
   "cell_type": "markdown",
   "metadata": {
    "colab_type": "text",
    "id": "ullTZXRnjuGR"
   },
   "source": [
    "2b) Repita o exercício anterior, porém usando agora o cálculo da derivada, a facilidade do autograd do PyTorch, isto é, utilize o ``.backward()`` do PyTorch para calcular o gradiente na repetição do exercício anterior."
   ]
  },
  {
   "cell_type": "code",
   "execution_count": 251,
   "metadata": {
    "scrolled": false
   },
   "outputs": [
    {
     "data": {
      "image/png": "[encoded data removed]",
      "text/plain": [
       "<Figure size 720x504 with 1 Axes>"
      ]
     },
     "metadata": {
      "needs_background": "light"
     },
     "output_type": "display_data"
    }
   ],
   "source": [
    "fig, ax = plt.subplots(figsize=(10, 7))\n",
    "z = torch.linspace(-4, 4, 1000, requires_grad=True)\n",
    "ax.plot(z.detach(), torch.tanh(z).detach())\n",
    "\n",
    "#primeira\n",
    "z1 = torch.tanh(z).sum()\n",
    "z1.backward(create_graph=True)\n",
    "ax.plot(z.detach(), z.grad.detach())\n",
    "\n",
    "for _ in range(3):\n",
    "    z1 = z.grad.sum()\n",
    "    z.grad.zero_()\n",
    "    z1.backward(create_graph=True)\n",
    "    ax.plot(z.detach(), z.grad.detach())"
   ]
  }
 ],
 "metadata": {
  "colab": {
   "collapsed_sections": [],
   "name": "Exercicio_PyTorch_Autograd.ipynb",
   "provenance": [
    {
     "file_id": "1Je2YaswTBaOSgtJd___RXdEyT0JBveF4",
     "timestamp": 1576025052940
    }
   ],
   "toc_visible": true
  },
  "kernelspec": {
   "display_name": "Python [conda env:bertenv]",
   "language": "python",
   "name": "conda-env-bertenv-py"
  },
  "language_info": {
   "codemirror_mode": {
    "name": "ipython",
    "version": 3
   },
   "file_extension": ".py",
   "mimetype": "text/x-python",
   "name": "python",
   "nbconvert_exporter": "python",
   "pygments_lexer": "ipython3",
   "version": "3.7.4"
  },
  "toc": {
   "base_numbering": 1,
   "nav_menu": {
    "height": "117px",
    "width": "252px"
   },
   "number_sections": true,
   "sideBar": true,
   "skip_h1_title": false,
   "title_cell": "Table of Contents",
   "title_sidebar": "Contents",
   "toc_cell": false,
   "toc_position": {},
   "toc_section_display": "block",
   "toc_window_display": false
  },
  "varInspector": {
   "cols": {
    "lenName": 16,
    "lenType": 16,
    "lenVar": 40
   },
   "kernels_config": {
    "python": {
     "delete_cmd_postfix": "",
     "delete_cmd_prefix": "del ",
     "library": "var_list.py",
     "varRefreshCmd": "print(var_dic_list())"
    },
    "r": {
     "delete_cmd_postfix": ") ",
     "delete_cmd_prefix": "rm(",
     "library": "var_list.r",
     "varRefreshCmd": "cat(var_dic_list()) "
    }
   },
   "types_to_exclude": [
    "module",
    "function",
    "builtin_function_or_method",
    "instance",
    "_Feature"
   ],
   "window_display": false
  }
 },
 "nbformat": 4,
 "nbformat_minor": 1
}
