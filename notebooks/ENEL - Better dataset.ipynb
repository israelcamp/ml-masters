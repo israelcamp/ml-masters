{
 "cells": [
  {
   "cell_type": "code",
   "execution_count": 1,
   "metadata": {},
   "outputs": [],
   "source": [
    "import sys\n",
    "sys.path.append('../')"
   ]
  },
  {
   "cell_type": "code",
   "execution_count": 2,
   "metadata": {},
   "outputs": [],
   "source": [
    "import random"
   ]
  },
  {
   "cell_type": "code",
   "execution_count": 3,
   "metadata": {},
   "outputs": [],
   "source": [
    "import pandas as pd\n",
    "import numpy as np\n",
    "from tqdm import tqdm_notebook as tqdm\n",
    "from sklearn.metrics import confusion_matrix, accuracy_score, f1_score, auc, roc_auc_score\n",
    "from sklearn.metrics import precision_recall_curve, average_precision_score\n",
    "from sklearn.model_selection import train_test_split"
   ]
  },
  {
   "cell_type": "code",
   "execution_count": 4,
   "metadata": {},
   "outputs": [],
   "source": [
    "import torch\n",
    "from torch import nn\n",
    "from torch.utils.data import DataLoader, Dataset "
   ]
  },
  {
   "cell_type": "code",
   "execution_count": 5,
   "metadata": {},
   "outputs": [],
   "source": [
    "from mlpack.utils import to_device, to_fp16\n",
    "from mlpack.trainer import TrainArgs, BaseTrainer"
   ]
  },
  {
   "cell_type": "markdown",
   "metadata": {},
   "source": [
    "# Data"
   ]
  },
  {
   "cell_type": "code",
   "execution_count": 6,
   "metadata": {},
   "outputs": [
    {
     "data": {
      "text/html": [
       "<div>\n",
       "<style scoped>\n",
       "    .dataframe tbody tr th:only-of-type {\n",
       "        vertical-align: middle;\n",
       "    }\n",
       "\n",
       "    .dataframe tbody tr th {\n",
       "        vertical-align: top;\n",
       "    }\n",
       "\n",
       "    .dataframe thead th {\n",
       "        text-align: right;\n",
       "    }\n",
       "</style>\n",
       "<table border=\"1\" class=\"dataframe\">\n",
       "  <thead>\n",
       "    <tr style=\"text-align: right;\">\n",
       "      <th></th>\n",
       "      <th>2014-01-01 00:00:00</th>\n",
       "      <th>2014-01-02 00:00:00</th>\n",
       "      <th>2014-01-03 00:00:00</th>\n",
       "      <th>2014-01-04 00:00:00</th>\n",
       "      <th>2014-01-05 00:00:00</th>\n",
       "      <th>2014-01-06 00:00:00</th>\n",
       "      <th>2014-01-07 00:00:00</th>\n",
       "      <th>2014-01-08 00:00:00</th>\n",
       "      <th>2014-01-09 00:00:00</th>\n",
       "      <th>2014-01-10 00:00:00</th>\n",
       "      <th>...</th>\n",
       "      <th>2016-10-23 00:00:00</th>\n",
       "      <th>2016-10-24 00:00:00</th>\n",
       "      <th>2016-10-25 00:00:00</th>\n",
       "      <th>2016-10-26 00:00:00</th>\n",
       "      <th>2016-10-27 00:00:00</th>\n",
       "      <th>2016-10-28 00:00:00</th>\n",
       "      <th>2016-10-29 00:00:00</th>\n",
       "      <th>2016-10-30 00:00:00</th>\n",
       "      <th>2016-10-31 00:00:00</th>\n",
       "      <th>flag</th>\n",
       "    </tr>\n",
       "    <tr>\n",
       "      <th>CONS_NO</th>\n",
       "      <th></th>\n",
       "      <th></th>\n",
       "      <th></th>\n",
       "      <th></th>\n",
       "      <th></th>\n",
       "      <th></th>\n",
       "      <th></th>\n",
       "      <th></th>\n",
       "      <th></th>\n",
       "      <th></th>\n",
       "      <th></th>\n",
       "      <th></th>\n",
       "      <th></th>\n",
       "      <th></th>\n",
       "      <th></th>\n",
       "      <th></th>\n",
       "      <th></th>\n",
       "      <th></th>\n",
       "      <th></th>\n",
       "      <th></th>\n",
       "      <th></th>\n",
       "    </tr>\n",
       "  </thead>\n",
       "  <tbody>\n",
       "    <tr>\n",
       "      <td>0387DD8A07E07FDA6271170F86AD9151</td>\n",
       "      <td>0.000000</td>\n",
       "      <td>0.000000</td>\n",
       "      <td>0.000000</td>\n",
       "      <td>0.000000</td>\n",
       "      <td>0.000000</td>\n",
       "      <td>0.000000</td>\n",
       "      <td>0.000000</td>\n",
       "      <td>0.000000</td>\n",
       "      <td>0.000000</td>\n",
       "      <td>0.000000</td>\n",
       "      <td>...</td>\n",
       "      <td>0.305338</td>\n",
       "      <td>0.306095</td>\n",
       "      <td>0.360579</td>\n",
       "      <td>0.207343</td>\n",
       "      <td>0.331067</td>\n",
       "      <td>0.351877</td>\n",
       "      <td>0.285285</td>\n",
       "      <td>0.346580</td>\n",
       "      <td>0.255016</td>\n",
       "      <td>1</td>\n",
       "    </tr>\n",
       "    <tr>\n",
       "      <td>01D6177B5D4FFE0CABA9EF17DAFC2B84</td>\n",
       "      <td>0.000000</td>\n",
       "      <td>0.000000</td>\n",
       "      <td>0.000000</td>\n",
       "      <td>0.000000</td>\n",
       "      <td>0.000000</td>\n",
       "      <td>0.000000</td>\n",
       "      <td>0.000000</td>\n",
       "      <td>0.000000</td>\n",
       "      <td>0.000000</td>\n",
       "      <td>0.000000</td>\n",
       "      <td>...</td>\n",
       "      <td>0.000000</td>\n",
       "      <td>0.000000</td>\n",
       "      <td>0.000000</td>\n",
       "      <td>0.000000</td>\n",
       "      <td>0.000000</td>\n",
       "      <td>0.000000</td>\n",
       "      <td>0.000000</td>\n",
       "      <td>0.000000</td>\n",
       "      <td>0.000000</td>\n",
       "      <td>1</td>\n",
       "    </tr>\n",
       "    <tr>\n",
       "      <td>4B75AC4F2D8434CFF62DB64D0BB43103</td>\n",
       "      <td>0.000000</td>\n",
       "      <td>0.000000</td>\n",
       "      <td>0.000000</td>\n",
       "      <td>0.000000</td>\n",
       "      <td>0.000000</td>\n",
       "      <td>0.000000</td>\n",
       "      <td>0.000000</td>\n",
       "      <td>0.000000</td>\n",
       "      <td>0.000000</td>\n",
       "      <td>0.000000</td>\n",
       "      <td>...</td>\n",
       "      <td>1.000000</td>\n",
       "      <td>1.000000</td>\n",
       "      <td>1.000000</td>\n",
       "      <td>1.000000</td>\n",
       "      <td>1.000000</td>\n",
       "      <td>1.000000</td>\n",
       "      <td>1.000000</td>\n",
       "      <td>1.000000</td>\n",
       "      <td>0.963074</td>\n",
       "      <td>1</td>\n",
       "    </tr>\n",
       "    <tr>\n",
       "      <td>B32AC8CC6D5D805AC053557AB05F5343</td>\n",
       "      <td>0.000000</td>\n",
       "      <td>0.000000</td>\n",
       "      <td>0.000000</td>\n",
       "      <td>0.000000</td>\n",
       "      <td>0.000000</td>\n",
       "      <td>0.000000</td>\n",
       "      <td>0.000000</td>\n",
       "      <td>0.000000</td>\n",
       "      <td>0.000000</td>\n",
       "      <td>0.000000</td>\n",
       "      <td>...</td>\n",
       "      <td>0.497605</td>\n",
       "      <td>0.568034</td>\n",
       "      <td>0.490694</td>\n",
       "      <td>0.644715</td>\n",
       "      <td>0.684207</td>\n",
       "      <td>0.590742</td>\n",
       "      <td>0.633854</td>\n",
       "      <td>0.475885</td>\n",
       "      <td>0.385710</td>\n",
       "      <td>1</td>\n",
       "    </tr>\n",
       "    <tr>\n",
       "      <td>EDFC78B07BA2908B3395C4EB2304665E</td>\n",
       "      <td>0.106331</td>\n",
       "      <td>0.248451</td>\n",
       "      <td>0.318474</td>\n",
       "      <td>0.128116</td>\n",
       "      <td>0.143158</td>\n",
       "      <td>0.233409</td>\n",
       "      <td>0.201251</td>\n",
       "      <td>0.146789</td>\n",
       "      <td>0.139008</td>\n",
       "      <td>0.133303</td>\n",
       "      <td>...</td>\n",
       "      <td>0.486010</td>\n",
       "      <td>0.395240</td>\n",
       "      <td>0.272830</td>\n",
       "      <td>0.272311</td>\n",
       "      <td>0.304988</td>\n",
       "      <td>0.345965</td>\n",
       "      <td>0.520762</td>\n",
       "      <td>0.467337</td>\n",
       "      <td>0.408207</td>\n",
       "      <td>1</td>\n",
       "    </tr>\n",
       "  </tbody>\n",
       "</table>\n",
       "<p>5 rows × 1035 columns</p>\n",
       "</div>"
      ],
      "text/plain": [
       "                                  2014-01-01 00:00:00  2014-01-02 00:00:00  \\\n",
       "CONS_NO                                                                      \n",
       "0387DD8A07E07FDA6271170F86AD9151             0.000000             0.000000   \n",
       "01D6177B5D4FFE0CABA9EF17DAFC2B84             0.000000             0.000000   \n",
       "4B75AC4F2D8434CFF62DB64D0BB43103             0.000000             0.000000   \n",
       "B32AC8CC6D5D805AC053557AB05F5343             0.000000             0.000000   \n",
       "EDFC78B07BA2908B3395C4EB2304665E             0.106331             0.248451   \n",
       "\n",
       "                                  2014-01-03 00:00:00  2014-01-04 00:00:00  \\\n",
       "CONS_NO                                                                      \n",
       "0387DD8A07E07FDA6271170F86AD9151             0.000000             0.000000   \n",
       "01D6177B5D4FFE0CABA9EF17DAFC2B84             0.000000             0.000000   \n",
       "4B75AC4F2D8434CFF62DB64D0BB43103             0.000000             0.000000   \n",
       "B32AC8CC6D5D805AC053557AB05F5343             0.000000             0.000000   \n",
       "EDFC78B07BA2908B3395C4EB2304665E             0.318474             0.128116   \n",
       "\n",
       "                                  2014-01-05 00:00:00  2014-01-06 00:00:00  \\\n",
       "CONS_NO                                                                      \n",
       "0387DD8A07E07FDA6271170F86AD9151             0.000000             0.000000   \n",
       "01D6177B5D4FFE0CABA9EF17DAFC2B84             0.000000             0.000000   \n",
       "4B75AC4F2D8434CFF62DB64D0BB43103             0.000000             0.000000   \n",
       "B32AC8CC6D5D805AC053557AB05F5343             0.000000             0.000000   \n",
       "EDFC78B07BA2908B3395C4EB2304665E             0.143158             0.233409   \n",
       "\n",
       "                                  2014-01-07 00:00:00  2014-01-08 00:00:00  \\\n",
       "CONS_NO                                                                      \n",
       "0387DD8A07E07FDA6271170F86AD9151             0.000000             0.000000   \n",
       "01D6177B5D4FFE0CABA9EF17DAFC2B84             0.000000             0.000000   \n",
       "4B75AC4F2D8434CFF62DB64D0BB43103             0.000000             0.000000   \n",
       "B32AC8CC6D5D805AC053557AB05F5343             0.000000             0.000000   \n",
       "EDFC78B07BA2908B3395C4EB2304665E             0.201251             0.146789   \n",
       "\n",
       "                                  2014-01-09 00:00:00  2014-01-10 00:00:00  \\\n",
       "CONS_NO                                                                      \n",
       "0387DD8A07E07FDA6271170F86AD9151             0.000000             0.000000   \n",
       "01D6177B5D4FFE0CABA9EF17DAFC2B84             0.000000             0.000000   \n",
       "4B75AC4F2D8434CFF62DB64D0BB43103             0.000000             0.000000   \n",
       "B32AC8CC6D5D805AC053557AB05F5343             0.000000             0.000000   \n",
       "EDFC78B07BA2908B3395C4EB2304665E             0.139008             0.133303   \n",
       "\n",
       "                                  ...  2016-10-23 00:00:00  \\\n",
       "CONS_NO                           ...                        \n",
       "0387DD8A07E07FDA6271170F86AD9151  ...             0.305338   \n",
       "01D6177B5D4FFE0CABA9EF17DAFC2B84  ...             0.000000   \n",
       "4B75AC4F2D8434CFF62DB64D0BB43103  ...             1.000000   \n",
       "B32AC8CC6D5D805AC053557AB05F5343  ...             0.497605   \n",
       "EDFC78B07BA2908B3395C4EB2304665E  ...             0.486010   \n",
       "\n",
       "                                  2016-10-24 00:00:00  2016-10-25 00:00:00  \\\n",
       "CONS_NO                                                                      \n",
       "0387DD8A07E07FDA6271170F86AD9151             0.306095             0.360579   \n",
       "01D6177B5D4FFE0CABA9EF17DAFC2B84             0.000000             0.000000   \n",
       "4B75AC4F2D8434CFF62DB64D0BB43103             1.000000             1.000000   \n",
       "B32AC8CC6D5D805AC053557AB05F5343             0.568034             0.490694   \n",
       "EDFC78B07BA2908B3395C4EB2304665E             0.395240             0.272830   \n",
       "\n",
       "                                  2016-10-26 00:00:00  2016-10-27 00:00:00  \\\n",
       "CONS_NO                                                                      \n",
       "0387DD8A07E07FDA6271170F86AD9151             0.207343             0.331067   \n",
       "01D6177B5D4FFE0CABA9EF17DAFC2B84             0.000000             0.000000   \n",
       "4B75AC4F2D8434CFF62DB64D0BB43103             1.000000             1.000000   \n",
       "B32AC8CC6D5D805AC053557AB05F5343             0.644715             0.684207   \n",
       "EDFC78B07BA2908B3395C4EB2304665E             0.272311             0.304988   \n",
       "\n",
       "                                  2016-10-28 00:00:00  2016-10-29 00:00:00  \\\n",
       "CONS_NO                                                                      \n",
       "0387DD8A07E07FDA6271170F86AD9151             0.351877             0.285285   \n",
       "01D6177B5D4FFE0CABA9EF17DAFC2B84             0.000000             0.000000   \n",
       "4B75AC4F2D8434CFF62DB64D0BB43103             1.000000             1.000000   \n",
       "B32AC8CC6D5D805AC053557AB05F5343             0.590742             0.633854   \n",
       "EDFC78B07BA2908B3395C4EB2304665E             0.345965             0.520762   \n",
       "\n",
       "                                  2016-10-30 00:00:00  2016-10-31 00:00:00  \\\n",
       "CONS_NO                                                                      \n",
       "0387DD8A07E07FDA6271170F86AD9151             0.346580             0.255016   \n",
       "01D6177B5D4FFE0CABA9EF17DAFC2B84             0.000000             0.000000   \n",
       "4B75AC4F2D8434CFF62DB64D0BB43103             1.000000             0.963074   \n",
       "B32AC8CC6D5D805AC053557AB05F5343             0.475885             0.385710   \n",
       "EDFC78B07BA2908B3395C4EB2304665E             0.467337             0.408207   \n",
       "\n",
       "                                  flag  \n",
       "CONS_NO                                 \n",
       "0387DD8A07E07FDA6271170F86AD9151     1  \n",
       "01D6177B5D4FFE0CABA9EF17DAFC2B84     1  \n",
       "4B75AC4F2D8434CFF62DB64D0BB43103     1  \n",
       "B32AC8CC6D5D805AC053557AB05F5343     1  \n",
       "EDFC78B07BA2908B3395C4EB2304665E     1  \n",
       "\n",
       "[5 rows x 1035 columns]"
      ]
     },
     "execution_count": 6,
     "metadata": {},
     "output_type": "execute_result"
    }
   ],
   "source": [
    "df = pd.read_csv('../datasets/ENEL/dataset.csv', sep='\\t', index_col=0)\n",
    "df.head()"
   ]
  },
  {
   "cell_type": "code",
   "execution_count": 148,
   "metadata": {},
   "outputs": [],
   "source": [
    "df_train, df_valid = train_test_split(df, random_state=1, test_size=0.2, shuffle=True)"
   ]
  },
  {
   "cell_type": "code",
   "execution_count": 149,
   "metadata": {},
   "outputs": [],
   "source": [
    "data_train = df_train.values\n",
    "data_valid = df_valid.values"
   ]
  },
  {
   "cell_type": "code",
   "execution_count": 150,
   "metadata": {},
   "outputs": [],
   "source": [
    "train2valid_indices = np.load('train2valid.npy')\n",
    "valid2train_indices = np.load('valid2train.npy')"
   ]
  },
  {
   "cell_type": "code",
   "execution_count": 151,
   "metadata": {},
   "outputs": [],
   "source": [
    "train2valid_data = data_train[train2valid_indices]"
   ]
  },
  {
   "cell_type": "code",
   "execution_count": 152,
   "metadata": {},
   "outputs": [],
   "source": [
    "valid2train_data = data_valid[valid2train_indices]"
   ]
  },
  {
   "cell_type": "code",
   "execution_count": 153,
   "metadata": {},
   "outputs": [
    {
     "data": {
      "text/plain": [
       "(392, 1035)"
      ]
     },
     "execution_count": 153,
     "metadata": {},
     "output_type": "execute_result"
    }
   ],
   "source": [
    "valid2train_data.shape"
   ]
  },
  {
   "cell_type": "code",
   "execution_count": 154,
   "metadata": {},
   "outputs": [],
   "source": [
    "data_train = np.delete(data_train, train2valid_indices, axis=0)\n",
    "data_train = np.concatenate((data_train, valid2train_data), axis=0)"
   ]
  },
  {
   "cell_type": "code",
   "execution_count": 155,
   "metadata": {},
   "outputs": [],
   "source": [
    "data_valid = np.delete(data_valid, valid2train_indices, axis=0)\n",
    "data_valid = np.concatenate((data_valid, train2valid_data), axis=0)"
   ]
  },
  {
   "cell_type": "code",
   "execution_count": 157,
   "metadata": {},
   "outputs": [],
   "source": [
    "x_train = data_train[:,:-1]\n",
    "y_train = data_train[:,-1]\n",
    "\n",
    "x_valid = data_valid[:,:-1]\n",
    "y_valid = data_valid[:,-1]"
   ]
  },
  {
   "cell_type": "code",
   "execution_count": 158,
   "metadata": {},
   "outputs": [],
   "source": [
    "x_train = np.concatenate(([2*[0] for _ in range(len(x_train))], x_train), axis=1)\n",
    "x_valid = np.concatenate(([2*[0] for _ in range(len(x_valid))], x_valid), axis=1)"
   ]
  },
  {
   "cell_type": "code",
   "execution_count": 159,
   "metadata": {},
   "outputs": [
    {
     "data": {
      "text/plain": [
       "((33897, 1036), (8475, 1036))"
      ]
     },
     "execution_count": 159,
     "metadata": {},
     "output_type": "execute_result"
    }
   ],
   "source": [
    "x_train.shape, x_valid.shape"
   ]
  },
  {
   "cell_type": "code",
   "execution_count": 160,
   "metadata": {},
   "outputs": [],
   "source": [
    "x_train = x_train.reshape(len(x_train), -1, 7)\n",
    "x_train = np.expand_dims(x_train, 1)\n",
    "\n",
    "x_valid = x_valid.reshape(len(x_valid), -1, 7)\n",
    "x_valid = np.expand_dims(x_valid, 1)"
   ]
  },
  {
   "cell_type": "code",
   "execution_count": 161,
   "metadata": {},
   "outputs": [],
   "source": [
    "x_train = x_train.transpose(0, 1, 3, 2)"
   ]
  },
  {
   "cell_type": "code",
   "execution_count": 162,
   "metadata": {},
   "outputs": [],
   "source": [
    "x_valid = x_valid.transpose(0, 1, 3, 2)"
   ]
  },
  {
   "cell_type": "code",
   "execution_count": 163,
   "metadata": {},
   "outputs": [
    {
     "data": {
      "text/plain": [
       "(8475, 33897)"
      ]
     },
     "execution_count": 163,
     "metadata": {},
     "output_type": "execute_result"
    }
   ],
   "source": [
    "len(x_valid), len(x_train)"
   ]
  },
  {
   "cell_type": "markdown",
   "metadata": {},
   "source": [
    "# Dataset"
   ]
  },
  {
   "cell_type": "code",
   "execution_count": 52,
   "metadata": {},
   "outputs": [],
   "source": [
    "class ENELDataset(Dataset):\n",
    "    def __init__(self, x, y):\n",
    "        self.x, self.y = x, y\n",
    "        \n",
    "    def __len__(self):\n",
    "        return len(self.x)\n",
    "    \n",
    "    def __getitem__(self, idx):\n",
    "        x, y = self.x[idx], self.y[idx]        \n",
    "        return x.astype(np.float32), y.astype(np.int64)"
   ]
  },
  {
   "cell_type": "code",
   "execution_count": 53,
   "metadata": {},
   "outputs": [],
   "source": [
    "ds_train = ENELDataset(x_train, y_train)\n",
    "ds_valid = ENELDataset(x_valid, y_valid)"
   ]
  },
  {
   "cell_type": "code",
   "execution_count": 54,
   "metadata": {},
   "outputs": [],
   "source": [
    "dl_train = DataLoader(ds_train, batch_size=64, shuffle=False, pin_memory=True, num_workers=4)\n",
    "dl_valid = DataLoader(ds_valid, batch_size=64, shuffle=False, pin_memory=True, num_workers=4)"
   ]
  },
  {
   "cell_type": "markdown",
   "metadata": {},
   "source": [
    "# Models"
   ]
  },
  {
   "cell_type": "code",
   "execution_count": 25,
   "metadata": {},
   "outputs": [],
   "source": [
    "device = 'cuda' if torch.cuda.is_available() else 'cpu'\n",
    "# device = 'cpu'"
   ]
  },
  {
   "cell_type": "code",
   "execution_count": 29,
   "metadata": {},
   "outputs": [],
   "source": [
    "class SelfAttentionConv(nn.Module):\n",
    "    \n",
    "    def __init__(self, *args, **kwargs):\n",
    "        super().__init__()\n",
    "        \n",
    "        self.query = nn.Conv2d(*args, **kwargs)\n",
    "        self.key = nn.Conv2d(*args, **kwargs)\n",
    "        self.value = nn.Conv2d(*args, **kwargs)\n",
    "        \n",
    "        self.d = self.query.out_channels**(0.5)\n",
    "        \n",
    "    def forward(self, *args, **kwargs):\n",
    "        query = self.query(*args, **kwargs)\n",
    "        key = self.key(*args, **kwargs)\n",
    "        value = self.value(*args, **kwargs)\n",
    "        \n",
    "        attention = torch.matmul(query, key.transpose(-2, -1))\n",
    "        attention = attention / self.d\n",
    "        attention = nn.Softmax(dim=-1)(attention)\n",
    "        attention = torch.matmul(attention, value)\n",
    "        return attention"
   ]
  },
  {
   "cell_type": "code",
   "execution_count": 30,
   "metadata": {},
   "outputs": [],
   "source": [
    "class MySelfConvModel(nn.Module):\n",
    "    \n",
    "    def __init__(self):\n",
    "        super().__init__()\n",
    "        self.net = nn.Sequential(\n",
    "            self.block(1, 90),\n",
    "            self.block(90,90),\n",
    "            nn.MaxPool2d(3)\n",
    "        )\n",
    "        self.classifier = nn.Linear(90 * 2 * 49, 2)\n",
    "        \n",
    "    def block(self, in_channels, out_channels, dropout=0.1):\n",
    "        return nn.Sequential(\n",
    "            SelfAttentionConv(in_channels, out_channels, kernel_size=3, padding=1),  # n x out_channels x m x out_features\n",
    "            nn.ReLU(),\n",
    "            nn.Dropout(dropout),\n",
    "        )\n",
    "    \n",
    "    def forward(self, x):\n",
    "        o = self.net(x)\n",
    "        o = o.view(x.shape[0], -1)\n",
    "        o = self.classifier(o)\n",
    "        return o"
   ]
  },
  {
   "cell_type": "code",
   "execution_count": 31,
   "metadata": {},
   "outputs": [],
   "source": [
    "model = MySelfConvModel()"
   ]
  },
  {
   "cell_type": "code",
   "execution_count": 32,
   "metadata": {},
   "outputs": [
    {
     "data": {
      "text/plain": [
       "MySelfConvModel(\n",
       "  (net): Sequential(\n",
       "    (0): Sequential(\n",
       "      (0): SelfAttentionConv(\n",
       "        (query): Conv2d(1, 90, kernel_size=(3, 3), stride=(1, 1), padding=(1, 1))\n",
       "        (key): Conv2d(1, 90, kernel_size=(3, 3), stride=(1, 1), padding=(1, 1))\n",
       "        (value): Conv2d(1, 90, kernel_size=(3, 3), stride=(1, 1), padding=(1, 1))\n",
       "      )\n",
       "      (1): ReLU()\n",
       "      (2): Dropout(p=0.1, inplace=False)\n",
       "    )\n",
       "    (1): Sequential(\n",
       "      (0): SelfAttentionConv(\n",
       "        (query): Conv2d(90, 90, kernel_size=(3, 3), stride=(1, 1), padding=(1, 1))\n",
       "        (key): Conv2d(90, 90, kernel_size=(3, 3), stride=(1, 1), padding=(1, 1))\n",
       "        (value): Conv2d(90, 90, kernel_size=(3, 3), stride=(1, 1), padding=(1, 1))\n",
       "      )\n",
       "      (1): ReLU()\n",
       "      (2): Dropout(p=0.1, inplace=False)\n",
       "    )\n",
       "    (2): MaxPool2d(kernel_size=3, stride=3, padding=0, dilation=1, ceil_mode=False)\n",
       "  )\n",
       "  (classifier): Linear(in_features=8820, out_features=2, bias=True)\n",
       ")"
      ]
     },
     "execution_count": 32,
     "metadata": {},
     "output_type": "execute_result"
    }
   ],
   "source": [
    "model.to(device)"
   ]
  },
  {
   "cell_type": "code",
   "execution_count": 33,
   "metadata": {},
   "outputs": [],
   "source": [
    "x, y = next(iter(dl_train))"
   ]
  },
  {
   "cell_type": "code",
   "execution_count": 34,
   "metadata": {
    "scrolled": true
   },
   "outputs": [
    {
     "data": {
      "text/plain": [
       "torch.Size([64, 2])"
      ]
     },
     "execution_count": 34,
     "metadata": {},
     "output_type": "execute_result"
    }
   ],
   "source": [
    "with torch.no_grad():\n",
    "    o = model(x.to(device))\n",
    "o.shape"
   ]
  },
  {
   "cell_type": "markdown",
   "metadata": {},
   "source": [
    "# Eval"
   ]
  },
  {
   "cell_type": "code",
   "execution_count": 35,
   "metadata": {},
   "outputs": [],
   "source": [
    "import numpy as np\n",
    "\n",
    "def precision_at_k(y_true,class_probs,k,threshold=0.5,class_of_interest=1,isSorted=False):\n",
    "\n",
    "    if (not isSorted):\n",
    "\n",
    "        # Selecting the probs on the class of interest (coi)\n",
    "        coi_probs = class_probs[:,class_of_interest]\n",
    "\n",
    "        # print('Selecionando as probs da classe de interesse:',class_of_interest)\n",
    "        # print(coi_probs)\n",
    "\n",
    "        # print('Ordem de entrada dos targets')\n",
    "        # print(y_true)\n",
    "\n",
    "        # Sorting the coi probs and selecting the top k\n",
    "        # print('Ordenando as probs e os targets correspondentes:')\n",
    "        sorted_coi_probs = np.sort(coi_probs)[::-1]\n",
    "        sorted_y = y_true[np.argsort(coi_probs)[::-1]]\n",
    "        \n",
    "        # Calculating the precision for \n",
    "        # print(sorted_coi_probs)\n",
    "        # print(sorted_y)\n",
    "\n",
    "    else:\n",
    "        # Code otimization so the algorithm doesn't have to sort the data twice\n",
    "        sorted_coi_probs = class_probs\n",
    "        sorted_y = y_true\n",
    "\n",
    "\n",
    "    # Selecting the top k probs and their respective labels\n",
    "    sorted_coi_probs = sorted_coi_probs[:k]\n",
    "    sorted_y = sorted_y[:k]\n",
    "\n",
    "    # print('Selecionando as top',k,'probs')\n",
    "    # print(sorted_coi_probs)\n",
    "    # print(sorted_y)\n",
    "\n",
    "    # Atributing class based on the threshold\n",
    "    sorted_predicted_classes = np.where(sorted_coi_probs>threshold,\n",
    "                                        float(class_of_interest),\n",
    "                                        0.0)\n",
    "\n",
    "    # print('Atribuindo a classe baseada no threshold de ',threshold)\n",
    "#     print(sorted_predicted_classes)\n",
    "\n",
    "    # print('Precisão em K:')\n",
    "\n",
    "    # print(k)\n",
    "\n",
    "    precisionK = np.sum(sorted_predicted_classes == sorted_y)/k  \n",
    "\n",
    "    return precisionK\n",
    "\n",
    "def map_at_N(y_true,class_probs,N,thrs=0.5,class_of_interest=1):\n",
    "\n",
    "    # Calls the precision at k function with the values already sorted and calculates the average precision\n",
    "    # weighted by the number of positive classes inside the sample\n",
    "\n",
    "    # Declaring the list to hold the precisions\n",
    "    pks = []\n",
    "\n",
    "    # Selecting the probs on the class of interest (coi)\n",
    "    coi_probs = class_probs[:,class_of_interest]\n",
    "\n",
    "    # Sorting the class of interest and its respective label\n",
    "    sorted_coi_probs = np.sort(coi_probs)[::-1]\n",
    "    sorted_y = y_true[np.argsort(coi_probs)[::-1]]\n",
    "\n",
    "    # Selecting the top N scores \n",
    "    sorted_coi_probs = sorted_coi_probs[:N]\n",
    "    sorted_y = sorted_y[:N]\n",
    "\n",
    "\n",
    "    ## TESTANDO APENAS ##\n",
    "    sorted_y[-1] = 1 \n",
    "\n",
    "    # Identifying the positions of the class of interest inside the top N\n",
    "    top_coi_indexes = np.argwhere(sorted_y>0)\n",
    "\n",
    "    for value in top_coi_indexes:\n",
    "        \n",
    "        # Adjusting the index\n",
    "        limite = value[0] + 1\n",
    "        \n",
    "        pks.append(\n",
    "                    precision_at_k(sorted_y[:limite],\n",
    "                    sorted_coi_probs[:limite],\n",
    "                    limite,threshold=thrs,isSorted=True)\n",
    "                    )\n",
    "\n",
    "    pks = np.array(pks)\n",
    "    \n",
    "    # print(pks)\n",
    "    # print(sorted_coi_probs)\n",
    "    # print(sorted_y)\n",
    "    return pks.mean()"
   ]
  },
  {
   "cell_type": "code",
   "execution_count": 42,
   "metadata": {},
   "outputs": [],
   "source": [
    "class MyTrainer(BaseTrainer):\n",
    "    \n",
    "    @staticmethod\n",
    "    def dataloader_generator(dataloader):\n",
    "        for x, y in dataloader:\n",
    "#             x = x.unsqueeze(-1)\n",
    "            x, y = to_device(x, y, device=device)\n",
    "            yield {\n",
    "                'inputs': {\n",
    "                    'x': x\n",
    "                },\n",
    "                'targets': {\n",
    "                    'y': y\n",
    "                }\n",
    "            }\n",
    "        \n",
    "    @staticmethod\n",
    "    def loss_from_model(model_output, targets, loss_fn=None):\n",
    "        y = targets['y']\n",
    "        return loss_fn(model_output, y)\n",
    "    \n",
    "    def evaluate_fn(self, model, dataloader, loss_fn):\n",
    "        model.eval()\n",
    "        losses = []\n",
    "        preds = []\n",
    "        trues = []\n",
    "        probs = []\n",
    "        dl_gen = self.dataloader_generator(dataloader)\n",
    "        for batch in self.tqdm(dl_gen, leave=False, desc='Eval...', total=len(dataloader)):\n",
    "            inputs = batch['inputs']\n",
    "            targets = batch['targets']\n",
    "\n",
    "            with torch.no_grad():\n",
    "                o = model(**inputs)\n",
    "\n",
    "            loss = self.loss_from_model(o, targets, loss_fn)\n",
    "\n",
    "            y = targets['y']\n",
    "            \n",
    "            probs += torch.softmax(o, dim=-1).detach().cpu().numpy().tolist()\n",
    "            preds += o.argmax(1).detach().cpu().numpy().tolist()\n",
    "            trues += y.detach().cpu().numpy().tolist()\n",
    "            losses.append(loss.item())\n",
    "\n",
    "        acc = accuracy_score(trues, preds)\n",
    "        f1 = f1_score(trues, preds)\n",
    "        conf = confusion_matrix(trues, preds)\n",
    "        map100 = map_at_N(np.array(trues), np.array(probs), 100)\n",
    "#         return trues, preds, probs\n",
    "        roc = roc_auc_score(np.array(trues), np.array(probs)[:,1])\n",
    "\n",
    "        both = sorted([\n",
    "            (x, y) for x, y in zip(preds, trues)\n",
    "        ], key=lambda x:x[0], reverse=True)\n",
    "\n",
    "        p = [x for x,_ in both]\n",
    "        t = [x for _,x in both]\n",
    "\n",
    "        print('--- Validation ---')\n",
    "        print(f'F1 = {f1}\\t Acc = {acc}')\n",
    "        print(f'AUC = {auc(p, t)}')\n",
    "        print(f'MAP@100 = {map100}')\n",
    "        print(f'ROC = {roc}')\n",
    "        print(conf)\n",
    "        return trues, preds, probs\n",
    "#         return np.array(losses).mean(), map100"
   ]
  },
  {
   "cell_type": "markdown",
   "metadata": {},
   "source": [
    "# Optim"
   ]
  },
  {
   "cell_type": "code",
   "execution_count": 40,
   "metadata": {},
   "outputs": [],
   "source": [
    "loss_fn = nn.CrossEntropyLoss(torch.tensor([1., 1.]).to(device))\n",
    "# optimizer = torch.optim.AdamW(model.parameters(), lr=5e-3, weight_decay=2e-3)"
   ]
  },
  {
   "cell_type": "code",
   "execution_count": 56,
   "metadata": {},
   "outputs": [],
   "source": [
    "args = TrainArgs(40, 'enel_selfatt_conv_5.ckp')"
   ]
  },
  {
   "cell_type": "code",
   "execution_count": 57,
   "metadata": {},
   "outputs": [],
   "source": [
    "trainer = MyTrainer(grad_steps=1)"
   ]
  },
  {
   "cell_type": "code",
   "execution_count": 39,
   "metadata": {
    "scrolled": true
   },
   "outputs": [
    {
     "data": {
      "text/plain": [
       "<All keys matched successfully>"
      ]
     },
     "execution_count": 39,
     "metadata": {},
     "output_type": "execute_result"
    }
   ],
   "source": [
    "model.load_state_dict(torch.load('enel_selfatt_conv_4.ckp'), strict=False)"
   ]
  },
  {
   "cell_type": "code",
   "execution_count": 129,
   "metadata": {
    "scrolled": false
   },
   "outputs": [
    {
     "data": {
      "application/vnd.jupyter.widget-view+json": {
       "model_id": "",
       "version_major": 2,
       "version_minor": 0
      },
      "text/plain": [
       "HBox(children=(IntProgress(value=0, description='Eval...', max=133, style=ProgressStyle(description_width='ini…"
      ]
     },
     "metadata": {},
     "output_type": "display_data"
    },
    {
     "name": "stdout",
     "output_type": "stream",
     "text": [
      "\r",
      "--- Validation ---\n",
      "F1 = 0.33308769344141487\t Acc = 0.8932153392330383\n",
      "AUC = 0.5\n",
      "MAP@100 = 0.8815388025412902\n",
      "ROC = 0.7280866531955057\n",
      "[[7344  392]\n",
      " [ 513  226]]\n"
     ]
    }
   ],
   "source": [
    "trues, preds, probs = trainer.evaluate_fn(model, dl_valid, loss_fn)"
   ]
  },
  {
   "cell_type": "code",
   "execution_count": 130,
   "metadata": {},
   "outputs": [],
   "source": [
    "probs = np.array(probs)\n",
    "preds = np.array(preds)\n",
    "trues = np.array(trues)"
   ]
  },
  {
   "cell_type": "code",
   "execution_count": 131,
   "metadata": {},
   "outputs": [],
   "source": [
    "probs_one = probs[:,0]"
   ]
  },
  {
   "cell_type": "code",
   "execution_count": 132,
   "metadata": {},
   "outputs": [],
   "source": [
    "index_array = np.argsort(probs_one)"
   ]
  },
  {
   "cell_type": "code",
   "execution_count": 133,
   "metadata": {},
   "outputs": [],
   "source": [
    "index_wrong = (trues == 0) * (preds == 1)"
   ]
  },
  {
   "cell_type": "code",
   "execution_count": 134,
   "metadata": {},
   "outputs": [],
   "source": [
    "index_ones = index_array[index_wrong]"
   ]
  },
  {
   "cell_type": "code",
   "execution_count": 135,
   "metadata": {},
   "outputs": [
    {
     "data": {
      "text/plain": [
       "392"
      ]
     },
     "execution_count": 135,
     "metadata": {},
     "output_type": "execute_result"
    }
   ],
   "source": [
    "quantity = min(1000, len(index_ones))\n",
    "quantity"
   ]
  },
  {
   "cell_type": "code",
   "execution_count": 136,
   "metadata": {},
   "outputs": [],
   "source": [
    "valid_indices_to_change = index_ones[-quantity:] # indices da matriz x_valid que vao para o x_train"
   ]
  },
  {
   "cell_type": "code",
   "execution_count": 137,
   "metadata": {
    "scrolled": true
   },
   "outputs": [
    {
     "data": {
      "text/plain": [
       "array([6.03977351e-05, 3.99658224e-04, 1.79992593e-03, 1.15273781e-02,\n",
       "       3.31634693e-02, 4.33542095e-02, 4.46182042e-02, 6.24680221e-02,\n",
       "       6.74234480e-02, 7.45389834e-02, 8.40923786e-02, 8.89534429e-02,\n",
       "       1.00364141e-01, 1.03053436e-01, 1.04054295e-01, 1.20626010e-01,\n",
       "       1.24012709e-01, 1.69554651e-01, 1.91736534e-01, 2.06555083e-01,\n",
       "       2.13539004e-01, 2.49864191e-01, 2.63735145e-01, 2.65315384e-01,\n",
       "       3.25726688e-01, 3.46384883e-01, 3.52418214e-01, 3.71508002e-01,\n",
       "       3.74995768e-01, 4.01283652e-01, 4.17111039e-01, 4.87894833e-01,\n",
       "       4.91992354e-01, 5.03432155e-01, 5.26976764e-01, 5.46619773e-01,\n",
       "       5.53456187e-01, 5.80790162e-01, 5.89053154e-01, 5.90115964e-01,\n",
       "       5.91422319e-01, 5.92587829e-01, 6.21383965e-01, 6.32724941e-01,\n",
       "       6.51924372e-01, 6.55579746e-01, 6.76196277e-01, 6.81518137e-01,\n",
       "       6.89490616e-01, 6.94267511e-01, 7.03260183e-01, 7.08613634e-01,\n",
       "       7.32004166e-01, 7.33208656e-01, 7.33688712e-01, 7.44545519e-01,\n",
       "       7.48357117e-01, 7.51569211e-01, 7.56778777e-01, 7.73389459e-01,\n",
       "       7.73586273e-01, 7.80405760e-01, 7.81475663e-01, 7.92386413e-01,\n",
       "       7.92433381e-01, 7.96973169e-01, 7.98447788e-01, 8.07507455e-01,\n",
       "       8.22636127e-01, 8.33683968e-01, 8.40233743e-01, 8.42266142e-01,\n",
       "       8.43634307e-01, 8.43963146e-01, 8.49399388e-01, 8.49895179e-01,\n",
       "       8.50211442e-01, 8.53361607e-01, 8.53612006e-01, 8.56230617e-01,\n",
       "       8.56390595e-01, 8.57736409e-01, 8.61303151e-01, 8.61342251e-01,\n",
       "       8.61830056e-01, 8.62535596e-01, 8.63310993e-01, 8.68077219e-01,\n",
       "       8.74671876e-01, 8.77072275e-01, 8.81374598e-01, 8.89866412e-01,\n",
       "       8.89964342e-01, 8.90840530e-01, 8.99817526e-01, 9.01852310e-01,\n",
       "       9.02340651e-01, 9.10107493e-01, 9.11854088e-01, 9.16400969e-01,\n",
       "       9.18162704e-01, 9.18464661e-01, 9.19857800e-01, 9.21763241e-01,\n",
       "       9.21866000e-01, 9.22008216e-01, 9.25093889e-01, 9.26946461e-01,\n",
       "       9.31288183e-01, 9.37587559e-01, 9.38705266e-01, 9.50708926e-01,\n",
       "       9.51424062e-01, 9.52302933e-01, 9.54280257e-01, 9.55419719e-01,\n",
       "       9.55759645e-01, 9.55929160e-01, 9.56046939e-01, 9.56285834e-01,\n",
       "       9.57053125e-01, 9.58240390e-01, 9.58240390e-01, 9.58240390e-01,\n",
       "       9.58240390e-01, 9.58240390e-01, 9.58240390e-01, 9.58240390e-01,\n",
       "       9.58240390e-01, 9.58240390e-01, 9.58240390e-01, 9.58240390e-01,\n",
       "       9.58240390e-01, 9.58240390e-01, 9.58264291e-01, 9.58960891e-01,\n",
       "       9.59021270e-01, 9.60883379e-01, 9.61085260e-01, 9.61705267e-01,\n",
       "       9.61993992e-01, 9.64392960e-01, 9.64550316e-01, 9.64695275e-01,\n",
       "       9.64798331e-01, 9.66447890e-01, 9.68161702e-01, 9.69012916e-01,\n",
       "       9.69392717e-01, 9.70181465e-01, 9.72697556e-01, 9.73472595e-01,\n",
       "       9.73716199e-01, 9.74061072e-01, 9.74168301e-01, 9.74461079e-01,\n",
       "       9.74486172e-01, 9.75647569e-01, 9.77085352e-01, 9.77413237e-01,\n",
       "       9.77492154e-01, 9.77598667e-01, 9.78517473e-01, 9.78781760e-01,\n",
       "       9.80051994e-01, 9.80510116e-01, 9.80548739e-01, 9.81649935e-01,\n",
       "       9.81654048e-01, 9.81837690e-01, 9.81958687e-01, 9.82793570e-01,\n",
       "       9.83810663e-01, 9.83889461e-01, 9.84564185e-01, 9.85149980e-01,\n",
       "       9.85188961e-01, 9.85297859e-01, 9.85555172e-01, 9.86293912e-01,\n",
       "       9.86887276e-01, 9.87750709e-01, 9.88136530e-01, 9.88408923e-01,\n",
       "       9.88464177e-01, 9.88514245e-01, 9.88629222e-01, 9.88921881e-01,\n",
       "       9.89311516e-01, 9.89874959e-01, 9.90716636e-01, 9.90853131e-01,\n",
       "       9.91174221e-01, 9.91293967e-01, 9.91595328e-01, 9.91798282e-01,\n",
       "       9.91846502e-01, 9.92694378e-01, 9.93135571e-01, 9.93203044e-01,\n",
       "       9.93308783e-01, 9.93470311e-01, 9.93990064e-01, 9.94060814e-01,\n",
       "       9.94159102e-01, 9.94212568e-01, 9.94404435e-01, 9.94758904e-01,\n",
       "       9.95150924e-01, 9.95524526e-01, 9.95601058e-01, 9.95616078e-01,\n",
       "       9.95662391e-01, 9.95957792e-01, 9.96038198e-01, 9.96135592e-01,\n",
       "       9.96247947e-01, 9.96741712e-01, 9.96844530e-01, 9.96870458e-01,\n",
       "       9.97108161e-01, 9.97162521e-01, 9.97168958e-01, 9.97184217e-01,\n",
       "       9.97202039e-01, 9.97320235e-01, 9.97342765e-01, 9.97702181e-01,\n",
       "       9.97884810e-01, 9.97902274e-01, 9.97941554e-01, 9.97945607e-01,\n",
       "       9.97999370e-01, 9.98182178e-01, 9.98329341e-01, 9.98341441e-01,\n",
       "       9.98384237e-01, 9.98436987e-01, 9.98538971e-01, 9.98643816e-01,\n",
       "       9.98657942e-01, 9.98673439e-01, 9.98681128e-01, 9.98717904e-01,\n",
       "       9.98758316e-01, 9.98778164e-01, 9.98839438e-01, 9.98871744e-01,\n",
       "       9.98897910e-01, 9.98929203e-01, 9.98996317e-01, 9.99049008e-01,\n",
       "       9.99112427e-01, 9.99132693e-01, 9.99199569e-01, 9.99208391e-01,\n",
       "       9.99236822e-01, 9.99245524e-01, 9.99257624e-01, 9.99296784e-01,\n",
       "       9.99345839e-01, 9.99378324e-01, 9.99399543e-01, 9.99413848e-01,\n",
       "       9.99430716e-01, 9.99529123e-01, 9.99543726e-01, 9.99551475e-01,\n",
       "       9.99561489e-01, 9.99590099e-01, 9.99627948e-01, 9.99638200e-01,\n",
       "       9.99670863e-01, 9.99685884e-01, 9.99690890e-01, 9.99697566e-01,\n",
       "       9.99700904e-01, 9.99703228e-01, 9.99722421e-01, 9.99729693e-01,\n",
       "       9.99729931e-01, 9.99746382e-01, 9.99749959e-01, 9.99751985e-01,\n",
       "       9.99752462e-01, 9.99754488e-01, 9.99754608e-01, 9.99770343e-01,\n",
       "       9.99778450e-01, 9.99784172e-01, 9.99794304e-01, 9.99806225e-01,\n",
       "       9.99820530e-01, 9.99837041e-01, 9.99838591e-01, 9.99843121e-01,\n",
       "       9.99853373e-01, 9.99861717e-01, 9.99865413e-01, 9.99867439e-01,\n",
       "       9.99876022e-01, 9.99884963e-01, 9.99891281e-01, 9.99899149e-01,\n",
       "       9.99901652e-01, 9.99904394e-01, 9.99905109e-01, 9.99908566e-01,\n",
       "       9.99921083e-01, 9.99924064e-01, 9.99925733e-01, 9.99930382e-01,\n",
       "       9.99937057e-01, 9.99948859e-01, 9.99950767e-01, 9.99956369e-01,\n",
       "       9.99956489e-01, 9.99966860e-01, 9.99968410e-01, 9.99968886e-01,\n",
       "       9.99969602e-01, 9.99970436e-01, 9.99973059e-01, 9.99974370e-01,\n",
       "       9.99976635e-01, 9.99976635e-01, 9.99977589e-01, 9.99977946e-01,\n",
       "       9.99978900e-01, 9.99980569e-01, 9.99981761e-01, 9.99982119e-01,\n",
       "       9.99982834e-01, 9.99983549e-01, 9.99983668e-01, 9.99984384e-01,\n",
       "       9.99984622e-01, 9.99984980e-01, 9.99986410e-01, 9.99986887e-01,\n",
       "       9.99987960e-01, 9.99989510e-01, 9.99990344e-01, 9.99991298e-01,\n",
       "       9.99992728e-01, 9.99993086e-01, 9.99993443e-01, 9.99993443e-01,\n",
       "       9.99993443e-01, 9.99994159e-01, 9.99994874e-01, 9.99994993e-01,\n",
       "       9.99997497e-01, 9.99997854e-01, 9.99998212e-01, 9.99998212e-01,\n",
       "       9.99998212e-01, 9.99998450e-01, 9.99998689e-01, 9.99998927e-01,\n",
       "       9.99999046e-01, 9.99999046e-01, 9.99999046e-01, 9.99999046e-01,\n",
       "       9.99999046e-01, 9.99999046e-01, 9.99999285e-01, 9.99999285e-01,\n",
       "       9.99999285e-01, 9.99999404e-01, 9.99999404e-01, 9.99999523e-01,\n",
       "       9.99999523e-01, 9.99999523e-01, 9.99999642e-01, 9.99999642e-01,\n",
       "       9.99999762e-01, 9.99999762e-01, 9.99999762e-01, 9.99999762e-01,\n",
       "       9.99999881e-01, 9.99999881e-01, 9.99999881e-01, 9.99999881e-01,\n",
       "       1.00000000e+00, 1.00000000e+00, 1.00000000e+00, 1.00000000e+00,\n",
       "       1.00000000e+00, 1.00000000e+00, 1.00000000e+00, 1.00000000e+00])"
      ]
     },
     "execution_count": 137,
     "metadata": {},
     "output_type": "execute_result"
    }
   ],
   "source": [
    "# estes sao os casos negativos mais dificeis na validacao\n",
    "probs_one[valid_indices_to_change]"
   ]
  },
  {
   "cell_type": "markdown",
   "metadata": {},
   "source": [
    "# Caso treino"
   ]
  },
  {
   "cell_type": "code",
   "execution_count": 138,
   "metadata": {
    "scrolled": true
   },
   "outputs": [
    {
     "data": {
      "application/vnd.jupyter.widget-view+json": {
       "model_id": "",
       "version_major": 2,
       "version_minor": 0
      },
      "text/plain": [
       "HBox(children=(IntProgress(value=0, description='Eval...', max=530, style=ProgressStyle(description_width='ini…"
      ]
     },
     "metadata": {},
     "output_type": "display_data"
    },
    {
     "name": "stdout",
     "output_type": "stream",
     "text": [
      "\r",
      "--- Validation ---\n",
      "F1 = 0.8305873925501432\t Acc = 0.9720919255391333\n",
      "AUC = 0.5\n",
      "MAP@100 = 1.0\n",
      "ROC = 0.9875207747687994\n",
      "[[30632   389]\n",
      " [  557  2319]]\n"
     ]
    }
   ],
   "source": [
    "trues, preds, probs = trainer.evaluate_fn(model, dl_train, loss_fn)"
   ]
  },
  {
   "cell_type": "code",
   "execution_count": 139,
   "metadata": {},
   "outputs": [],
   "source": [
    "probs = np.array(probs)\n",
    "preds = np.array(preds)\n",
    "trues = np.array(trues)"
   ]
  },
  {
   "cell_type": "code",
   "execution_count": 140,
   "metadata": {},
   "outputs": [],
   "source": [
    "probs_zero = probs[:,0]"
   ]
  },
  {
   "cell_type": "code",
   "execution_count": 141,
   "metadata": {},
   "outputs": [],
   "source": [
    "index_array = np.argsort(probs_zero)"
   ]
  },
  {
   "cell_type": "code",
   "execution_count": 142,
   "metadata": {},
   "outputs": [],
   "source": [
    "index_correct = (trues == 0) * (preds == 0)"
   ]
  },
  {
   "cell_type": "code",
   "execution_count": 143,
   "metadata": {},
   "outputs": [],
   "source": [
    "index_ones = index_array[index_correct]"
   ]
  },
  {
   "cell_type": "code",
   "execution_count": 144,
   "metadata": {},
   "outputs": [],
   "source": [
    "train_indices_to_change = index_ones[-quantity:] # indices da matriz x_valid que vao para o x_train"
   ]
  },
  {
   "cell_type": "code",
   "execution_count": 145,
   "metadata": {
    "scrolled": true
   },
   "outputs": [
    {
     "data": {
      "text/plain": [
       "array([1., 1., 1., 1., 1., 1., 1., 1., 1., 1., 1., 1., 1., 1., 1., 1., 1.,\n",
       "       1., 1., 1., 1., 1., 1., 1., 1., 1., 1., 1., 1., 1., 1., 1., 1., 1.,\n",
       "       1., 1., 1., 1., 1., 1., 1., 1., 1., 1., 1., 1., 1., 1., 1., 1., 1.,\n",
       "       1., 1., 1., 1., 1., 1., 1., 1., 1., 1., 1., 1., 1., 1., 1., 1., 1.,\n",
       "       1., 1., 1., 1., 1., 1., 1., 1., 1., 1., 1., 1., 1., 1., 1., 1., 1.,\n",
       "       1., 1., 1., 1., 1., 1., 1., 1., 1., 1., 1., 1., 1., 1., 1., 1., 1.,\n",
       "       1., 1., 1., 1., 1., 1., 1., 1., 1., 1., 1., 1., 1., 1., 1., 1., 1.,\n",
       "       1., 1., 1., 1., 1., 1., 1., 1., 1., 1., 1., 1., 1., 1., 1., 1., 1.,\n",
       "       1., 1., 1., 1., 1., 1., 1., 1., 1., 1., 1., 1., 1., 1., 1., 1., 1.,\n",
       "       1., 1., 1., 1., 1., 1., 1., 1., 1., 1., 1., 1., 1., 1., 1., 1., 1.,\n",
       "       1., 1., 1., 1., 1., 1., 1., 1., 1., 1., 1., 1., 1., 1., 1., 1., 1.,\n",
       "       1., 1., 1., 1., 1., 1., 1., 1., 1., 1., 1., 1., 1., 1., 1., 1., 1.,\n",
       "       1., 1., 1., 1., 1., 1., 1., 1., 1., 1., 1., 1., 1., 1., 1., 1., 1.,\n",
       "       1., 1., 1., 1., 1., 1., 1., 1., 1., 1., 1., 1., 1., 1., 1., 1., 1.,\n",
       "       1., 1., 1., 1., 1., 1., 1., 1., 1., 1., 1., 1., 1., 1., 1., 1., 1.,\n",
       "       1., 1., 1., 1., 1., 1., 1., 1., 1., 1., 1., 1., 1., 1., 1., 1., 1.,\n",
       "       1., 1., 1., 1., 1., 1., 1., 1., 1., 1., 1., 1., 1., 1., 1., 1., 1.,\n",
       "       1., 1., 1., 1., 1., 1., 1., 1., 1., 1., 1., 1., 1., 1., 1., 1., 1.,\n",
       "       1., 1., 1., 1., 1., 1., 1., 1., 1., 1., 1., 1., 1., 1., 1., 1., 1.,\n",
       "       1., 1., 1., 1., 1., 1., 1., 1., 1., 1., 1., 1., 1., 1., 1., 1., 1.,\n",
       "       1., 1., 1., 1., 1., 1., 1., 1., 1., 1., 1., 1., 1., 1., 1., 1., 1.,\n",
       "       1., 1., 1., 1., 1., 1., 1., 1., 1., 1., 1., 1., 1., 1., 1., 1., 1.,\n",
       "       1., 1., 1., 1., 1., 1., 1., 1., 1., 1., 1., 1., 1., 1., 1., 1., 1.,\n",
       "       1.])"
      ]
     },
     "execution_count": 145,
     "metadata": {},
     "output_type": "execute_result"
    }
   ],
   "source": [
    "# estes sao os casos negativos mais dificeis na validacao\n",
    "probs_zero[train_indices_to_change]"
   ]
  },
  {
   "cell_type": "markdown",
   "metadata": {},
   "source": [
    "# Salvando"
   ]
  },
  {
   "cell_type": "code",
   "execution_count": 146,
   "metadata": {},
   "outputs": [],
   "source": [
    "np.save('train2valid.npy', train_indices_to_change)"
   ]
  },
  {
   "cell_type": "code",
   "execution_count": 147,
   "metadata": {},
   "outputs": [],
   "source": [
    "np.save('valid2train.npy', valid_indices_to_change)"
   ]
  },
  {
   "cell_type": "code",
   "execution_count": 218,
   "metadata": {
    "scrolled": true
   },
   "outputs": [
    {
     "data": {
      "application/vnd.jupyter.widget-view+json": {
       "model_id": "cdc31749553846c0aa1e1b37c00e056b",
       "version_major": 2,
       "version_minor": 0
      },
      "text/plain": [
       "HBox(children=(IntProgress(value=0, description='Training...', max=40, style=ProgressStyle(description_width='…"
      ]
     },
     "metadata": {},
     "output_type": "display_data"
    },
    {
     "data": {
      "application/vnd.jupyter.widget-view+json": {
       "model_id": "",
       "version_major": 2,
       "version_minor": 0
      },
      "text/plain": [
       "HBox(children=(IntProgress(value=0, max=167), HTML(value='')))"
      ]
     },
     "metadata": {},
     "output_type": "display_data"
    },
    {
     "name": "stdout",
     "output_type": "stream",
     "text": [
      "-- Train Loss 0.34318182621887344\n"
     ]
    },
    {
     "data": {
      "application/vnd.jupyter.widget-view+json": {
       "model_id": "",
       "version_major": 2,
       "version_minor": 0
      },
      "text/plain": [
       "HBox(children=(IntProgress(value=0, description='Eval...', max=34, style=ProgressStyle(description_width='init…"
      ]
     },
     "metadata": {},
     "output_type": "display_data"
    },
    {
     "name": "stdout",
     "output_type": "stream",
     "text": [
      "--- Validation ---\n",
      "F1 = 0.3279220779220779\t Acc = 0.8534513274336283\n",
      "AUC = 0.5\n",
      "MAP@100 = 0.7368308541053208\n",
      "ROC = 0.7286458719614672\n",
      "[[6930  806]\n",
      " [ 436  303]]\n",
      "---Valid\n",
      "Loss 0.4191767625948962\n",
      "Metric 0.7368308541053208\n"
     ]
    },
    {
     "data": {
      "application/vnd.jupyter.widget-view+json": {
       "model_id": "",
       "version_major": 2,
       "version_minor": 0
      },
      "text/plain": [
       "HBox(children=(IntProgress(value=0, max=167), HTML(value='')))"
      ]
     },
     "metadata": {},
     "output_type": "display_data"
    },
    {
     "name": "stdout",
     "output_type": "stream",
     "text": [
      "-- Train Loss 0.29265127719162465\n"
     ]
    },
    {
     "data": {
      "application/vnd.jupyter.widget-view+json": {
       "model_id": "",
       "version_major": 2,
       "version_minor": 0
      },
      "text/plain": [
       "HBox(children=(IntProgress(value=0, description='Eval...', max=34, style=ProgressStyle(description_width='init…"
      ]
     },
     "metadata": {},
     "output_type": "display_data"
    },
    {
     "name": "stdout",
     "output_type": "stream",
     "text": [
      "--- Validation ---\n",
      "F1 = 0.3089430894308943\t Acc = 0.8696165191740413\n",
      "AUC = 0.5\n",
      "MAP@100 = 0.7396782097031307\n",
      "ROC = 0.7201183542700733\n",
      "[[7123  613]\n",
      " [ 492  247]]\n",
      "---Valid\n",
      "Loss 0.3988546264522216\n",
      "Metric 0.7396782097031307\n"
     ]
    },
    {
     "data": {
      "application/vnd.jupyter.widget-view+json": {
       "model_id": "",
       "version_major": 2,
       "version_minor": 0
      },
      "text/plain": [
       "HBox(children=(IntProgress(value=0, max=167), HTML(value='')))"
      ]
     },
     "metadata": {},
     "output_type": "display_data"
    },
    {
     "name": "stdout",
     "output_type": "stream",
     "text": [
      "-- Train Loss 0.2875800022108112\n"
     ]
    },
    {
     "data": {
      "application/vnd.jupyter.widget-view+json": {
       "model_id": "",
       "version_major": 2,
       "version_minor": 0
      },
      "text/plain": [
       "HBox(children=(IntProgress(value=0, description='Eval...', max=34, style=ProgressStyle(description_width='init…"
      ]
     },
     "metadata": {},
     "output_type": "display_data"
    },
    {
     "name": "stdout",
     "output_type": "stream",
     "text": [
      "--- Validation ---\n",
      "F1 = 0.3176620076238882\t Acc = 0.8732743362831858\n",
      "AUC = 0.5\n",
      "MAP@100 = 0.7797003082243071\n",
      "ROC = 0.7271398120381241\n",
      "[[7151  585]\n",
      " [ 489  250]]\n",
      "---Valid\n",
      "Loss 0.38085171405006857\n",
      "Metric 0.7797003082243071\n"
     ]
    },
    {
     "data": {
      "application/vnd.jupyter.widget-view+json": {
       "model_id": "",
       "version_major": 2,
       "version_minor": 0
      },
      "text/plain": [
       "HBox(children=(IntProgress(value=0, max=167), HTML(value='')))"
      ]
     },
     "metadata": {},
     "output_type": "display_data"
    },
    {
     "name": "stdout",
     "output_type": "stream",
     "text": [
      "-- Train Loss 0.268930548857786\n"
     ]
    },
    {
     "data": {
      "application/vnd.jupyter.widget-view+json": {
       "model_id": "",
       "version_major": 2,
       "version_minor": 0
      },
      "text/plain": [
       "HBox(children=(IntProgress(value=0, description='Eval...', max=34, style=ProgressStyle(description_width='init…"
      ]
     },
     "metadata": {},
     "output_type": "display_data"
    },
    {
     "name": "stdout",
     "output_type": "stream",
     "text": [
      "--- Validation ---\n",
      "F1 = 0.33053582956746286\t Acc = 0.8776401179941002\n",
      "AUC = 0.5\n",
      "MAP@100 = 0.7834990416874006\n",
      "ROC = 0.7217902382128508\n",
      "[[7182  554]\n",
      " [ 483  256]]\n",
      "---Valid\n",
      "Loss 0.3896860725739423\n",
      "Metric 0.7834990416874006\n"
     ]
    },
    {
     "data": {
      "application/vnd.jupyter.widget-view+json": {
       "model_id": "",
       "version_major": 2,
       "version_minor": 0
      },
      "text/plain": [
       "HBox(children=(IntProgress(value=0, max=167), HTML(value='')))"
      ]
     },
     "metadata": {},
     "output_type": "display_data"
    },
    {
     "name": "stdout",
     "output_type": "stream",
     "text": [
      "-- Train Loss 0.2638881217666015\n"
     ]
    },
    {
     "data": {
      "application/vnd.jupyter.widget-view+json": {
       "model_id": "",
       "version_major": 2,
       "version_minor": 0
      },
      "text/plain": [
       "HBox(children=(IntProgress(value=0, description='Eval...', max=34, style=ProgressStyle(description_width='init…"
      ]
     },
     "metadata": {},
     "output_type": "display_data"
    },
    {
     "name": "stdout",
     "output_type": "stream",
     "text": [
      "--- Validation ---\n",
      "F1 = 0.3413014608233732\t Acc = 0.8829498525073747\n",
      "AUC = 0.5\n",
      "MAP@100 = 0.7603205275568743\n",
      "ROC = 0.7258468044941808\n",
      "[[7226  510]\n",
      " [ 482  257]]\n",
      "---Valid\n",
      "Loss 0.38137918403920007\n",
      "Metric 0.7603205275568743\n"
     ]
    },
    {
     "data": {
      "application/vnd.jupyter.widget-view+json": {
       "model_id": "",
       "version_major": 2,
       "version_minor": 0
      },
      "text/plain": [
       "HBox(children=(IntProgress(value=0, max=167), HTML(value='')))"
      ]
     },
     "metadata": {},
     "output_type": "display_data"
    },
    {
     "name": "stdout",
     "output_type": "stream",
     "text": [
      "-- Train Loss 0.25488770980677916\n"
     ]
    },
    {
     "data": {
      "application/vnd.jupyter.widget-view+json": {
       "model_id": "",
       "version_major": 2,
       "version_minor": 0
      },
      "text/plain": [
       "HBox(children=(IntProgress(value=0, description='Eval...', max=34, style=ProgressStyle(description_width='init…"
      ]
     },
     "metadata": {},
     "output_type": "display_data"
    },
    {
     "name": "stdout",
     "output_type": "stream",
     "text": [
      "--- Validation ---\n",
      "F1 = 0.31355311355311355\t Acc = 0.8894395280235988\n",
      "AUC = 0.5\n",
      "MAP@100 = 0.711244400463223\n",
      "ROC = 0.722638599493712\n",
      "[[7324  412]\n",
      " [ 525  214]]\n",
      "---Valid\n",
      "Loss 0.4088164804612889\n",
      "Metric 0.711244400463223\n"
     ]
    },
    {
     "data": {
      "application/vnd.jupyter.widget-view+json": {
       "model_id": "",
       "version_major": 2,
       "version_minor": 0
      },
      "text/plain": [
       "HBox(children=(IntProgress(value=0, max=167), HTML(value='')))"
      ]
     },
     "metadata": {},
     "output_type": "display_data"
    },
    {
     "name": "stdout",
     "output_type": "stream",
     "text": [
      "-- Train Loss 0.24572848452779347\n"
     ]
    },
    {
     "data": {
      "application/vnd.jupyter.widget-view+json": {
       "model_id": "",
       "version_major": 2,
       "version_minor": 0
      },
      "text/plain": [
       "HBox(children=(IntProgress(value=0, description='Eval...', max=34, style=ProgressStyle(description_width='init…"
      ]
     },
     "metadata": {},
     "output_type": "display_data"
    },
    {
     "name": "stdout",
     "output_type": "stream",
     "text": [
      "--- Validation ---\n",
      "F1 = 0.3315350662089259\t Acc = 0.8391740412979352\n",
      "AUC = 0.5\n",
      "MAP@100 = 0.7328787321081119\n",
      "ROC = 0.7461063715605509\n",
      "[[6774  962]\n",
      " [ 401  338]]\n",
      "---Valid\n",
      "Loss 0.4595606554956997\n",
      "Metric 0.7328787321081119\n"
     ]
    },
    {
     "data": {
      "application/vnd.jupyter.widget-view+json": {
       "model_id": "",
       "version_major": 2,
       "version_minor": 0
      },
      "text/plain": [
       "HBox(children=(IntProgress(value=0, max=167), HTML(value='')))"
      ]
     },
     "metadata": {},
     "output_type": "display_data"
    },
    {
     "name": "stdout",
     "output_type": "stream",
     "text": [
      "-- Train Loss 0.2414106287196011\n"
     ]
    },
    {
     "data": {
      "application/vnd.jupyter.widget-view+json": {
       "model_id": "",
       "version_major": 2,
       "version_minor": 0
      },
      "text/plain": [
       "HBox(children=(IntProgress(value=0, description='Eval...', max=34, style=ProgressStyle(description_width='init…"
      ]
     },
     "metadata": {},
     "output_type": "display_data"
    },
    {
     "name": "stdout",
     "output_type": "stream",
     "text": [
      "--- Validation ---\n",
      "F1 = 0.31095406360424027\t Acc = 0.8849557522123894\n",
      "AUC = 0.5\n",
      "MAP@100 = 0.7435309083976587\n",
      "ROC = 0.7168396565693599\n",
      "[[7280  456]\n",
      " [ 519  220]]\n",
      "---Valid\n",
      "Loss 0.4113137520411435\n",
      "Metric 0.7435309083976587\n"
     ]
    },
    {
     "data": {
      "application/vnd.jupyter.widget-view+json": {
       "model_id": "",
       "version_major": 2,
       "version_minor": 0
      },
      "text/plain": [
       "HBox(children=(IntProgress(value=0, max=167), HTML(value='')))"
      ]
     },
     "metadata": {},
     "output_type": "display_data"
    },
    {
     "name": "stdout",
     "output_type": "stream",
     "text": [
      "-- Train Loss 0.2333498450810324\n"
     ]
    },
    {
     "data": {
      "application/vnd.jupyter.widget-view+json": {
       "model_id": "",
       "version_major": 2,
       "version_minor": 0
      },
      "text/plain": [
       "HBox(children=(IntProgress(value=0, description='Eval...', max=34, style=ProgressStyle(description_width='init…"
      ]
     },
     "metadata": {},
     "output_type": "display_data"
    },
    {
     "name": "stdout",
     "output_type": "stream",
     "text": [
      "--- Validation ---\n",
      "F1 = 0.328400281888654\t Acc = 0.8875516224188791\n",
      "AUC = 0.5\n",
      "MAP@100 = 0.6911254258891234\n",
      "ROC = 0.7254674907957175\n",
      "[[7289  447]\n",
      " [ 506  233]]\n",
      "---Valid\n",
      "Loss 0.4113628627622829\n",
      "Metric 0.6911254258891234\n"
     ]
    },
    {
     "data": {
      "application/vnd.jupyter.widget-view+json": {
       "model_id": "a7e4648c985e45f7b33112187f74d6b5",
       "version_major": 2,
       "version_minor": 0
      },
      "text/plain": [
       "HBox(children=(IntProgress(value=0, max=167), HTML(value='')))"
      ]
     },
     "metadata": {},
     "output_type": "display_data"
    },
    {
     "ename": "KeyboardInterrupt",
     "evalue": "",
     "output_type": "error",
     "traceback": [
      "\u001b[0;31m---------------------------------------------------------------------------\u001b[0m",
      "\u001b[0;31mKeyboardInterrupt\u001b[0m                         Traceback (most recent call last)",
      "\u001b[0;32m<ipython-input-218-f8160df15416>\u001b[0m in \u001b[0;36m<module>\u001b[0;34m\u001b[0m\n\u001b[0;32m----> 1\u001b[0;31m \u001b[0mtrainer\u001b[0m\u001b[0;34m.\u001b[0m\u001b[0mtrain\u001b[0m\u001b[0;34m(\u001b[0m\u001b[0margs\u001b[0m\u001b[0;34m,\u001b[0m \u001b[0mmodel\u001b[0m\u001b[0;34m,\u001b[0m \u001b[0mdl_train\u001b[0m\u001b[0;34m,\u001b[0m \u001b[0mdl_valid\u001b[0m\u001b[0;34m,\u001b[0m \u001b[0moptimizer\u001b[0m\u001b[0;34m,\u001b[0m \u001b[0mloss_fn\u001b[0m\u001b[0;34m)\u001b[0m\u001b[0;34m\u001b[0m\u001b[0;34m\u001b[0m\u001b[0m\n\u001b[0m",
      "\u001b[0;32m~/Mestrado/ml-masters/mlpack/trainer.py\u001b[0m in \u001b[0;36mtrain\u001b[0;34m(self, args, model, dl_train, dl_valid, optimizer, loss_fn, scheduler)\u001b[0m\n\u001b[1;32m    115\u001b[0m                     \u001b[0mloss\u001b[0m\u001b[0;34m.\u001b[0m\u001b[0mbackward\u001b[0m\u001b[0;34m(\u001b[0m\u001b[0;34m)\u001b[0m\u001b[0;34m\u001b[0m\u001b[0;34m\u001b[0m\u001b[0m\n\u001b[1;32m    116\u001b[0m                     torch.nn.utils.clip_grad_norm_(\n\u001b[0;32m--> 117\u001b[0;31m                         model.parameters(), self.max_grad_norm)\n\u001b[0m\u001b[1;32m    118\u001b[0m \u001b[0;34m\u001b[0m\u001b[0m\n\u001b[1;32m    119\u001b[0m                 \u001b[0;32mif\u001b[0m \u001b[0;34m(\u001b[0m\u001b[0mstep\u001b[0m \u001b[0;34m+\u001b[0m \u001b[0;36m1\u001b[0m\u001b[0;34m)\u001b[0m \u001b[0;34m%\u001b[0m \u001b[0mself\u001b[0m\u001b[0;34m.\u001b[0m\u001b[0mgrad_steps\u001b[0m \u001b[0;34m==\u001b[0m \u001b[0;36m0\u001b[0m \u001b[0;32mor\u001b[0m \u001b[0;34m(\u001b[0m\u001b[0mstep\u001b[0m \u001b[0;34m+\u001b[0m \u001b[0;36m1\u001b[0m\u001b[0;34m)\u001b[0m \u001b[0;34m==\u001b[0m \u001b[0mlen\u001b[0m\u001b[0;34m(\u001b[0m\u001b[0mdl_train\u001b[0m\u001b[0;34m)\u001b[0m\u001b[0;34m:\u001b[0m\u001b[0;34m\u001b[0m\u001b[0;34m\u001b[0m\u001b[0m\n",
      "\u001b[0;32m~/anaconda3/envs/nlpenv/lib/python3.7/site-packages/torch/nn/utils/clip_grad.py\u001b[0m in \u001b[0;36mclip_grad_norm_\u001b[0;34m(parameters, max_norm, norm_type)\u001b[0m\n\u001b[1;32m     31\u001b[0m         \u001b[0;32mfor\u001b[0m \u001b[0mp\u001b[0m \u001b[0;32min\u001b[0m \u001b[0mparameters\u001b[0m\u001b[0;34m:\u001b[0m\u001b[0;34m\u001b[0m\u001b[0;34m\u001b[0m\u001b[0m\n\u001b[1;32m     32\u001b[0m             \u001b[0mparam_norm\u001b[0m \u001b[0;34m=\u001b[0m \u001b[0mp\u001b[0m\u001b[0;34m.\u001b[0m\u001b[0mgrad\u001b[0m\u001b[0;34m.\u001b[0m\u001b[0mdata\u001b[0m\u001b[0;34m.\u001b[0m\u001b[0mnorm\u001b[0m\u001b[0;34m(\u001b[0m\u001b[0mnorm_type\u001b[0m\u001b[0;34m)\u001b[0m\u001b[0;34m\u001b[0m\u001b[0;34m\u001b[0m\u001b[0m\n\u001b[0;32m---> 33\u001b[0;31m             \u001b[0mtotal_norm\u001b[0m \u001b[0;34m+=\u001b[0m \u001b[0mparam_norm\u001b[0m\u001b[0;34m.\u001b[0m\u001b[0mitem\u001b[0m\u001b[0;34m(\u001b[0m\u001b[0;34m)\u001b[0m \u001b[0;34m**\u001b[0m \u001b[0mnorm_type\u001b[0m\u001b[0;34m\u001b[0m\u001b[0;34m\u001b[0m\u001b[0m\n\u001b[0m\u001b[1;32m     34\u001b[0m         \u001b[0mtotal_norm\u001b[0m \u001b[0;34m=\u001b[0m \u001b[0mtotal_norm\u001b[0m \u001b[0;34m**\u001b[0m \u001b[0;34m(\u001b[0m\u001b[0;36m1.\u001b[0m \u001b[0;34m/\u001b[0m \u001b[0mnorm_type\u001b[0m\u001b[0;34m)\u001b[0m\u001b[0;34m\u001b[0m\u001b[0;34m\u001b[0m\u001b[0m\n\u001b[1;32m     35\u001b[0m     \u001b[0mclip_coef\u001b[0m \u001b[0;34m=\u001b[0m \u001b[0mmax_norm\u001b[0m \u001b[0;34m/\u001b[0m \u001b[0;34m(\u001b[0m\u001b[0mtotal_norm\u001b[0m \u001b[0;34m+\u001b[0m \u001b[0;36m1e-6\u001b[0m\u001b[0;34m)\u001b[0m\u001b[0;34m\u001b[0m\u001b[0;34m\u001b[0m\u001b[0m\n",
      "\u001b[0;31mKeyboardInterrupt\u001b[0m: "
     ]
    }
   ],
   "source": [
    "# trainer.train(args, model, dl_train, dl_valid, optimizer, loss_fn)"
   ]
  },
  {
   "cell_type": "code",
   "execution_count": null,
   "metadata": {},
   "outputs": [],
   "source": []
  }
 ],
 "metadata": {
  "kernelspec": {
   "display_name": "Python [conda env:bertenv]",
   "language": "python",
   "name": "conda-env-bertenv-py"
  },
  "language_info": {
   "codemirror_mode": {
    "name": "ipython",
    "version": 3
   },
   "file_extension": ".py",
   "mimetype": "text/x-python",
   "name": "python",
   "nbconvert_exporter": "python",
   "pygments_lexer": "ipython3",
   "version": "3.7.4"
  }
 },
 "nbformat": 4,
 "nbformat_minor": 2
}
