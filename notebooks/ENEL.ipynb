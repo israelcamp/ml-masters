{
 "cells": [
  {
   "cell_type": "code",
   "execution_count": 1,
   "metadata": {},
   "outputs": [],
   "source": [
    "import sys\n",
    "sys.path.append('../')"
   ]
  },
  {
   "cell_type": "code",
   "execution_count": 2,
   "metadata": {},
   "outputs": [],
   "source": [
    "import pandas as pd\n",
    "import numpy as np\n",
    "from tqdm import tqdm_notebook as tqdm\n",
    "from sklearn.metrics import confusion_matrix, accuracy_score, f1_score"
   ]
  },
  {
   "cell_type": "code",
   "execution_count": 3,
   "metadata": {},
   "outputs": [],
   "source": [
    "import torch\n",
    "from torch import nn\n",
    "from torch.utils.data import DataLoader, Dataset "
   ]
  },
  {
   "cell_type": "code",
   "execution_count": 4,
   "metadata": {},
   "outputs": [],
   "source": [
    "from mlpack.utils import to_device, to_fp16"
   ]
  },
  {
   "cell_type": "markdown",
   "metadata": {},
   "source": [
    "# Data"
   ]
  },
  {
   "cell_type": "code",
   "execution_count": null,
   "metadata": {},
   "outputs": [],
   "source": [
    "train_id = pd.read_csv('../datasets/ENEL/log_norm_clean_data_train.csv', usecols=[0], sep=',')\n",
    "valid_id = pd.read_csv('../datasets/ENEL/log_norm_clean_data_valid.csv', usecols=[0], sep=',')"
   ]
  },
  {
   "cell_type": "code",
   "execution_count": null,
   "metadata": {},
   "outputs": [],
   "source": [
    "df = pd.read_csv('../datasets/ENEL/dataset.csv', sep='\\t', index_col=0)\n",
    "df.head()"
   ]
  },
  {
   "cell_type": "code",
   "execution_count": null,
   "metadata": {},
   "outputs": [],
   "source": [
    "df_train = df.loc[train_id.values[:,0]]"
   ]
  },
  {
   "cell_type": "code",
   "execution_count": null,
   "metadata": {},
   "outputs": [],
   "source": [
    "df_valid = df.loc[valid_id.values[:,0]]"
   ]
  },
  {
   "cell_type": "code",
   "execution_count": null,
   "metadata": {},
   "outputs": [],
   "source": [
    "x_train = df_train.values[:,:-1]\n",
    "y_train = df_train.values[:,-1]\n",
    "\n",
    "x_valid = df_valid.values[:,:-1]\n",
    "y_valid = df_valid.values[:,-1]"
   ]
  },
  {
   "cell_type": "markdown",
   "metadata": {},
   "source": [
    "# Dataset"
   ]
  },
  {
   "cell_type": "code",
   "execution_count": null,
   "metadata": {},
   "outputs": [],
   "source": [
    "class ENELDataset(Dataset):\n",
    "    def __init__(self, x, y):\n",
    "        self.x, self.y = x, y\n",
    "        \n",
    "    def __len__(self):\n",
    "        return len(self.x)\n",
    "    \n",
    "    def __getitem__(self, idx):\n",
    "        return self.x[idx].astype(np.float32), self.y[idx].astype(np.int64)"
   ]
  },
  {
   "cell_type": "code",
   "execution_count": null,
   "metadata": {},
   "outputs": [],
   "source": [
    "ds_train = ENELDataset(x_train, y_train)\n",
    "ds_valid = ENELDataset(x_valid, y_valid)"
   ]
  },
  {
   "cell_type": "code",
   "execution_count": null,
   "metadata": {},
   "outputs": [],
   "source": [
    "dl_train = DataLoader(ds_train, batch_size=32, shuffle=True, pin_memory=True, num_workers=4)\n",
    "dl_valid = DataLoader(ds_valid, batch_size=32, shuffle=False, pin_memory=True, num_workers=4)"
   ]
  },
  {
   "cell_type": "markdown",
   "metadata": {},
   "source": [
    "# LSTM"
   ]
  },
  {
   "cell_type": "code",
   "execution_count": 13,
   "metadata": {},
   "outputs": [],
   "source": [
    "class MyLSTM(nn.Module):\n",
    "    \n",
    "    lstm_kwargs = {\n",
    "        'input_size': 1,\n",
    "        'hidden_size': 128,\n",
    "        'num_layers': 2,\n",
    "        'batch_first': True,\n",
    "        'dropout': 0.1,\n",
    "        'bidirectional': True\n",
    "    }\n",
    "    \n",
    "    def __init__(self, num_classes=2):\n",
    "        super().__init__()\n",
    "        self.lstm = nn.LSTM(**self.lstm_kwargs)\n",
    "        \n",
    "        self.linear_size = self.lstm_kwargs['hidden_size'] * self.lstm_kwargs['num_layers']\n",
    "        if self.lstm_kwargs['bidirectional']:\n",
    "            self.linear_size *= 2\n",
    "        \n",
    "        self.linear = nn.Linear(self.linear_size, num_classes)\n",
    "        \n",
    "    def forward(self, x):\n",
    "        _, (h, _) = self.lstm(x)\n",
    "        h = h.permute(1, 0, 2).reshape(-1, self.linear_size)\n",
    "        o = self.linear(h)\n",
    "        return o\n",
    "        "
   ]
  },
  {
   "cell_type": "code",
   "execution_count": 14,
   "metadata": {},
   "outputs": [],
   "source": [
    "class LSTMSelfAttetion(nn.Module):\n",
    "    \n",
    "    lstm_kwargs = {\n",
    "        'input_size': 1,\n",
    "        'hidden_size': 128,\n",
    "        'num_layers': 2,\n",
    "        'batch_first': True,\n",
    "        'dropout': 0.1,\n",
    "        'bidirectional': True\n",
    "    }\n",
    "    \n",
    "    def __init__(self, num_classes=2):\n",
    "        super().__init__()\n",
    "        self.lstm = nn.LSTM(**self.lstm_kwargs)\n",
    "        \n",
    "        att_sz = self.lstm_kwargs['hidden_size']\n",
    "        if self.lstm_kwargs['bidirectional']:\n",
    "            att_sz *= 2\n",
    "        \n",
    "        self.query = nn.Linear(att_sz, 1)\n",
    "        self.key = nn.Linear(att_sz, 1)\n",
    "        self.value = nn.Linear(att_sz, 1)\n",
    "        \n",
    "        self.classifier = nn.Linear(1034, 2)\n",
    "        \n",
    "    def forward(self, x):\n",
    "        o, _ = self.lstm(x)\n",
    "        q = self.query(o)\n",
    "        k = self.key(o)\n",
    "        v = self.value(o)\n",
    "        z = torch.matmul(q, k.permute(0, 2, 1)) @ v\n",
    "        z = z.squeeze()\n",
    "        o = self.classifier(z)\n",
    "        \n",
    "        return o\n"
   ]
  },
  {
   "cell_type": "code",
   "execution_count": 15,
   "metadata": {},
   "outputs": [
    {
     "data": {
      "text/plain": [
       "'cuda'"
      ]
     },
     "execution_count": 15,
     "metadata": {},
     "output_type": "execute_result"
    }
   ],
   "source": [
    "device = 'cuda' if torch.cuda.is_available() else 'cpu'\n",
    "device"
   ]
  },
  {
   "cell_type": "markdown",
   "metadata": {},
   "source": [
    "# Eval"
   ]
  },
  {
   "cell_type": "code",
   "execution_count": 16,
   "metadata": {},
   "outputs": [],
   "source": [
    "def dl_generator(dataloader):\n",
    "    for x, y in dataloader:\n",
    "        x = x.unsqueeze(-1)\n",
    "        x, y = to_device(x, y, device=device)\n",
    "        yield x, y"
   ]
  },
  {
   "cell_type": "code",
   "execution_count": 22,
   "metadata": {},
   "outputs": [],
   "source": [
    "def evaluate_fn(model, dataloader, loss_fn):\n",
    "    model.eval()\n",
    "    losses = []\n",
    "    preds = []\n",
    "    trues = []\n",
    "    for inputs in tqdm(dataloader, leave=False, desc='Eval...', total=len(dataloader)):\n",
    "        o = model(**inputs)\n",
    "        loss = loss_fn(o, y)\n",
    "        \n",
    "        preds += o.argmax(1).detach().cpu().numpy().tolist()\n",
    "        trues += y.detach().cpu().numpy().tolist()\n",
    "        losses.append(loss.item())\n",
    "        \n",
    "    acc = accuracy_score(trues, preds)\n",
    "    f1 = f1_score(trues, preds)\n",
    "    conf = confusion_matrix(trues, preds)\n",
    "    \n",
    "    print('--- Validation ---')\n",
    "    print(f'F1 = {f1}\\t Acc = {acc}')\n",
    "    print(conf)\n",
    "    return np.array(losses).mean(), f1       "
   ]
  },
  {
   "cell_type": "code",
   "execution_count": 18,
   "metadata": {},
   "outputs": [],
   "source": [
    "model = LSTMSelfAttetion()"
   ]
  },
  {
   "cell_type": "code",
   "execution_count": 19,
   "metadata": {},
   "outputs": [
    {
     "data": {
      "text/plain": [
       "LSTMSelfAttetion(\n",
       "  (lstm): LSTM(1, 128, num_layers=2, batch_first=True, dropout=0.1, bidirectional=True)\n",
       "  (query): Linear(in_features=256, out_features=1, bias=True)\n",
       "  (key): Linear(in_features=256, out_features=1, bias=True)\n",
       "  (value): Linear(in_features=256, out_features=1, bias=True)\n",
       "  (classifier): Linear(in_features=1034, out_features=2, bias=True)\n",
       ")"
      ]
     },
     "execution_count": 19,
     "metadata": {},
     "output_type": "execute_result"
    }
   ],
   "source": [
    "model.to(device)"
   ]
  },
  {
   "cell_type": "markdown",
   "metadata": {},
   "source": [
    "# Optim"
   ]
  },
  {
   "cell_type": "code",
   "execution_count": 20,
   "metadata": {},
   "outputs": [],
   "source": [
    "loss_fn = nn.CrossEntropyLoss(torch.tensor([.5, 1.]).to(device))\n",
    "optimizer = torch.optim.AdamW(model.parameters(), lr=5e-4)"
   ]
  },
  {
   "cell_type": "code",
   "execution_count": 21,
   "metadata": {
    "scrolled": true
   },
   "outputs": [
    {
     "data": {
      "application/vnd.jupyter.widget-view+json": {
       "model_id": "",
       "version_major": 2,
       "version_minor": 0
      },
      "text/plain": [
       "HBox(children=(IntProgress(value=0, description='Eval...', max=168, style=ProgressStyle(description_width='ini…"
      ]
     },
     "metadata": {},
     "output_type": "display_data"
    },
    {
     "name": "stdout",
     "output_type": "stream",
     "text": [
      "\r",
      "--- Validation ---\n",
      "F1 = 0.15138482711164628\t Acc = 0.08189093616229294\n",
      "<function confusion_matrix at 0x7f8773f66e60>\n"
     ]
    },
    {
     "data": {
      "text/plain": [
       "(tensor(0.6981, device='cuda:0', grad_fn=<NllLossBackward>),\n",
       " 0.15138482711164628)"
      ]
     },
     "execution_count": 21,
     "metadata": {},
     "output_type": "execute_result"
    }
   ],
   "source": [
    "evaluate_fn(model, dl_valid, loss_fn)"
   ]
  },
  {
   "cell_type": "code",
   "execution_count": null,
   "metadata": {},
   "outputs": [],
   "source": []
  }
 ],
 "metadata": {
  "kernelspec": {
   "display_name": "Python [conda env:bertenv]",
   "language": "python",
   "name": "conda-env-bertenv-py"
  },
  "language_info": {
   "codemirror_mode": {
    "name": "ipython",
    "version": 3
   },
   "file_extension": ".py",
   "mimetype": "text/x-python",
   "name": "python",
   "nbconvert_exporter": "python",
   "pygments_lexer": "ipython3",
   "version": "3.7.4"
  }
 },
 "nbformat": 4,
 "nbformat_minor": 2
}
