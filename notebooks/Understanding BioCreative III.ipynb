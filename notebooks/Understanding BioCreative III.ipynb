{
 "cells": [
  {
   "cell_type": "code",
   "execution_count": 1,
   "metadata": {},
   "outputs": [],
   "source": [
    "import re\n",
    "import os\n",
    "import sys\n",
    "sys.path.append('../')"
   ]
  },
  {
   "cell_type": "code",
   "execution_count": 2,
   "metadata": {},
   "outputs": [],
   "source": [
    "from transformers.tokenization_bert import BertTokenizer"
   ]
  },
  {
   "cell_type": "code",
   "execution_count": 3,
   "metadata": {},
   "outputs": [],
   "source": [
    "from mlpack.datasets.biocreative import read_examples, convert_examples_to_spanfeatures, LABELS"
   ]
  },
  {
   "cell_type": "markdown",
   "metadata": {},
   "source": [
    "# Examples"
   ]
  },
  {
   "cell_type": "code",
   "execution_count": 4,
   "metadata": {},
   "outputs": [],
   "source": [
    "folderpath = '../datasets/GNormPlus/GNormPlusCorpus/'"
   ]
  },
  {
   "cell_type": "code",
   "execution_count": 5,
   "metadata": {},
   "outputs": [],
   "source": [
    "ds_files = {\n",
    "    'train': 'BC2GNtrain.PubTator.txt',\n",
    "    'dev': 'BC2GNtest.PubTator.txt',\n",
    "}"
   ]
  },
  {
   "cell_type": "code",
   "execution_count": 6,
   "metadata": {},
   "outputs": [],
   "source": [
    "examples_train = read_examples(os.path.join(folderpath, ds_files['train']))"
   ]
  },
  {
   "cell_type": "code",
   "execution_count": 7,
   "metadata": {},
   "outputs": [],
   "source": [
    "example = examples_train[0]"
   ]
  },
  {
   "cell_type": "code",
   "execution_count": 8,
   "metadata": {},
   "outputs": [
    {
     "name": "stdout",
     "output_type": "stream",
     "text": [
      "A               O\n",
      "specific        O\n",
      "human           O\n",
      "lysophospholipase B-FamilyName\n",
      ":               O\n",
      "cDNA            O\n",
      "cloning         O\n",
      ",               O\n",
      "tissue          O\n",
      "distribution    O\n",
      "and             O\n",
      "kinetic         O\n",
      "characterization O\n",
      ".               O\n",
      "Lysophospholipases B-FamilyName\n",
      "are             O\n",
      "critical        O\n",
      "enzymes         O\n",
      "that            O\n",
      "act             O\n",
      "on              O\n",
      "biological      O\n",
      "membranes       O\n",
      "to              O\n",
      "regulate        O\n",
      "the             O\n",
      "multifunctional O\n",
      "lysophospholipids O\n",
      ";               O\n",
      "increased       O\n",
      "levels          O\n",
      "of              O\n",
      "lysophospholipids O\n",
      "are             O\n",
      "associated      O\n",
      "with            O\n",
      "a               O\n",
      "host            O\n",
      "of              O\n",
      "diseases        O\n",
      ".               O\n",
      "Herein          O\n",
      "we              O\n",
      "report          O\n",
      "the             O\n",
      "cDNA            O\n",
      "cloning         O\n",
      "of              O\n",
      "a               O\n",
      "human           O\n",
      "brain           O\n",
      "25              O\n",
      "kDa             O\n",
      "lysophospholipid B-Gene\n",
      "-               O\n",
      "specific        I-Gene\n",
      "lysophospholipase I-Gene\n",
      "(               O\n",
      "hLysoPLA        B-Gene\n",
      ")               O\n",
      ".               O\n",
      "The             O\n",
      "enzyme          O\n",
      "(               O\n",
      "at              O\n",
      "both            O\n",
      "mRNA            O\n",
      "and             O\n",
      "protein         O\n",
      "levels          O\n",
      ")               O\n",
      "is              O\n",
      "widely          O\n",
      "distributed     O\n",
      "in              O\n",
      "tissues         O\n",
      ",               O\n",
      "but             O\n",
      "with            O\n",
      "quite           O\n",
      "different       O\n",
      "abundances      O\n",
      ".               O\n",
      "The             O\n",
      "hLysoPLA        B-Gene\n",
      "hydrolyzes      O\n",
      "lysophosphatidylcholine O\n",
      "in              O\n",
      "both            O\n",
      "monomeric       O\n",
      "and             O\n",
      "micellar        O\n",
      "forms           O\n",
      ",               O\n",
      "and             O\n",
      "exhibits        O\n",
      "apparent        O\n",
      "cooperativity   O\n",
      "and             O\n",
      "surface         O\n",
      "dilution        O\n",
      "kinetics        O\n",
      ",               O\n",
      "but             O\n",
      "not             O\n",
      "interfacial     O\n",
      "activation      O\n",
      ".               O\n",
      "Detailed        O\n",
      "kinetic         O\n",
      "analysis        O\n",
      "indicates       O\n",
      "that            O\n",
      "the             O\n",
      "hLysoPLA        B-Gene\n",
      "binds           O\n",
      "first           O\n",
      "to              O\n",
      "the             O\n",
      "micellar        O\n",
      "surface         O\n",
      "and             O\n",
      "then            O\n",
      "to              O\n",
      "the             O\n",
      "substrate       O\n",
      "presented       O\n",
      "on              O\n",
      "the             O\n",
      "surface         O\n",
      ".               O\n",
      "The             O\n",
      "kinetic         O\n",
      "parameters      O\n",
      "associated      O\n",
      "with            O\n",
      "this            O\n",
      "surface         O\n",
      "dilution        O\n",
      "kinetic         O\n",
      "model           O\n",
      "are             O\n",
      "reported        O\n",
      ",               O\n",
      "and             O\n",
      "it              O\n",
      "is              O\n",
      "concluded       O\n",
      "that            O\n",
      "hLysoPLA        B-Gene\n",
      "has             O\n",
      "a               O\n",
      "single          O\n",
      "substrate       O\n",
      "binding         O\n",
      "site            O\n",
      "and             O\n",
      "a               O\n",
      "surface         O\n",
      "recognition     O\n",
      "site            O\n",
      ".               O\n",
      "The             O\n",
      "apparent        O\n",
      "cooperativity   O\n",
      "observed        O\n",
      "is              O\n",
      "likely          O\n",
      "due             O\n",
      "to              O\n",
      "the             O\n",
      "change          O\n",
      "of              O\n",
      "substrate       O\n",
      "presentation    O\n",
      ".               O\n",
      "In              O\n",
      "contrast        O\n",
      "to              O\n",
      "many            O\n",
      "non             O\n",
      "-               O\n",
      "specific        O\n",
      "lipolytic       O\n",
      "enzymes         O\n",
      "that            O\n",
      "exhibit         O\n",
      "lysophospholipase B-FamilyName\n",
      "activity        O\n",
      ",               O\n",
      "hLysoPLA        B-Gene\n",
      "hydrolyzes      O\n",
      "only            O\n",
      "lysophospholipids O\n",
      "and             O\n",
      "has             O\n",
      "no              O\n",
      "other           O\n",
      "significant     O\n",
      "enzymatic       O\n",
      "activity        O\n",
      ".               O\n",
      "Of              O\n",
      "special         O\n",
      "interest        O\n",
      ",               O\n",
      "hLysoPLA        B-Gene\n",
      "does            O\n",
      "not             O\n",
      "act             O\n",
      "on              O\n",
      "plasmenylcholine O\n",
      ".               O\n",
      "Of              O\n",
      "the             O\n",
      "several         O\n",
      "inhibitors      O\n",
      "tested          O\n",
      ",               O\n",
      "only            O\n",
      "methyl          O\n",
      "arachidonyl     O\n",
      "fluorophosphonate O\n",
      "(               O\n",
      "MAFP            O\n",
      ")               O\n",
      "potently        O\n",
      "and             O\n",
      "irreversibly    O\n",
      "inhibits        O\n",
      "the             O\n",
      "enzymatic       O\n",
      "activity        O\n",
      ".               O\n",
      "The             O\n",
      "inhibition      O\n",
      "by              O\n",
      "MAFP            O\n",
      "is              O\n",
      "consistent      O\n",
      "with            O\n",
      "the             O\n",
      "catalytic       O\n",
      "mechanism       O\n",
      "proposed        O\n",
      "for             O\n",
      "the             O\n",
      "enzyme          O\n",
      "-               O\n",
      "a               O\n",
      "serine          O\n",
      "hydrolase       O\n",
      "with            O\n",
      "a               O\n",
      "catalytic       O\n",
      "triad           O\n",
      "composed        O\n",
      "of              O\n",
      "Ser             O\n",
      "-               O\n",
      "119             O\n",
      ",               O\n",
      "Asp             O\n",
      "-               O\n",
      "174             O\n",
      "and             O\n",
      "His             O\n",
      "-               O\n",
      "208             O\n",
      ".               O\n"
     ]
    }
   ],
   "source": [
    "for tok, label in zip(example.doc_tokens, example.labels):\n",
    "    print(f'{tok:15} {label}')"
   ]
  },
  {
   "cell_type": "markdown",
   "metadata": {},
   "source": [
    "# Features"
   ]
  },
  {
   "cell_type": "code",
   "execution_count": 9,
   "metadata": {},
   "outputs": [],
   "source": [
    "tokenizer = BertTokenizer.from_pretrained('bert-base-uncased')"
   ]
  },
  {
   "cell_type": "code",
   "execution_count": 10,
   "metadata": {},
   "outputs": [],
   "source": [
    "features_train = convert_examples_to_spanfeatures(examples_train, LABELS, 512, tokenizer, 256, True)"
   ]
  },
  {
   "cell_type": "code",
   "execution_count": 11,
   "metadata": {},
   "outputs": [
    {
     "data": {
      "text/plain": [
       "[<mlpack.datasets.biocreative3.InputSpanFeatures at 0x7f6ffe83ed10>]"
      ]
     },
     "execution_count": 11,
     "metadata": {},
     "output_type": "execute_result"
    }
   ],
   "source": [
    "features_train[0]"
   ]
  },
  {
   "cell_type": "code",
   "execution_count": 12,
   "metadata": {},
   "outputs": [],
   "source": [
    "features_train = sum(features_train, [])"
   ]
  },
  {
   "cell_type": "code",
   "execution_count": 13,
   "metadata": {},
   "outputs": [
    {
     "data": {
      "text/plain": [
       "[' functional domains of the syt and syt - ssx synovial sarcoma translocation proteins and co - localization with the snf protein brm in the nucleus. the t ( x ; 18 ) ( p11. 2 ; q11. 2 ) chromosomal translocation commonly found in synovial sarcomas fuses the syt gene on chromosome 18 to either of two similar genes, ssx1 or ssx2, on the x chromosome. the syt protein appears to act as a transcriptional co - activator and the ssx proteins as co - repressors. here we have investigated the functional domains of the proteins. the syt protein has a novel conserved 54 amino acid domain at the n - terminus of the protein ( the snh domain ) which is found in proteins from a wide variety of species, and a c - terminal domain, rich in glutamine, proline, glycine and tyrosine ( the qpgy domain ), which contains the transcriptional activator sequences. deletion of the snh domain results in a more active transcriptional activator, suggesting that this domain acts as an inhibitor of the activation domain. the c - terminal ssx domain present in syt - ssx translocation protein contributes a transcriptional repressor domain to the protein. thus, the fusion protein has transcriptional activating and repressing domains. we demonstrate that the human homologue of the snf2 / brahama protein brm co - localizes with syt and syt - ssx in nuclear speckles, and also interacts with syt and syt - ssx proteins in vitro. this interaction may provide an explanation of how the syt protein activates gene transcription. ',\n",
       " ' [PAD] [PAD] [PAD] [PAD] [PAD] [PAD] [PAD] [PAD] [PAD] [PAD] [PAD] [PAD] [PAD] [PAD] [PAD] [PAD] [PAD] [PAD] [PAD] [PAD] [PAD] [PAD] [PAD] [PAD] [PAD] [PAD] [PAD] [PAD] [PAD] [PAD] [PAD] [PAD] [PAD] [PAD] [PAD] [PAD] [PAD] [PAD] [PAD] [PAD] [PAD] [PAD] [PAD] [PAD] [PAD] [PAD] [PAD] [PAD] [PAD] [PAD] [PAD] [PAD] [PAD] [PAD] [PAD] [PAD] [PAD] [PAD] [PAD] [PAD] [PAD] [PAD] [PAD] [PAD] [PAD] [PAD] [PAD] [PAD] [PAD] [PAD] [PAD] [PAD] [PAD] [PAD] [PAD] [PAD] [PAD] [PAD] [PAD] [PAD] [PAD] [PAD] [PAD] [PAD] [PAD] [PAD] [PAD] [PAD] [PAD] [PAD] [PAD] [PAD] [PAD] [PAD] [PAD] [PAD] [PAD] [PAD] [PAD] [PAD] [PAD] [PAD] [PAD] [PAD] [PAD] [PAD] [PAD] [PAD] [PAD] [PAD] [PAD] [PAD] [PAD] [PAD] [PAD] [PAD] [PAD] [PAD] [PAD] [PAD] [PAD] [PAD] [PAD] [PAD] [PAD] [PAD] [PAD] [PAD] [PAD] [PAD] [PAD] [PAD] [PAD] [PAD] [PAD] [PAD] [PAD] [PAD] [PAD]']"
      ]
     },
     "execution_count": 13,
     "metadata": {},
     "output_type": "execute_result"
    }
   ],
   "source": [
    "tokenizer.decode(features_train[1].input_ids)"
   ]
  },
  {
   "cell_type": "code",
   "execution_count": null,
   "metadata": {},
   "outputs": [],
   "source": []
  }
 ],
 "metadata": {
  "kernelspec": {
   "display_name": "Python [conda env:bertenv]",
   "language": "python",
   "name": "conda-env-bertenv-py"
  },
  "language_info": {
   "codemirror_mode": {
    "name": "ipython",
    "version": 3
   },
   "file_extension": ".py",
   "mimetype": "text/x-python",
   "name": "python",
   "nbconvert_exporter": "python",
   "pygments_lexer": "ipython3",
   "version": "3.7.4"
  }
 },
 "nbformat": 4,
 "nbformat_minor": 2
}
