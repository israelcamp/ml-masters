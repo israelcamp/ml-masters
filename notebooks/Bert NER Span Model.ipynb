{
 "cells": [
  {
   "cell_type": "code",
   "execution_count": 1,
   "metadata": {},
   "outputs": [],
   "source": [
    "import re\n",
    "import os\n",
    "import sys\n",
    "sys.path.append('../')"
   ]
  },
  {
   "cell_type": "code",
   "execution_count": 2,
   "metadata": {},
   "outputs": [],
   "source": [
    "from transformers.tokenization_bert import BertTokenizer"
   ]
  },
  {
   "cell_type": "code",
   "execution_count": 3,
   "metadata": {},
   "outputs": [],
   "source": [
    "from mlpack.datasets.biocreative import read_examples, convert_examples_to_spanfeatures, LABELS"
   ]
  },
  {
   "cell_type": "code",
   "execution_count": 4,
   "metadata": {},
   "outputs": [],
   "source": [
    "from mlpack.bert.ner.dataset import InputFeaturesCollectionExtended\n",
    "from mlpack.bert.ner.model import BertForSpanNERClassification, BertForNERClassification\n",
    "from mlpack.bert.ner.utils import to_device"
   ]
  },
  {
   "cell_type": "markdown",
   "metadata": {},
   "source": [
    "# Examples"
   ]
  },
  {
   "cell_type": "code",
   "execution_count": 5,
   "metadata": {},
   "outputs": [],
   "source": [
    "folderpath = '../datasets/GNormPlus/GNormPlusCorpus/'"
   ]
  },
  {
   "cell_type": "code",
   "execution_count": 6,
   "metadata": {},
   "outputs": [],
   "source": [
    "ds_files = {\n",
    "    'train': 'BC2GNtrain.PubTator.txt',\n",
    "    'dev': 'BC2GNtest.PubTator.txt',\n",
    "}"
   ]
  },
  {
   "cell_type": "code",
   "execution_count": 7,
   "metadata": {},
   "outputs": [],
   "source": [
    "examples_train = read_examples(os.path.join(folderpath, ds_files['train']))"
   ]
  },
  {
   "cell_type": "code",
   "execution_count": 8,
   "metadata": {},
   "outputs": [],
   "source": [
    "example = examples_train[0]"
   ]
  },
  {
   "cell_type": "code",
   "execution_count": 9,
   "metadata": {},
   "outputs": [
    {
     "name": "stdout",
     "output_type": "stream",
     "text": [
      "A               O\n",
      "specific        O\n",
      "human           O\n",
      "lysophospholipase B-FamilyName\n",
      ":               O\n",
      "cDNA            O\n",
      "cloning         O\n",
      ",               O\n",
      "tissue          O\n",
      "distribution    O\n",
      "and             O\n",
      "kinetic         O\n",
      "characterization O\n",
      ".               O\n",
      "Lysophospholipases B-FamilyName\n",
      "are             O\n",
      "critical        O\n",
      "enzymes         O\n",
      "that            O\n",
      "act             O\n",
      "on              O\n",
      "biological      O\n",
      "membranes       O\n",
      "to              O\n",
      "regulate        O\n",
      "the             O\n",
      "multifunctional O\n",
      "lysophospholipids O\n",
      ";               O\n",
      "increased       O\n",
      "levels          O\n",
      "of              O\n",
      "lysophospholipids O\n",
      "are             O\n",
      "associated      O\n",
      "with            O\n",
      "a               O\n",
      "host            O\n",
      "of              O\n",
      "diseases        O\n",
      ".               O\n",
      "Herein          O\n",
      "we              O\n",
      "report          O\n",
      "the             O\n",
      "cDNA            O\n",
      "cloning         O\n",
      "of              O\n",
      "a               O\n",
      "human           O\n",
      "brain           O\n",
      "25              O\n",
      "kDa             O\n",
      "lysophospholipid B-Gene\n",
      "-               O\n",
      "specific        I-Gene\n",
      "lysophospholipase I-Gene\n",
      "(               O\n",
      "hLysoPLA        B-Gene\n",
      ")               O\n",
      ".               O\n",
      "The             O\n",
      "enzyme          O\n",
      "(               O\n",
      "at              O\n",
      "both            O\n",
      "mRNA            O\n",
      "and             O\n",
      "protein         O\n",
      "levels          O\n",
      ")               O\n",
      "is              O\n",
      "widely          O\n",
      "distributed     O\n",
      "in              O\n",
      "tissues         O\n",
      ",               O\n",
      "but             O\n",
      "with            O\n",
      "quite           O\n",
      "different       O\n",
      "abundances      O\n",
      ".               O\n",
      "The             O\n",
      "hLysoPLA        B-Gene\n",
      "hydrolyzes      O\n",
      "lysophosphatidylcholine O\n",
      "in              O\n",
      "both            O\n",
      "monomeric       O\n",
      "and             O\n",
      "micellar        O\n",
      "forms           O\n",
      ",               O\n",
      "and             O\n",
      "exhibits        O\n",
      "apparent        O\n",
      "cooperativity   O\n",
      "and             O\n",
      "surface         O\n",
      "dilution        O\n",
      "kinetics        O\n",
      ",               O\n",
      "but             O\n",
      "not             O\n",
      "interfacial     O\n",
      "activation      O\n",
      ".               O\n",
      "Detailed        O\n",
      "kinetic         O\n",
      "analysis        O\n",
      "indicates       O\n",
      "that            O\n",
      "the             O\n",
      "hLysoPLA        B-Gene\n",
      "binds           O\n",
      "first           O\n",
      "to              O\n",
      "the             O\n",
      "micellar        O\n",
      "surface         O\n",
      "and             O\n",
      "then            O\n",
      "to              O\n",
      "the             O\n",
      "substrate       O\n",
      "presented       O\n",
      "on              O\n",
      "the             O\n",
      "surface         O\n",
      ".               O\n",
      "The             O\n",
      "kinetic         O\n",
      "parameters      O\n",
      "associated      O\n",
      "with            O\n",
      "this            O\n",
      "surface         O\n",
      "dilution        O\n",
      "kinetic         O\n",
      "model           O\n",
      "are             O\n",
      "reported        O\n",
      ",               O\n",
      "and             O\n",
      "it              O\n",
      "is              O\n",
      "concluded       O\n",
      "that            O\n",
      "hLysoPLA        B-Gene\n",
      "has             O\n",
      "a               O\n",
      "single          O\n",
      "substrate       O\n",
      "binding         O\n",
      "site            O\n",
      "and             O\n",
      "a               O\n",
      "surface         O\n",
      "recognition     O\n",
      "site            O\n",
      ".               O\n",
      "The             O\n",
      "apparent        O\n",
      "cooperativity   O\n",
      "observed        O\n",
      "is              O\n",
      "likely          O\n",
      "due             O\n",
      "to              O\n",
      "the             O\n",
      "change          O\n",
      "of              O\n",
      "substrate       O\n",
      "presentation    O\n",
      ".               O\n",
      "In              O\n",
      "contrast        O\n",
      "to              O\n",
      "many            O\n",
      "non             O\n",
      "-               O\n",
      "specific        O\n",
      "lipolytic       O\n",
      "enzymes         O\n",
      "that            O\n",
      "exhibit         O\n",
      "lysophospholipase B-FamilyName\n",
      "activity        O\n",
      ",               O\n",
      "hLysoPLA        B-Gene\n",
      "hydrolyzes      O\n",
      "only            O\n",
      "lysophospholipids O\n",
      "and             O\n",
      "has             O\n",
      "no              O\n",
      "other           O\n",
      "significant     O\n",
      "enzymatic       O\n",
      "activity        O\n",
      ".               O\n",
      "Of              O\n",
      "special         O\n",
      "interest        O\n",
      ",               O\n",
      "hLysoPLA        B-Gene\n",
      "does            O\n",
      "not             O\n",
      "act             O\n",
      "on              O\n",
      "plasmenylcholine O\n",
      ".               O\n",
      "Of              O\n",
      "the             O\n",
      "several         O\n",
      "inhibitors      O\n",
      "tested          O\n",
      ",               O\n",
      "only            O\n",
      "methyl          O\n",
      "arachidonyl     O\n",
      "fluorophosphonate O\n",
      "(               O\n",
      "MAFP            O\n",
      ")               O\n",
      "potently        O\n",
      "and             O\n",
      "irreversibly    O\n",
      "inhibits        O\n",
      "the             O\n",
      "enzymatic       O\n",
      "activity        O\n",
      ".               O\n",
      "The             O\n",
      "inhibition      O\n",
      "by              O\n",
      "MAFP            O\n",
      "is              O\n",
      "consistent      O\n",
      "with            O\n",
      "the             O\n",
      "catalytic       O\n",
      "mechanism       O\n",
      "proposed        O\n",
      "for             O\n",
      "the             O\n",
      "enzyme          O\n",
      "-               O\n",
      "a               O\n",
      "serine          O\n",
      "hydrolase       O\n",
      "with            O\n",
      "a               O\n",
      "catalytic       O\n",
      "triad           O\n",
      "composed        O\n",
      "of              O\n",
      "Ser             O\n",
      "-               O\n",
      "119             O\n",
      ",               O\n",
      "Asp             O\n",
      "-               O\n",
      "174             O\n",
      "and             O\n",
      "His             O\n",
      "-               O\n",
      "208             O\n",
      ".               O\n"
     ]
    }
   ],
   "source": [
    "for tok, label in zip(example.doc_tokens, example.labels):\n",
    "    print(f'{tok:15} {label}')"
   ]
  },
  {
   "cell_type": "markdown",
   "metadata": {},
   "source": [
    "# Features"
   ]
  },
  {
   "cell_type": "code",
   "execution_count": 10,
   "metadata": {},
   "outputs": [],
   "source": [
    "tokenizer = BertTokenizer.from_pretrained('bert-base-uncased')"
   ]
  },
  {
   "cell_type": "code",
   "execution_count": 11,
   "metadata": {},
   "outputs": [],
   "source": [
    "features_train = convert_examples_to_spanfeatures(examples_train, LABELS, 512, tokenizer, 256, True)"
   ]
  },
  {
   "cell_type": "code",
   "execution_count": 12,
   "metadata": {},
   "outputs": [
    {
     "data": {
      "text/plain": [
       "[<mlpack.datasets.biocreative.InputSpanFeatures at 0x7fc2e5890e10>]"
      ]
     },
     "execution_count": 12,
     "metadata": {},
     "output_type": "execute_result"
    }
   ],
   "source": [
    "features_train[0]"
   ]
  },
  {
   "cell_type": "code",
   "execution_count": 13,
   "metadata": {},
   "outputs": [],
   "source": [
    "feat_collection = InputFeaturesCollectionExtended(features_train[0])"
   ]
  },
  {
   "cell_type": "code",
   "execution_count": 14,
   "metadata": {},
   "outputs": [],
   "source": [
    "input_ids, input_masks, label_ids, label_mask, max_context = feat_collection.batch"
   ]
  },
  {
   "cell_type": "code",
   "execution_count": 15,
   "metadata": {},
   "outputs": [],
   "source": [
    "input_ids, input_masks, label_ids, label_mask, max_context = to_device(\n",
    "    input_ids, input_masks, label_ids, label_mask, max_context)"
   ]
  },
  {
   "cell_type": "markdown",
   "metadata": {},
   "source": [
    "# Model"
   ]
  },
  {
   "cell_type": "code",
   "execution_count": 16,
   "metadata": {},
   "outputs": [],
   "source": [
    "NER_LABELS = [\n",
    "    l for l in LABELS if l not in [\"[PAD]\", \"[CLS]\", \"[SEP]\", \"X\"]\n",
    "]"
   ]
  },
  {
   "cell_type": "code",
   "execution_count": 17,
   "metadata": {},
   "outputs": [],
   "source": [
    "model = BertForSpanNERClassification.from_pretrained('bert-base-uncased',\n",
    "                                                    num_labels=len(NER_LABELS),\n",
    "                                                    output_hidden_states=True,\n",
    "                                                    pooler='concat')"
   ]
  },
  {
   "cell_type": "code",
   "execution_count": 28,
   "metadata": {},
   "outputs": [],
   "source": [
    "out = model(input_ids, input_masks, label_ids, label_mask, max_context)"
   ]
  },
  {
   "cell_type": "code",
   "execution_count": 29,
   "metadata": {},
   "outputs": [
    {
     "data": {
      "text/plain": [
       "(tensor(1.9673, grad_fn=<NllLossBackward>),\n",
       " tensor([[-0.7097, -0.2071,  0.8138,  ...,  0.3340,  0.4709, -0.3029],\n",
       "         [-0.6222,  0.2292,  0.5387,  ..., -0.0971,  0.9337,  0.2070],\n",
       "         [-0.8403,  0.5457,  0.5237,  ...,  0.3539, -0.0242, -0.0825],\n",
       "         ...,\n",
       "         [-0.2167,  0.0692,  0.6263,  ..., -0.2732,  0.7643, -1.1343],\n",
       "         [-0.2137, -0.3081, -0.3732,  ...,  0.6649,  0.5804, -0.2463],\n",
       "         [ 0.2744, -0.0453, -0.2288,  ...,  0.0409,  0.2530, -0.0031]],\n",
       "        grad_fn=<IndexBackward>),\n",
       " tensor([1, 1, 1, 4, 1, 1, 1, 1, 1, 1, 1, 1, 1, 1, 4, 1, 1, 1, 1, 1, 1, 1, 1, 1,\n",
       "         1, 1, 1, 1, 1, 1, 1, 1, 1, 1, 1, 1, 1, 1, 1, 1, 1, 1, 1, 1, 1, 1, 1, 1,\n",
       "         1, 1, 1, 1, 1, 2, 1, 3, 3, 1, 2, 1, 1, 1, 1, 1, 1, 1, 1, 1, 1, 1, 1, 1,\n",
       "         1, 1, 1, 1, 1, 1, 1, 1, 1, 1, 1, 1, 2, 1, 1, 1, 1, 1, 1, 1, 1, 1, 1, 1,\n",
       "         1, 1, 1, 1, 1, 1, 1, 1, 1, 1, 1, 1, 1, 1, 1, 1, 1, 1, 2, 1, 1, 1, 1, 1,\n",
       "         1, 1, 1, 1, 1, 1, 1, 1, 1, 1, 1, 1, 1, 1, 1, 1, 1, 1, 1, 1, 1, 1, 1, 1,\n",
       "         1, 1, 1, 1, 1, 2, 1, 1, 1, 1, 1, 1, 1, 1, 1, 1, 1, 1, 1, 1, 1, 1, 1, 1,\n",
       "         1, 1, 1, 1, 1, 1, 1, 1, 1, 1, 1, 1, 1, 1, 1, 1, 1, 1, 1, 4, 1, 1, 2, 1,\n",
       "         1, 1, 1, 1, 1, 1, 1, 1, 1, 1, 1, 1, 1, 1, 2, 1, 1, 1, 1, 1, 1, 1, 1, 1,\n",
       "         1, 1, 1, 1, 1, 1, 1, 1, 1, 1, 1, 1, 1, 1, 1, 1, 1, 1, 1, 1, 1, 1, 1, 1,\n",
       "         1, 1, 1, 1, 1, 1, 1, 1, 1, 1, 1, 1, 1, 1, 1, 1, 1, 1, 1, 1, 1, 1, 1, 1,\n",
       "         1, 1, 1, 1, 1, 1]))"
      ]
     },
     "execution_count": 29,
     "metadata": {},
     "output_type": "execute_result"
    }
   ],
   "source": [
    "out"
   ]
  },
  {
   "cell_type": "code",
   "execution_count": null,
   "metadata": {},
   "outputs": [],
   "source": []
  }
 ],
 "metadata": {
  "kernelspec": {
   "display_name": "Python [conda env:bertenv]",
   "language": "python",
   "name": "conda-env-bertenv-py"
  },
  "language_info": {
   "codemirror_mode": {
    "name": "ipython",
    "version": 3
   },
   "file_extension": ".py",
   "mimetype": "text/x-python",
   "name": "python",
   "nbconvert_exporter": "python",
   "pygments_lexer": "ipython3",
   "version": "3.7.4"
  }
 },
 "nbformat": 4,
 "nbformat_minor": 2
}
