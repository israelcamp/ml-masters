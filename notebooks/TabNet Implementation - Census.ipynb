{
 "cells": [
  {
   "cell_type": "markdown",
   "metadata": {},
   "source": [
    "# Imports"
   ]
  },
  {
   "cell_type": "code",
   "execution_count": 1,
   "metadata": {},
   "outputs": [],
   "source": [
    "import math"
   ]
  },
  {
   "cell_type": "code",
   "execution_count": 2,
   "metadata": {},
   "outputs": [],
   "source": [
    "from sklearn.preprocessing import LabelEncoder\n",
    "from sklearn.metrics import roc_auc_score\n",
    "\n",
    "import pandas as pd\n",
    "import numpy as np\n",
    "np.random.seed(0)\n",
    "\n",
    "\n",
    "import os\n",
    "import wget\n",
    "from pathlib import Path\n",
    "\n",
    "from matplotlib import pyplot as plt"
   ]
  },
  {
   "cell_type": "code",
   "execution_count": 3,
   "metadata": {},
   "outputs": [],
   "source": [
    "import torch\n",
    "from torch import nn\n",
    "import torch.nn.functional as F\n",
    "from torch.utils.data import Dataset, DataLoader, TensorDataset"
   ]
  },
  {
   "cell_type": "code",
   "execution_count": 4,
   "metadata": {},
   "outputs": [],
   "source": [
    "device = 'cuda'"
   ]
  },
  {
   "cell_type": "markdown",
   "metadata": {},
   "source": [
    "# The dataset"
   ]
  },
  {
   "cell_type": "code",
   "execution_count": 5,
   "metadata": {},
   "outputs": [],
   "source": [
    "url = \"https://archive.ics.uci.edu/ml/machine-learning-databases/adult/adult.data\"\n",
    "dataset_name = 'census-income'\n",
    "out = Path(os.getcwd().rsplit(\"/\",  1)[0]+'/data/'+dataset_name+'.csv')"
   ]
  },
  {
   "cell_type": "code",
   "execution_count": 6,
   "metadata": {},
   "outputs": [
    {
     "name": "stdout",
     "output_type": "stream",
     "text": [
      "Downloading file...\n"
     ]
    }
   ],
   "source": [
    "out.parent.mkdir(parents=True, exist_ok=True)\n",
    "if out.exists():\n",
    "    print(\"File already exists.\")\n",
    "else:\n",
    "    print(\"Downloading file...\")\n",
    "    wget.download(url, out.as_posix())"
   ]
  },
  {
   "cell_type": "code",
   "execution_count": 60,
   "metadata": {},
   "outputs": [],
   "source": [
    "train = pd.read_csv(out)\n",
    "target = ' <=50K'\n",
    "if \"Set\" not in train.columns:\n",
    "    train[\"Set\"] = np.random.choice([\"train\", \"valid\", \"test\"], p =[.8, .1, .1], size=(train.shape[0],))\n",
    "\n",
    "train_indices = train[train.Set==\"train\"].index\n",
    "valid_indices = train[train.Set==\"valid\"].index\n",
    "test_indices = train[train.Set==\"test\"].index"
   ]
  },
  {
   "cell_type": "code",
   "execution_count": 61,
   "metadata": {},
   "outputs": [
    {
     "name": "stdout",
     "output_type": "stream",
     "text": [
      " State-gov 9\n",
      " Bachelors 16\n",
      " Never-married 7\n",
      " Adm-clerical 15\n",
      " Not-in-family 6\n",
      " White 5\n",
      " Male 2\n",
      " United-States 42\n",
      " <=50K 2\n",
      "Set 3\n"
     ]
    }
   ],
   "source": [
    "categorical_columns = []\n",
    "categorical_dims =  {}\n",
    "for col in train.columns[train.dtypes == object]:\n",
    "    print(col, train[col].nunique())\n",
    "    l_enc = LabelEncoder()\n",
    "    train[col] = train[col].fillna(\"VV_likely\")\n",
    "    train[col] = l_enc.fit_transform(train[col].values)\n",
    "    categorical_columns.append(col)\n",
    "    categorical_dims[col] = len(l_enc.classes_)\n",
    "\n",
    "for col in train.columns[train.dtypes == 'float64']:\n",
    "    train.fillna(train.loc[train_indices, col].mean(), inplace=True)"
   ]
  },
  {
   "cell_type": "code",
   "execution_count": 62,
   "metadata": {},
   "outputs": [
    {
     "data": {
      "text/html": [
       "<div>\n",
       "<style scoped>\n",
       "    .dataframe tbody tr th:only-of-type {\n",
       "        vertical-align: middle;\n",
       "    }\n",
       "\n",
       "    .dataframe tbody tr th {\n",
       "        vertical-align: top;\n",
       "    }\n",
       "\n",
       "    .dataframe thead th {\n",
       "        text-align: right;\n",
       "    }\n",
       "</style>\n",
       "<table border=\"1\" class=\"dataframe\">\n",
       "  <thead>\n",
       "    <tr style=\"text-align: right;\">\n",
       "      <th></th>\n",
       "      <th>39</th>\n",
       "      <th>State-gov</th>\n",
       "      <th>77516</th>\n",
       "      <th>Bachelors</th>\n",
       "      <th>13</th>\n",
       "      <th>Never-married</th>\n",
       "      <th>Adm-clerical</th>\n",
       "      <th>Not-in-family</th>\n",
       "      <th>White</th>\n",
       "      <th>Male</th>\n",
       "      <th>2174</th>\n",
       "      <th>0</th>\n",
       "      <th>40</th>\n",
       "      <th>United-States</th>\n",
       "      <th>&lt;=50K</th>\n",
       "      <th>Set</th>\n",
       "    </tr>\n",
       "  </thead>\n",
       "  <tbody>\n",
       "    <tr>\n",
       "      <td>0</td>\n",
       "      <td>50</td>\n",
       "      <td>6</td>\n",
       "      <td>83311</td>\n",
       "      <td>9</td>\n",
       "      <td>13</td>\n",
       "      <td>2</td>\n",
       "      <td>4</td>\n",
       "      <td>0</td>\n",
       "      <td>4</td>\n",
       "      <td>1</td>\n",
       "      <td>0</td>\n",
       "      <td>0</td>\n",
       "      <td>13</td>\n",
       "      <td>39</td>\n",
       "      <td>0</td>\n",
       "      <td>1</td>\n",
       "    </tr>\n",
       "    <tr>\n",
       "      <td>1</td>\n",
       "      <td>38</td>\n",
       "      <td>4</td>\n",
       "      <td>215646</td>\n",
       "      <td>11</td>\n",
       "      <td>9</td>\n",
       "      <td>0</td>\n",
       "      <td>6</td>\n",
       "      <td>1</td>\n",
       "      <td>4</td>\n",
       "      <td>1</td>\n",
       "      <td>0</td>\n",
       "      <td>0</td>\n",
       "      <td>40</td>\n",
       "      <td>39</td>\n",
       "      <td>0</td>\n",
       "      <td>1</td>\n",
       "    </tr>\n",
       "    <tr>\n",
       "      <td>2</td>\n",
       "      <td>53</td>\n",
       "      <td>4</td>\n",
       "      <td>234721</td>\n",
       "      <td>1</td>\n",
       "      <td>7</td>\n",
       "      <td>2</td>\n",
       "      <td>6</td>\n",
       "      <td>0</td>\n",
       "      <td>2</td>\n",
       "      <td>1</td>\n",
       "      <td>0</td>\n",
       "      <td>0</td>\n",
       "      <td>40</td>\n",
       "      <td>39</td>\n",
       "      <td>0</td>\n",
       "      <td>1</td>\n",
       "    </tr>\n",
       "    <tr>\n",
       "      <td>3</td>\n",
       "      <td>28</td>\n",
       "      <td>4</td>\n",
       "      <td>338409</td>\n",
       "      <td>9</td>\n",
       "      <td>13</td>\n",
       "      <td>2</td>\n",
       "      <td>10</td>\n",
       "      <td>5</td>\n",
       "      <td>2</td>\n",
       "      <td>0</td>\n",
       "      <td>0</td>\n",
       "      <td>0</td>\n",
       "      <td>40</td>\n",
       "      <td>5</td>\n",
       "      <td>0</td>\n",
       "      <td>1</td>\n",
       "    </tr>\n",
       "    <tr>\n",
       "      <td>4</td>\n",
       "      <td>37</td>\n",
       "      <td>4</td>\n",
       "      <td>284582</td>\n",
       "      <td>12</td>\n",
       "      <td>14</td>\n",
       "      <td>2</td>\n",
       "      <td>4</td>\n",
       "      <td>5</td>\n",
       "      <td>4</td>\n",
       "      <td>0</td>\n",
       "      <td>0</td>\n",
       "      <td>0</td>\n",
       "      <td>40</td>\n",
       "      <td>39</td>\n",
       "      <td>0</td>\n",
       "      <td>1</td>\n",
       "    </tr>\n",
       "  </tbody>\n",
       "</table>\n",
       "</div>"
      ],
      "text/plain": [
       "   39   State-gov   77516   Bachelors   13   Never-married   Adm-clerical  \\\n",
       "0  50           6   83311           9   13               2              4   \n",
       "1  38           4  215646          11    9               0              6   \n",
       "2  53           4  234721           1    7               2              6   \n",
       "3  28           4  338409           9   13               2             10   \n",
       "4  37           4  284582          12   14               2              4   \n",
       "\n",
       "    Not-in-family   White   Male   2174   0   40   United-States   <=50K  Set  \n",
       "0               0       4      1      0   0   13              39       0    1  \n",
       "1               1       4      1      0   0   40              39       0    1  \n",
       "2               0       2      1      0   0   40              39       0    1  \n",
       "3               5       2      0      0   0   40               5       0    1  \n",
       "4               5       4      0      0   0   40              39       0    1  "
      ]
     },
     "execution_count": 62,
     "metadata": {},
     "output_type": "execute_result"
    }
   ],
   "source": [
    "train.head()"
   ]
  },
  {
   "cell_type": "code",
   "execution_count": 63,
   "metadata": {},
   "outputs": [],
   "source": [
    "categorical_columns.remove('Set')\n",
    "categorical_columns.remove(' <=50K')"
   ]
  },
  {
   "cell_type": "code",
   "execution_count": 64,
   "metadata": {},
   "outputs": [],
   "source": [
    "all_columns = train.columns"
   ]
  },
  {
   "cell_type": "code",
   "execution_count": 65,
   "metadata": {},
   "outputs": [],
   "source": [
    "cont_columns = [s for s in all_columns if s not in categorical_columns]"
   ]
  },
  {
   "cell_type": "code",
   "execution_count": 66,
   "metadata": {},
   "outputs": [],
   "source": [
    "cont_columns.remove('Set')\n",
    "cont_columns.remove(' <=50K')"
   ]
  },
  {
   "cell_type": "code",
   "execution_count": 72,
   "metadata": {},
   "outputs": [],
   "source": [
    "target_column = ' <=50K'"
   ]
  },
  {
   "cell_type": "code",
   "execution_count": 68,
   "metadata": {},
   "outputs": [
    {
     "data": {
      "text/plain": [
       "(['39', ' 77516', ' 13', ' 2174', ' 0', ' 40'],\n",
       " [' State-gov',\n",
       "  ' Bachelors',\n",
       "  ' Never-married',\n",
       "  ' Adm-clerical',\n",
       "  ' Not-in-family',\n",
       "  ' White',\n",
       "  ' Male',\n",
       "  ' United-States'],\n",
       " [' <=50K'])"
      ]
     },
     "execution_count": 68,
     "metadata": {},
     "output_type": "execute_result"
    }
   ],
   "source": [
    "cont_columns, categorical_columns, target_column"
   ]
  },
  {
   "cell_type": "code",
   "execution_count": 69,
   "metadata": {},
   "outputs": [],
   "source": [
    "features = cont_columns + categorical_columns"
   ]
  },
  {
   "cell_type": "code",
   "execution_count": 70,
   "metadata": {},
   "outputs": [
    {
     "data": {
      "text/plain": [
       "(8, 8, 6)"
      ]
     },
     "execution_count": 70,
     "metadata": {},
     "output_type": "execute_result"
    }
   ],
   "source": [
    "len_cat_cols = len(categorical_columns)\n",
    "len_cont_cols = len(cont_columns)\n",
    "cat_emb_dim=[2, 2, 3, 2, 2, 3, 2, 2]\n",
    "len(cat_emb_dim), len_cat_cols, len_cont_cols"
   ]
  },
  {
   "cell_type": "code",
   "execution_count": 73,
   "metadata": {},
   "outputs": [],
   "source": [
    "cat_dims = [categorical_dims[f] for i, f in enumerate(features) if f in categorical_columns]"
   ]
  },
  {
   "cell_type": "code",
   "execution_count": 74,
   "metadata": {},
   "outputs": [
    {
     "data": {
      "text/plain": [
       "[9, 16, 7, 15, 6, 5, 2, 42]"
      ]
     },
     "execution_count": 74,
     "metadata": {},
     "output_type": "execute_result"
    }
   ],
   "source": [
    "cat_dims"
   ]
  },
  {
   "cell_type": "code",
   "execution_count": 91,
   "metadata": {},
   "outputs": [],
   "source": [
    "n_classes = len(np.unique(train[target].values))"
   ]
  },
  {
   "cell_type": "code",
   "execution_count": 75,
   "metadata": {},
   "outputs": [],
   "source": [
    "X_train = train[features].values[train_indices]\n",
    "y_train = train[target].values[train_indices]\n",
    "\n",
    "X_valid = train[features].values[valid_indices]\n",
    "y_valid = train[target].values[valid_indices]\n",
    "\n",
    "X_test = train[features].values[test_indices]\n",
    "y_test = train[target].values[test_indices]"
   ]
  },
  {
   "cell_type": "code",
   "execution_count": 76,
   "metadata": {},
   "outputs": [],
   "source": [
    "ds_train = TensorDataset(torch.tensor(X_train).float(), torch.tensor(y_train))\n",
    "ds_valid = TensorDataset(torch.tensor(X_valid).float(), torch.tensor(y_valid))"
   ]
  },
  {
   "cell_type": "code",
   "execution_count": 77,
   "metadata": {},
   "outputs": [],
   "source": [
    "dl_train = DataLoader(ds_train, batch_size=128, shuffle=True, num_workers=4)\n",
    "dl_valid = DataLoader(ds_valid, batch_size=128, shuffle=False, num_workers=4)"
   ]
  },
  {
   "cell_type": "markdown",
   "metadata": {},
   "source": [
    "# Sparsemax"
   ]
  },
  {
   "cell_type": "code",
   "execution_count": 78,
   "metadata": {},
   "outputs": [],
   "source": [
    "from torch import nn\n",
    "from torch.autograd import Function\n",
    "import torch.nn.functional as F\n",
    "\n",
    "import torch\n",
    "\n",
    "\"\"\"\n",
    "Other possible implementations:\n",
    "https://github.com/KrisKorrel/sparsemax-pytorch/blob/master/sparsemax.py\n",
    "https://github.com/msobroza/SparsemaxPytorch/blob/master/mnist/sparsemax.py\n",
    "https://github.com/vene/sparse-structured-attention/blob/master/pytorch/torchsparseattn/sparsemax.py\n",
    "\"\"\"\n",
    "\n",
    "\n",
    "# credits to Yandex https://github.com/Qwicen/node/blob/master/lib/nn_utils.py\n",
    "def _make_ix_like(input, dim=0):\n",
    "    d = input.size(dim)\n",
    "    rho = torch.arange(1, d + 1, device=input.device, dtype=input.dtype)\n",
    "    view = [1] * input.dim()\n",
    "    view[0] = -1\n",
    "    return rho.view(view).transpose(0, dim)\n",
    "\n",
    "\n",
    "class SparsemaxFunction(Function):\n",
    "    \"\"\"\n",
    "    An implementation of sparsemax (Martins & Astudillo, 2016). See\n",
    "    :cite:`DBLP:journals/corr/MartinsA16` for detailed description.\n",
    "    By Ben Peters and Vlad Niculae\n",
    "    \"\"\"\n",
    "\n",
    "    @staticmethod\n",
    "    def forward(ctx, input, dim=-1):\n",
    "        \"\"\"sparsemax: normalizing sparse transform (a la softmax)\n",
    "        Parameters:\n",
    "            input (Tensor): any shape\n",
    "            dim: dimension along which to apply sparsemax\n",
    "        Returns:\n",
    "            output (Tensor): same shape as input\n",
    "        \"\"\"\n",
    "        ctx.dim = dim\n",
    "        max_val, _ = input.max(dim=dim, keepdim=True)\n",
    "        input -= max_val  # same numerical stability trick as for softmax\n",
    "        tau, supp_size = SparsemaxFunction._threshold_and_support(input, dim=dim)\n",
    "        output = torch.clamp(input - tau, min=0)\n",
    "        ctx.save_for_backward(supp_size, output)\n",
    "        return output\n",
    "\n",
    "    @staticmethod\n",
    "    def backward(ctx, grad_output):\n",
    "        supp_size, output = ctx.saved_tensors\n",
    "        dim = ctx.dim\n",
    "        grad_input = grad_output.clone()\n",
    "        grad_input[output == 0] = 0\n",
    "\n",
    "        v_hat = grad_input.sum(dim=dim) / supp_size.to(output.dtype).squeeze()\n",
    "        v_hat = v_hat.unsqueeze(dim)\n",
    "        grad_input = torch.where(output != 0, grad_input - v_hat, grad_input)\n",
    "        return grad_input, None\n",
    "\n",
    "    @staticmethod\n",
    "    def _threshold_and_support(input, dim=-1):\n",
    "        \"\"\"Sparsemax building block: compute the threshold\n",
    "        Args:\n",
    "            input: any dimension\n",
    "            dim: dimension along which to apply the sparsemax\n",
    "        Returns:\n",
    "            the threshold value\n",
    "        \"\"\"\n",
    "\n",
    "        input_srt, _ = torch.sort(input, descending=True, dim=dim)\n",
    "        input_cumsum = input_srt.cumsum(dim) - 1\n",
    "        rhos = _make_ix_like(input, dim)\n",
    "        support = rhos * input_srt > input_cumsum\n",
    "\n",
    "        support_size = support.sum(dim=dim).unsqueeze(dim)\n",
    "        tau = input_cumsum.gather(dim, support_size - 1)\n",
    "        tau /= support_size.to(input.dtype)\n",
    "        return tau, support_size\n",
    "\n",
    "\n",
    "sparsemax = SparsemaxFunction.apply\n",
    "\n",
    "\n",
    "class Sparsemax(nn.Module):\n",
    "\n",
    "    def __init__(self, dim=-1):\n",
    "        self.dim = dim\n",
    "        super(Sparsemax, self).__init__()\n",
    "\n",
    "    def forward(self, input):\n",
    "        return sparsemax(input, self.dim)"
   ]
  },
  {
   "cell_type": "markdown",
   "metadata": {},
   "source": [
    "# The  Model"
   ]
  },
  {
   "cell_type": "code",
   "execution_count": 79,
   "metadata": {},
   "outputs": [],
   "source": [
    "class GLU(nn.Module):\n",
    "\n",
    "    def __init__(self, units):\n",
    "        super().__init__()\n",
    "        self.units = units\n",
    "\n",
    "    def forward(self, x):\n",
    "\n",
    "        return x[:, :self.units] * torch.sigmoid(x[:, self.units:])"
   ]
  },
  {
   "cell_type": "code",
   "execution_count": 80,
   "metadata": {},
   "outputs": [],
   "source": [
    "class FeatureTransformer(nn.Module):\n",
    "\n",
    "    def __init__(self, in_features, out_features, bn_momentum, previous_transformer=None):\n",
    "        super().__init__()\n",
    "        self.block1 = self.block(in_features, out_features, bn_momentum)\n",
    "        self.block2 = self.block(out_features, out_features, bn_momentum)\n",
    "        self.previous_transformer = previous_transformer\n",
    "\n",
    "    def block(self, in_features, out_features, bn_momentum):\n",
    "        return nn.Sequential(\n",
    "            nn.Linear(in_features, out_features * 2, bias=False),\n",
    "            nn.BatchNorm1d(out_features * 2, momentum=bn_momentum),\n",
    "            GLU(out_features)\n",
    "        )\n",
    "\n",
    "    def forward(self, x):\n",
    "        if self.previous_transformer is not None:\n",
    "            x = self.previous_transformer(x)\n",
    "\n",
    "        o1 = self.block1(x)\n",
    "\n",
    "        if self.previous_transformer is not None:\n",
    "            o1 = (o1 + x) * math.sqrt(0.5)\n",
    "\n",
    "        o2 = self.block2(o1)\n",
    "        return (o2 + o1) * math.sqrt(0.5)"
   ]
  },
  {
   "cell_type": "code",
   "execution_count": 81,
   "metadata": {},
   "outputs": [],
   "source": [
    "class AttentiveTransformer(nn.Module):\n",
    "\n",
    "    def __init__(self, comp_size, n_features, relaxation_factor, epsilon):\n",
    "        super().__init__()\n",
    "        self.relaxation_factor = relaxation_factor\n",
    "        self.epsilon = epsilon\n",
    "\n",
    "        self.dense = nn.Linear(comp_size, n_features)\n",
    "        self.bn = nn.BatchNorm1d(n_features)\n",
    "        self.sparsemax = Sparsemax()\n",
    "\n",
    "    def forward(self, features_for_coef, complemantary_aggregated_mask_values):\n",
    "        mask_values = self.dense(features_for_coef)\n",
    "        mask_values = self.bn(mask_values)\n",
    "        mask_values =  mask_values * complemantary_aggregated_mask_values\n",
    "        mask_values = self.sparsemax(mask_values)\n",
    "\n",
    "        complemantary_aggregated_mask_values = complemantary_aggregated_mask_values * (\n",
    "            self.relaxation_factor - mask_values)\n",
    "        entropy = torch.sum(-mask_values *\n",
    "                            torch.log(mask_values + self.epsilon), dim=1)\n",
    "        entropy = entropy.mean()\n",
    "        return mask_values, complemantary_aggregated_mask_values, entropy"
   ]
  },
  {
   "cell_type": "code",
   "execution_count": 98,
   "metadata": {},
   "outputs": [],
   "source": [
    "class TabNet(nn.Module):\n",
    "\n",
    "    def __init__(self, n_features, hidden_size, output_dim, decision_steps=2,\n",
    "                 relaxation_factor=1, epsilon=1e-4, bn_momentum=0.7):\n",
    "        super().__init__()\n",
    "\n",
    "        self.hidden_size = hidden_size\n",
    "        self.output_dim = output_dim\n",
    "        self.n_features = n_features\n",
    "        self.decision_steps = decision_steps\n",
    "        self.bn_momentum = bn_momentum\n",
    "\n",
    "        self.bn = nn.BatchNorm1d(n_features, momentum=self.bn_momentum)\n",
    "\n",
    "        # feature transformer shared accross steps\n",
    "        self.shared_transformer = FeatureTransformer(n_features, hidden_size, self.bn_momentum)\n",
    "\n",
    "        # step dependent feature transformer\n",
    "        self.step_transformers = nn.ModuleList([\n",
    "            FeatureTransformer(hidden_size, hidden_size, self.bn_momentum,\n",
    "                               self.shared_transformer)\n",
    "            for _ in range(decision_steps)\n",
    "        ])\n",
    "\n",
    "        self.attentive_transformers = nn.ModuleList([\n",
    "            AttentiveTransformer(\n",
    "                self.hidden_size-self.output_dim, self.n_features, relaxation_factor, epsilon)\n",
    "            for _ in range(decision_steps - 1)\n",
    "        ])\n",
    "\n",
    "    def forward(self, x, output_masks=False):\n",
    "        x = self.bn(x)  # applies batch norm on the input\n",
    "        batch_size = x.shape[0]\n",
    "        output_aggregated = torch.zeros(batch_size, self.output_dim).to(device)\n",
    "        mask_values = torch.zeros(batch_size, self.n_features).to(device)\n",
    "        aggregated_mask_values = torch.zeros(\n",
    "            batch_size, self.n_features).to(device)\n",
    "        complemantary_aggregated_mask_values = torch.ones(\n",
    "            batch_size, self.n_features).to(device)\n",
    "        total_entropy = 0\n",
    "\n",
    "        mask_values_per_step = []\n",
    "\n",
    "        masked_features = x\n",
    "\n",
    "        for i, step_transformer in enumerate(self.step_transformers):\n",
    "\n",
    "            o = step_transformer(masked_features)\n",
    "\n",
    "            if i > 0:\n",
    "                decision_out = F.relu(o[:, :self.output_dim])\n",
    "                output_aggregated = output_aggregated + decision_out\n",
    "\n",
    "                # for visualization\n",
    "                scale_agg = torch.sum(\n",
    "                    decision_out, dim=1, keepdim=True) / (self.decision_steps - 1)\n",
    "                aggregated_mask_values = aggregated_mask_values + mask_values * scale_agg\n",
    "\n",
    "            features_for_coef = o[:, self.output_dim:]\n",
    "\n",
    "            if i < self.decision_steps - 1:\n",
    "                attentive_transformer = self.attentive_transformers[i]\n",
    "                mask_values, complemantary_aggregated_mask_values, entropy = attentive_transformer(\n",
    "                    features_for_coef, complemantary_aggregated_mask_values)\n",
    "                total_entropy = total_entropy + \\\n",
    "                    entropy / (self.decision_steps - 1)\n",
    "\n",
    "                masked_features = mask_values * x\n",
    "\n",
    "                if output_masks:\n",
    "                    mask_values_per_step.append(mask_values.detach().cpu())\n",
    "\n",
    "        outputs = (output_aggregated, total_entropy)\n",
    "        if output_masks:\n",
    "            outputs = outputs + (aggregated_mask_values, mask_values_per_step)\n",
    "\n",
    "        return outputs"
   ]
  },
  {
   "cell_type": "code",
   "execution_count": 128,
   "metadata": {},
   "outputs": [],
   "source": [
    "class TabNetClassifier(TabNet):\n",
    "    \n",
    "    def __init__(self, output_dim, n_classes, n_cont_feats, cat_dims, cat_emb_dims, **tabnet_kwargs):\n",
    "        \n",
    "        self.n_cont_feats = n_cont_feats\n",
    "        self.total_cat_feats = sum(cat_emb_dims)\n",
    "        self.total_feats = n_cont_feats + self.total_cat_feats\n",
    "        \n",
    "        super().__init__(output_dim=output_dim,n_features=self.total_feats, **tabnet_kwargs)\n",
    "        \n",
    "        assert len(cat_dims) == len(cat_emb_dims)\n",
    "                \n",
    "\n",
    "        \n",
    "        self.embs = nn.ModuleList([\n",
    "            nn.Embedding(nc, ne) for nc, ne in zip(cat_dims, cat_emb_dims)\n",
    "        ])\n",
    "        \n",
    "        self.classifier = nn.Linear(output_dim, n_classes, bias=False)\n",
    "    \n",
    "    def forward(self, x, output_masks=False):\n",
    "        x_cont = x[:,:self.n_cont_feats]\n",
    "        x_cat = torch.empty(x.shape[0], self.total_cat_feats).to(x.device)\n",
    "        \n",
    "        start = 0\n",
    "        for i, emb in enumerate(self.embs):\n",
    "            xi = x[:, i + self.n_cont_feats].long()\n",
    "            xemb = emb(xi)            \n",
    "            end = start + xemb.shape[1]\n",
    "            x_cat[:, start:end] = xemb\n",
    "            start = end\n",
    "            \n",
    "        x = torch.cat((x_cont, x_cat), dim=1)\n",
    "        \n",
    "        outputs = super().forward(x, output_masks)\n",
    "        logits = self.classifier(outputs[0])\n",
    "        outputs = (logits,) + outputs\n",
    "        return outputs"
   ]
  },
  {
   "cell_type": "code",
   "execution_count": 194,
   "metadata": {},
   "outputs": [],
   "source": [
    "out_features = 16\n",
    "output_dim = 8"
   ]
  },
  {
   "cell_type": "code",
   "execution_count": 193,
   "metadata": {},
   "outputs": [
    {
     "data": {
      "text/plain": [
       "1024"
      ]
     },
     "execution_count": 193,
     "metadata": {},
     "output_type": "execute_result"
    }
   ],
   "source": [
    "128 * 8"
   ]
  },
  {
   "cell_type": "code",
   "execution_count": 210,
   "metadata": {},
   "outputs": [],
   "source": [
    "# tabnet = TabNet(in_features, out_features, output_dim, decision_steps=4)\n",
    "model = TabNetClassifier(output_dim, n_classes,\n",
    "                        n_cont_feats=len_cont_cols,\n",
    "                        cat_dims=cat_dims,\n",
    "                        cat_emb_dims=cat_emb_dim,\n",
    "                        hidden_size=out_features,\n",
    "                        relaxation_factor=1.0,\n",
    "                        bn_momentum=0.1,\n",
    "                        epsilon=1e-15,\n",
    "                        decision_steps=4)"
   ]
  },
  {
   "cell_type": "code",
   "execution_count": 211,
   "metadata": {},
   "outputs": [],
   "source": [
    "device = 'cuda'"
   ]
  },
  {
   "cell_type": "code",
   "execution_count": 212,
   "metadata": {
    "scrolled": true
   },
   "outputs": [
    {
     "data": {
      "text/plain": [
       "TabNetClassifier(\n",
       "  (bn): BatchNorm1d(24, eps=1e-05, momentum=0.1, affine=True, track_running_stats=True)\n",
       "  (shared_transformer): FeatureTransformer(\n",
       "    (block1): Sequential(\n",
       "      (0): Linear(in_features=24, out_features=32, bias=False)\n",
       "      (1): BatchNorm1d(32, eps=1e-05, momentum=0.1, affine=True, track_running_stats=True)\n",
       "      (2): GLU()\n",
       "    )\n",
       "    (block2): Sequential(\n",
       "      (0): Linear(in_features=16, out_features=32, bias=False)\n",
       "      (1): BatchNorm1d(32, eps=1e-05, momentum=0.1, affine=True, track_running_stats=True)\n",
       "      (2): GLU()\n",
       "    )\n",
       "  )\n",
       "  (step_transformers): ModuleList(\n",
       "    (0): FeatureTransformer(\n",
       "      (block1): Sequential(\n",
       "        (0): Linear(in_features=16, out_features=32, bias=False)\n",
       "        (1): BatchNorm1d(32, eps=1e-05, momentum=0.1, affine=True, track_running_stats=True)\n",
       "        (2): GLU()\n",
       "      )\n",
       "      (block2): Sequential(\n",
       "        (0): Linear(in_features=16, out_features=32, bias=False)\n",
       "        (1): BatchNorm1d(32, eps=1e-05, momentum=0.1, affine=True, track_running_stats=True)\n",
       "        (2): GLU()\n",
       "      )\n",
       "      (previous_transformer): FeatureTransformer(\n",
       "        (block1): Sequential(\n",
       "          (0): Linear(in_features=24, out_features=32, bias=False)\n",
       "          (1): BatchNorm1d(32, eps=1e-05, momentum=0.1, affine=True, track_running_stats=True)\n",
       "          (2): GLU()\n",
       "        )\n",
       "        (block2): Sequential(\n",
       "          (0): Linear(in_features=16, out_features=32, bias=False)\n",
       "          (1): BatchNorm1d(32, eps=1e-05, momentum=0.1, affine=True, track_running_stats=True)\n",
       "          (2): GLU()\n",
       "        )\n",
       "      )\n",
       "    )\n",
       "    (1): FeatureTransformer(\n",
       "      (block1): Sequential(\n",
       "        (0): Linear(in_features=16, out_features=32, bias=False)\n",
       "        (1): BatchNorm1d(32, eps=1e-05, momentum=0.1, affine=True, track_running_stats=True)\n",
       "        (2): GLU()\n",
       "      )\n",
       "      (block2): Sequential(\n",
       "        (0): Linear(in_features=16, out_features=32, bias=False)\n",
       "        (1): BatchNorm1d(32, eps=1e-05, momentum=0.1, affine=True, track_running_stats=True)\n",
       "        (2): GLU()\n",
       "      )\n",
       "      (previous_transformer): FeatureTransformer(\n",
       "        (block1): Sequential(\n",
       "          (0): Linear(in_features=24, out_features=32, bias=False)\n",
       "          (1): BatchNorm1d(32, eps=1e-05, momentum=0.1, affine=True, track_running_stats=True)\n",
       "          (2): GLU()\n",
       "        )\n",
       "        (block2): Sequential(\n",
       "          (0): Linear(in_features=16, out_features=32, bias=False)\n",
       "          (1): BatchNorm1d(32, eps=1e-05, momentum=0.1, affine=True, track_running_stats=True)\n",
       "          (2): GLU()\n",
       "        )\n",
       "      )\n",
       "    )\n",
       "    (2): FeatureTransformer(\n",
       "      (block1): Sequential(\n",
       "        (0): Linear(in_features=16, out_features=32, bias=False)\n",
       "        (1): BatchNorm1d(32, eps=1e-05, momentum=0.1, affine=True, track_running_stats=True)\n",
       "        (2): GLU()\n",
       "      )\n",
       "      (block2): Sequential(\n",
       "        (0): Linear(in_features=16, out_features=32, bias=False)\n",
       "        (1): BatchNorm1d(32, eps=1e-05, momentum=0.1, affine=True, track_running_stats=True)\n",
       "        (2): GLU()\n",
       "      )\n",
       "      (previous_transformer): FeatureTransformer(\n",
       "        (block1): Sequential(\n",
       "          (0): Linear(in_features=24, out_features=32, bias=False)\n",
       "          (1): BatchNorm1d(32, eps=1e-05, momentum=0.1, affine=True, track_running_stats=True)\n",
       "          (2): GLU()\n",
       "        )\n",
       "        (block2): Sequential(\n",
       "          (0): Linear(in_features=16, out_features=32, bias=False)\n",
       "          (1): BatchNorm1d(32, eps=1e-05, momentum=0.1, affine=True, track_running_stats=True)\n",
       "          (2): GLU()\n",
       "        )\n",
       "      )\n",
       "    )\n",
       "    (3): FeatureTransformer(\n",
       "      (block1): Sequential(\n",
       "        (0): Linear(in_features=16, out_features=32, bias=False)\n",
       "        (1): BatchNorm1d(32, eps=1e-05, momentum=0.1, affine=True, track_running_stats=True)\n",
       "        (2): GLU()\n",
       "      )\n",
       "      (block2): Sequential(\n",
       "        (0): Linear(in_features=16, out_features=32, bias=False)\n",
       "        (1): BatchNorm1d(32, eps=1e-05, momentum=0.1, affine=True, track_running_stats=True)\n",
       "        (2): GLU()\n",
       "      )\n",
       "      (previous_transformer): FeatureTransformer(\n",
       "        (block1): Sequential(\n",
       "          (0): Linear(in_features=24, out_features=32, bias=False)\n",
       "          (1): BatchNorm1d(32, eps=1e-05, momentum=0.1, affine=True, track_running_stats=True)\n",
       "          (2): GLU()\n",
       "        )\n",
       "        (block2): Sequential(\n",
       "          (0): Linear(in_features=16, out_features=32, bias=False)\n",
       "          (1): BatchNorm1d(32, eps=1e-05, momentum=0.1, affine=True, track_running_stats=True)\n",
       "          (2): GLU()\n",
       "        )\n",
       "      )\n",
       "    )\n",
       "  )\n",
       "  (attentive_transformers): ModuleList(\n",
       "    (0): AttentiveTransformer(\n",
       "      (dense): Linear(in_features=8, out_features=24, bias=True)\n",
       "      (bn): BatchNorm1d(24, eps=1e-05, momentum=0.1, affine=True, track_running_stats=True)\n",
       "      (sparsemax): Sparsemax()\n",
       "    )\n",
       "    (1): AttentiveTransformer(\n",
       "      (dense): Linear(in_features=8, out_features=24, bias=True)\n",
       "      (bn): BatchNorm1d(24, eps=1e-05, momentum=0.1, affine=True, track_running_stats=True)\n",
       "      (sparsemax): Sparsemax()\n",
       "    )\n",
       "    (2): AttentiveTransformer(\n",
       "      (dense): Linear(in_features=8, out_features=24, bias=True)\n",
       "      (bn): BatchNorm1d(24, eps=1e-05, momentum=0.1, affine=True, track_running_stats=True)\n",
       "      (sparsemax): Sparsemax()\n",
       "    )\n",
       "  )\n",
       "  (embs): ModuleList(\n",
       "    (0): Embedding(9, 2)\n",
       "    (1): Embedding(16, 2)\n",
       "    (2): Embedding(7, 3)\n",
       "    (3): Embedding(15, 2)\n",
       "    (4): Embedding(6, 2)\n",
       "    (5): Embedding(5, 3)\n",
       "    (6): Embedding(2, 2)\n",
       "    (7): Embedding(42, 2)\n",
       "  )\n",
       "  (classifier): Linear(in_features=8, out_features=2, bias=True)\n",
       ")"
      ]
     },
     "execution_count": 212,
     "metadata": {},
     "output_type": "execute_result"
    }
   ],
   "source": [
    "model.to(device)"
   ]
  },
  {
   "cell_type": "code",
   "execution_count": 213,
   "metadata": {},
   "outputs": [],
   "source": [
    "x, y = next(iter(dl_train))"
   ]
  },
  {
   "cell_type": "code",
   "execution_count": 134,
   "metadata": {},
   "outputs": [],
   "source": [
    "with torch.no_grad():\n",
    "    out = model(x.float().to(device))"
   ]
  },
  {
   "cell_type": "code",
   "execution_count": 135,
   "metadata": {},
   "outputs": [
    {
     "data": {
      "text/plain": [
       "3"
      ]
     },
     "execution_count": 135,
     "metadata": {},
     "output_type": "execute_result"
    }
   ],
   "source": [
    "len(out)"
   ]
  },
  {
   "cell_type": "markdown",
   "metadata": {},
   "source": [
    "# Training"
   ]
  },
  {
   "cell_type": "code",
   "execution_count": 214,
   "metadata": {},
   "outputs": [],
   "source": [
    "loss_fn = nn.CrossEntropyLoss()\n",
    "optimizer = torch.optim.Adam(model.parameters(),  lr=2e-2)"
   ]
  },
  {
   "cell_type": "code",
   "execution_count": 215,
   "metadata": {
    "scrolled": true
   },
   "outputs": [
    {
     "name": "stdout",
     "output_type": "stream",
     "text": [
      "0.41090923089247483 0.7867122011797578\n",
      "0.41443082575614637 0.77708786091276\n",
      "0.41110552847385406 0.7705681465383422\n",
      "0.3624224548156445 0.8314188140329091\n",
      "0.3923909274431375 0.776156473144986\n",
      "0.39738955520666563 0.7643588947531822\n"
     ]
    },
    {
     "ename": "KeyboardInterrupt",
     "evalue": "",
     "output_type": "error",
     "traceback": [
      "\u001b[0;31m---------------------------------------------------------------------------\u001b[0m",
      "\u001b[0;31mKeyboardInterrupt\u001b[0m                         Traceback (most recent call last)",
      "\u001b[0;32m<ipython-input-215-7a67a1d57a80>\u001b[0m in \u001b[0;36m<module>\u001b[0;34m\u001b[0m\n\u001b[1;32m      7\u001b[0m         \u001b[0mout\u001b[0m \u001b[0;34m=\u001b[0m \u001b[0mmodel\u001b[0m\u001b[0;34m(\u001b[0m\u001b[0mx\u001b[0m\u001b[0;34m.\u001b[0m\u001b[0mfloat\u001b[0m\u001b[0;34m(\u001b[0m\u001b[0;34m)\u001b[0m\u001b[0;34m.\u001b[0m\u001b[0mto\u001b[0m\u001b[0;34m(\u001b[0m\u001b[0mdevice\u001b[0m\u001b[0;34m)\u001b[0m\u001b[0;34m)\u001b[0m\u001b[0;34m\u001b[0m\u001b[0;34m\u001b[0m\u001b[0m\n\u001b[1;32m      8\u001b[0m         \u001b[0mloss\u001b[0m \u001b[0;34m=\u001b[0m \u001b[0mloss_fn\u001b[0m\u001b[0;34m(\u001b[0m\u001b[0mout\u001b[0m\u001b[0;34m[\u001b[0m\u001b[0;36m0\u001b[0m\u001b[0;34m]\u001b[0m\u001b[0;34m,\u001b[0m \u001b[0my\u001b[0m\u001b[0;34m.\u001b[0m\u001b[0mlong\u001b[0m\u001b[0;34m(\u001b[0m\u001b[0;34m)\u001b[0m\u001b[0;34m.\u001b[0m\u001b[0mto\u001b[0m\u001b[0;34m(\u001b[0m\u001b[0mdevice\u001b[0m\u001b[0;34m)\u001b[0m\u001b[0;34m)\u001b[0m\u001b[0;34m\u001b[0m\u001b[0;34m\u001b[0m\u001b[0m\n\u001b[0;32m----> 9\u001b[0;31m         \u001b[0mloss\u001b[0m\u001b[0;34m.\u001b[0m\u001b[0mbackward\u001b[0m\u001b[0;34m(\u001b[0m\u001b[0;34m)\u001b[0m\u001b[0;34m\u001b[0m\u001b[0;34m\u001b[0m\u001b[0m\n\u001b[0m\u001b[1;32m     10\u001b[0m \u001b[0;34m\u001b[0m\u001b[0m\n\u001b[1;32m     11\u001b[0m         \u001b[0;32mif\u001b[0m \u001b[0mi\u001b[0m \u001b[0;34m%\u001b[0m \u001b[0;36m1\u001b[0m \u001b[0;34m==\u001b[0m \u001b[0;36m0\u001b[0m\u001b[0;34m:\u001b[0m\u001b[0;34m\u001b[0m\u001b[0;34m\u001b[0m\u001b[0m\n",
      "\u001b[0;32m~/miniconda3/envs/bertenv/lib/python3.7/site-packages/torch/tensor.py\u001b[0m in \u001b[0;36mbackward\u001b[0;34m(self, gradient, retain_graph, create_graph)\u001b[0m\n\u001b[1;32m    116\u001b[0m                 \u001b[0mproducts\u001b[0m\u001b[0;34m.\u001b[0m \u001b[0mDefaults\u001b[0m \u001b[0mto\u001b[0m\u001b[0;31m \u001b[0m\u001b[0;31m`\u001b[0m\u001b[0;31m`\u001b[0m\u001b[0;32mFalse\u001b[0m\u001b[0;31m`\u001b[0m\u001b[0;31m`\u001b[0m\u001b[0;34m.\u001b[0m\u001b[0;34m\u001b[0m\u001b[0;34m\u001b[0m\u001b[0m\n\u001b[1;32m    117\u001b[0m         \"\"\"\n\u001b[0;32m--> 118\u001b[0;31m         \u001b[0mtorch\u001b[0m\u001b[0;34m.\u001b[0m\u001b[0mautograd\u001b[0m\u001b[0;34m.\u001b[0m\u001b[0mbackward\u001b[0m\u001b[0;34m(\u001b[0m\u001b[0mself\u001b[0m\u001b[0;34m,\u001b[0m \u001b[0mgradient\u001b[0m\u001b[0;34m,\u001b[0m \u001b[0mretain_graph\u001b[0m\u001b[0;34m,\u001b[0m \u001b[0mcreate_graph\u001b[0m\u001b[0;34m)\u001b[0m\u001b[0;34m\u001b[0m\u001b[0;34m\u001b[0m\u001b[0m\n\u001b[0m\u001b[1;32m    119\u001b[0m \u001b[0;34m\u001b[0m\u001b[0m\n\u001b[1;32m    120\u001b[0m     \u001b[0;32mdef\u001b[0m \u001b[0mregister_hook\u001b[0m\u001b[0;34m(\u001b[0m\u001b[0mself\u001b[0m\u001b[0;34m,\u001b[0m \u001b[0mhook\u001b[0m\u001b[0;34m)\u001b[0m\u001b[0;34m:\u001b[0m\u001b[0;34m\u001b[0m\u001b[0;34m\u001b[0m\u001b[0m\n",
      "\u001b[0;32m~/miniconda3/envs/bertenv/lib/python3.7/site-packages/torch/autograd/__init__.py\u001b[0m in \u001b[0;36mbackward\u001b[0;34m(tensors, grad_tensors, retain_graph, create_graph, grad_variables)\u001b[0m\n\u001b[1;32m     91\u001b[0m     Variable._execution_engine.run_backward(\n\u001b[1;32m     92\u001b[0m         \u001b[0mtensors\u001b[0m\u001b[0;34m,\u001b[0m \u001b[0mgrad_tensors\u001b[0m\u001b[0;34m,\u001b[0m \u001b[0mretain_graph\u001b[0m\u001b[0;34m,\u001b[0m \u001b[0mcreate_graph\u001b[0m\u001b[0;34m,\u001b[0m\u001b[0;34m\u001b[0m\u001b[0;34m\u001b[0m\u001b[0m\n\u001b[0;32m---> 93\u001b[0;31m         allow_unreachable=True)  # allow_unreachable flag\n\u001b[0m\u001b[1;32m     94\u001b[0m \u001b[0;34m\u001b[0m\u001b[0m\n\u001b[1;32m     95\u001b[0m \u001b[0;34m\u001b[0m\u001b[0m\n",
      "\u001b[0;31mKeyboardInterrupt\u001b[0m: "
     ]
    }
   ],
   "source": [
    "for _ in range(60):\n",
    "    model.train()\n",
    "    model.zero_grad()\n",
    "    for i, (x, y) in enumerate(dl_train):\n",
    "        \n",
    "        \n",
    "        out = model(x.float().to(device))\n",
    "        loss = loss_fn(out[0], y.long().to(device))\n",
    "        loss.backward()\n",
    "        \n",
    "        if i % 1 == 0:\n",
    "            optimizer.step()\n",
    "            model.zero_grad()\n",
    "        \n",
    "        \n",
    "    model.eval()\n",
    "    loss_valid = 0\n",
    "    preds = []\n",
    "    trues = []\n",
    "    \n",
    "    for x, y in dl_valid:\n",
    "        with torch.no_grad():\n",
    "            out = model(x.float().to(device))\n",
    "            loss_valid += loss_fn(out[0], y.long().to(device)).item()\n",
    "            \n",
    "        preds += out[0].argmax(-1).cpu().numpy().tolist()\n",
    "        trues += y.cpu().numpy().tolist()\n",
    "    \n",
    "    preds = np.array(preds)\n",
    "    trues = np.array(trues)\n",
    "    print(loss_valid/len(dl_valid), (1.* (preds==trues)).mean())"
   ]
  },
  {
   "cell_type": "code",
   "execution_count": 153,
   "metadata": {},
   "outputs": [
    {
     "data": {
      "text/plain": [
       "tensor(0.8750)"
      ]
     },
     "execution_count": 153,
     "metadata": {},
     "output_type": "execute_result"
    }
   ],
   "source": [
    "(out[0].argmax(-1).cpu() == y.long()).float().mean()"
   ]
  },
  {
   "cell_type": "code",
   "execution_count": 154,
   "metadata": {},
   "outputs": [],
   "source": [
    "logits, out_agg, _, agg_mask, mask_per_step = model(x.float().to(device), True)"
   ]
  },
  {
   "cell_type": "code",
   "execution_count": 155,
   "metadata": {},
   "outputs": [
    {
     "data": {
      "text/plain": [
       "(tensor(13.3430, device='cuda:0', grad_fn=<MaxBackward1>),\n",
       " tensor(0., device='cuda:0', grad_fn=<MinBackward1>))"
      ]
     },
     "execution_count": 155,
     "metadata": {},
     "output_type": "execute_result"
    }
   ],
   "source": [
    "out_agg.max(), out_agg.min()"
   ]
  },
  {
   "cell_type": "code",
   "execution_count": 156,
   "metadata": {},
   "outputs": [
    {
     "data": {
      "text/plain": [
       "(torch.Size([128, 24]),\n",
       " tensor(28.1767, device='cuda:0', grad_fn=<MaxBackward1>),\n",
       " tensor(0., device='cuda:0', grad_fn=<MinBackward1>))"
      ]
     },
     "execution_count": 156,
     "metadata": {},
     "output_type": "execute_result"
    }
   ],
   "source": [
    "agg_mask.shape, agg_mask.max(), agg_mask.min()"
   ]
  },
  {
   "cell_type": "code",
   "execution_count": 157,
   "metadata": {},
   "outputs": [
    {
     "data": {
      "text/plain": [
       "torch.Size([128, 24])"
      ]
     },
     "execution_count": 157,
     "metadata": {},
     "output_type": "execute_result"
    }
   ],
   "source": [
    "mask_per_step[2].shape"
   ]
  },
  {
   "cell_type": "code",
   "execution_count": 158,
   "metadata": {},
   "outputs": [],
   "source": [
    "agg_mask = agg_mask.detach().cpu().numpy()"
   ]
  },
  {
   "cell_type": "code",
   "execution_count": 159,
   "metadata": {},
   "outputs": [],
   "source": [
    "agg_mask_norm = (agg_mask - agg_mask.min(0)) / (agg_mask.max(0) - agg_mask.min(0))"
   ]
  },
  {
   "cell_type": "code",
   "execution_count": 166,
   "metadata": {},
   "outputs": [
    {
     "data": {
      "text/plain": [
       "(3, torch.Size([128, 24]))"
      ]
     },
     "execution_count": 166,
     "metadata": {},
     "output_type": "execute_result"
    }
   ],
   "source": [
    "len(mask_per_step), mask_per_step[0].shape"
   ]
  },
  {
   "cell_type": "code",
   "execution_count": 176,
   "metadata": {},
   "outputs": [
    {
     "data": {
      "image/png": "[encoded data removed]",
      "text/plain": [
       "<Figure size 1440x720 with 3 Axes>"
      ]
     },
     "metadata": {
      "needs_background": "light"
     },
     "output_type": "display_data"
    }
   ],
   "source": [
    "fig, axs = plt.subplots(ncols=len(mask_per_step), figsize=(20,10))\n",
    "for m, ax in zip(mask_per_step, axs):\n",
    "    ax.imshow(m[:50], cmap='gray')"
   ]
  },
  {
   "cell_type": "code",
   "execution_count": 171,
   "metadata": {},
   "outputs": [
    {
     "data": {
      "text/plain": [
       "<matplotlib.image.AxesImage at 0x7f4886fb3290>"
      ]
     },
     "execution_count": 171,
     "metadata": {},
     "output_type": "execute_result"
    },
    {
     "data": {
      "image/png": "[encoded data removed]",
      "text/plain": [
       "<Figure size 432x288 with 1 Axes>"
      ]
     },
     "metadata": {
      "needs_background": "light"
     },
     "output_type": "display_data"
    }
   ],
   "source": [
    "plt.imshow(mask_per_step[0][:50], cmap='gray')"
   ]
  },
  {
   "cell_type": "code",
   "execution_count": 161,
   "metadata": {},
   "outputs": [
    {
     "data": {
      "text/plain": [
       "tensor([[0.3061, 0.0000, 0.2359,  ..., 0.0000, 0.0000, 0.0000],\n",
       "        [0.3257, 0.0000, 0.2672,  ..., 0.0000, 0.2272, 0.5230],\n",
       "        [0.0000, 0.6525, 0.0000,  ..., 0.0000, 0.1199, 0.0000],\n",
       "        ...,\n",
       "        [0.9931, 0.0000, 0.4860,  ..., 0.0000, 0.0000, 0.0000],\n",
       "        [0.0000, 0.0000, 0.0000,  ..., 0.0000, 0.0000, 0.0000],\n",
       "        [0.6868, 0.0000, 0.1048,  ..., 0.0000, 0.0000, 0.0000]])"
      ]
     },
     "execution_count": 161,
     "metadata": {},
     "output_type": "execute_result"
    }
   ],
   "source": [
    "sum(mask_per_step)"
   ]
  },
  {
   "cell_type": "code",
   "execution_count": 502,
   "metadata": {},
   "outputs": [
    {
     "data": {
      "text/plain": [
       "<matplotlib.image.AxesImage at 0x7f34307eca10>"
      ]
     },
     "execution_count": 502,
     "metadata": {},
     "output_type": "execute_result"
    },
    {
     "data": {
      "image/png": "[encoded data removed]",
      "text/plain": [
       "<Figure size 432x288 with 1 Axes>"
      ]
     },
     "metadata": {
      "needs_background": "light"
     },
     "output_type": "display_data"
    }
   ],
   "source": [
    "plt.imshow(agg_mask_norm, cmap='gray')"
   ]
  },
  {
   "cell_type": "code",
   "execution_count": null,
   "metadata": {},
   "outputs": [],
   "source": []
  }
 ],
 "metadata": {
  "kernelspec": {
   "display_name": "Python 3.7.4 64-bit ('bertenv': conda)",
   "language": "python",
   "name": "python37464bitbertenvcondabe30b9b65ccd476ab0afdaa5ea99afd8"
  },
  "language_info": {
   "codemirror_mode": {
    "name": "ipython",
    "version": 3
   },
   "file_extension": ".py",
   "mimetype": "text/x-python",
   "name": "python",
   "nbconvert_exporter": "python",
   "pygments_lexer": "ipython3",
   "version": "3.7.4"
  }
 },
 "nbformat": 4,
 "nbformat_minor": 2
}
