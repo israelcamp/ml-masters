{
 "cells": [
  {
   "cell_type": "markdown",
   "metadata": {},
   "source": [
    "# Imports"
   ]
  },
  {
   "cell_type": "code",
   "execution_count": 1,
   "metadata": {},
   "outputs": [],
   "source": [
    "import math"
   ]
  },
  {
   "cell_type": "code",
   "execution_count": 373,
   "metadata": {},
   "outputs": [],
   "source": [
    "from sklearn import datasets\n",
    "import numpy as np\n",
    "import matplotlib.pyplot as plt"
   ]
  },
  {
   "cell_type": "code",
   "execution_count": 3,
   "metadata": {},
   "outputs": [],
   "source": [
    "import torch\n",
    "from torch import nn\n",
    "import torch.nn.functional as F\n",
    "from torch.utils.data import Dataset, DataLoader, TensorDataset"
   ]
  },
  {
   "cell_type": "code",
   "execution_count": 42,
   "metadata": {},
   "outputs": [],
   "source": [
    "device = 'cuda'"
   ]
  },
  {
   "cell_type": "markdown",
   "metadata": {},
   "source": [
    "# The dataset"
   ]
  },
  {
   "cell_type": "code",
   "execution_count": 5,
   "metadata": {},
   "outputs": [],
   "source": [
    "iris = datasets.load_iris()\n",
    "inputs, targets = torch.tensor(iris.data[:]), torch.tensor(iris.target[:])"
   ]
  },
  {
   "cell_type": "code",
   "execution_count": 6,
   "metadata": {},
   "outputs": [
    {
     "data": {
      "text/plain": [
       "(torch.Size([150, 4]), torch.Size([150]))"
      ]
     },
     "execution_count": 6,
     "metadata": {},
     "output_type": "execute_result"
    }
   ],
   "source": [
    "inputs.shape, targets.shape"
   ]
  },
  {
   "cell_type": "code",
   "execution_count": 27,
   "metadata": {},
   "outputs": [],
   "source": [
    "n_classes = len(targets.unique())"
   ]
  },
  {
   "cell_type": "code",
   "execution_count": 7,
   "metadata": {},
   "outputs": [],
   "source": [
    "ds = TensorDataset(inputs, targets)"
   ]
  },
  {
   "cell_type": "code",
   "execution_count": 8,
   "metadata": {},
   "outputs": [],
   "source": [
    "dl = DataLoader(ds, batch_size=32)"
   ]
  },
  {
   "cell_type": "code",
   "execution_count": 9,
   "metadata": {},
   "outputs": [],
   "source": [
    "x, y = next(iter(dl))\n",
    "x = x.float()"
   ]
  },
  {
   "cell_type": "code",
   "execution_count": 10,
   "metadata": {},
   "outputs": [],
   "source": [
    "in_features = inputs.shape[-1]"
   ]
  },
  {
   "cell_type": "markdown",
   "metadata": {},
   "source": [
    "# Sparsemax"
   ]
  },
  {
   "cell_type": "code",
   "execution_count": 478,
   "metadata": {},
   "outputs": [],
   "source": [
    "from torch import nn\n",
    "from torch.autograd import Function\n",
    "import torch.nn.functional as F\n",
    "\n",
    "import torch\n",
    "\n",
    "\"\"\"\n",
    "Other possible implementations:\n",
    "https://github.com/KrisKorrel/sparsemax-pytorch/blob/master/sparsemax.py\n",
    "https://github.com/msobroza/SparsemaxPytorch/blob/master/mnist/sparsemax.py\n",
    "https://github.com/vene/sparse-structured-attention/blob/master/pytorch/torchsparseattn/sparsemax.py\n",
    "\"\"\"\n",
    "\n",
    "\n",
    "# credits to Yandex https://github.com/Qwicen/node/blob/master/lib/nn_utils.py\n",
    "def _make_ix_like(input, dim=0):\n",
    "    d = input.size(dim)\n",
    "    rho = torch.arange(1, d + 1, device=input.device, dtype=input.dtype)\n",
    "    view = [1] * input.dim()\n",
    "    view[0] = -1\n",
    "    return rho.view(view).transpose(0, dim)\n",
    "\n",
    "\n",
    "class SparsemaxFunction(Function):\n",
    "    \"\"\"\n",
    "    An implementation of sparsemax (Martins & Astudillo, 2016). See\n",
    "    :cite:`DBLP:journals/corr/MartinsA16` for detailed description.\n",
    "    By Ben Peters and Vlad Niculae\n",
    "    \"\"\"\n",
    "\n",
    "    @staticmethod\n",
    "    def forward(ctx, input, dim=-1):\n",
    "        \"\"\"sparsemax: normalizing sparse transform (a la softmax)\n",
    "        Parameters:\n",
    "            input (Tensor): any shape\n",
    "            dim: dimension along which to apply sparsemax\n",
    "        Returns:\n",
    "            output (Tensor): same shape as input\n",
    "        \"\"\"\n",
    "        ctx.dim = dim\n",
    "        max_val, _ = input.max(dim=dim, keepdim=True)\n",
    "        input -= max_val  # same numerical stability trick as for softmax\n",
    "        tau, supp_size = SparsemaxFunction._threshold_and_support(input, dim=dim)\n",
    "        output = torch.clamp(input - tau, min=0)\n",
    "        ctx.save_for_backward(supp_size, output)\n",
    "        return output\n",
    "\n",
    "    @staticmethod\n",
    "    def backward(ctx, grad_output):\n",
    "        supp_size, output = ctx.saved_tensors\n",
    "        dim = ctx.dim\n",
    "        grad_input = grad_output.clone()\n",
    "        grad_input[output == 0] = 0\n",
    "\n",
    "        v_hat = grad_input.sum(dim=dim) / supp_size.to(output.dtype).squeeze()\n",
    "        v_hat = v_hat.unsqueeze(dim)\n",
    "        grad_input = torch.where(output != 0, grad_input - v_hat, grad_input)\n",
    "        return grad_input, None\n",
    "\n",
    "    @staticmethod\n",
    "    def _threshold_and_support(input, dim=-1):\n",
    "        \"\"\"Sparsemax building block: compute the threshold\n",
    "        Args:\n",
    "            input: any dimension\n",
    "            dim: dimension along which to apply the sparsemax\n",
    "        Returns:\n",
    "            the threshold value\n",
    "        \"\"\"\n",
    "\n",
    "        input_srt, _ = torch.sort(input, descending=True, dim=dim)\n",
    "        input_cumsum = input_srt.cumsum(dim) - 1\n",
    "        rhos = _make_ix_like(input, dim)\n",
    "        support = rhos * input_srt > input_cumsum\n",
    "\n",
    "        support_size = support.sum(dim=dim).unsqueeze(dim)\n",
    "        tau = input_cumsum.gather(dim, support_size - 1)\n",
    "        tau /= support_size.to(input.dtype)\n",
    "        return tau, support_size\n",
    "\n",
    "\n",
    "sparsemax = SparsemaxFunction.apply\n",
    "\n",
    "\n",
    "class Sparsemax(nn.Module):\n",
    "\n",
    "    def __init__(self, dim=-1):\n",
    "        self.dim = dim\n",
    "        super(Sparsemax, self).__init__()\n",
    "\n",
    "    def forward(self, input):\n",
    "        return sparsemax(input, self.dim)"
   ]
  },
  {
   "cell_type": "markdown",
   "metadata": {},
   "source": [
    "# The  Model"
   ]
  },
  {
   "cell_type": "code",
   "execution_count": 479,
   "metadata": {},
   "outputs": [],
   "source": [
    "class GLU(nn.Module):\n",
    "\n",
    "    def __init__(self, units):\n",
    "        super().__init__()\n",
    "        self.units = units\n",
    "\n",
    "    def forward(self, x):\n",
    "\n",
    "        return x[:, :self.units] * torch.sigmoid(x[:, self.units:])"
   ]
  },
  {
   "cell_type": "code",
   "execution_count": 480,
   "metadata": {},
   "outputs": [],
   "source": [
    "class FeatureTransformer(nn.Module):\n",
    "\n",
    "    def __init__(self, in_features, out_features, bn_momentum, previous_transformer=None):\n",
    "        super().__init__()\n",
    "        self.block1 = self.block(in_features, out_features, bn_momentum)\n",
    "        self.block2 = self.block(out_features, out_features, bn_momentum)\n",
    "        self.previous_transformer = previous_transformer\n",
    "\n",
    "    def block(self, in_features, out_features, bn_momentum):\n",
    "        return nn.Sequential(\n",
    "            nn.Linear(in_features, out_features * 2, bias=False),\n",
    "            nn.BatchNorm1d(out_features * 2, momentum=bn_momentum),\n",
    "            GLU(out_features)\n",
    "        )\n",
    "\n",
    "    def forward(self, x):\n",
    "        if self.previous_transformer is not None:\n",
    "            x = self.previous_transformer(x)\n",
    "\n",
    "        o1 = self.block1(x)\n",
    "\n",
    "        if self.previous_transformer is not None:\n",
    "            o1 = (o1 + x) * math.sqrt(0.5)\n",
    "\n",
    "        o2 = self.block2(o1)\n",
    "        return (o2 + o1) * math.sqrt(0.5)"
   ]
  },
  {
   "cell_type": "code",
   "execution_count": 481,
   "metadata": {},
   "outputs": [],
   "source": [
    "class AttentiveTransformer(nn.Module):\n",
    "\n",
    "    def __init__(self, comp_size, n_features, relaxation_factor, epsilon):\n",
    "        super().__init__()\n",
    "        self.relaxation_factor = relaxation_factor\n",
    "        self.epsilon = epsilon\n",
    "\n",
    "        self.dense = nn.Linear(comp_size, n_features)\n",
    "        self.bn = nn.BatchNorm1d(n_features)\n",
    "        self.sparsemax = Sparsemax()\n",
    "\n",
    "    def forward(self, features_for_coef, complemantary_aggregated_mask_values):\n",
    "        mask_values = self.dense(features_for_coef)\n",
    "        mask_values = self.bn(mask_values)\n",
    "        mask_values =  mask_values * complemantary_aggregated_mask_values\n",
    "        mask_values = self.sparsemax(mask_values)\n",
    "\n",
    "        complemantary_aggregated_mask_values = complemantary_aggregated_mask_values * (\n",
    "            self.relaxation_factor - mask_values)\n",
    "        entropy = torch.sum(-mask_values *\n",
    "                            torch.log(mask_values + self.epsilon), dim=1)\n",
    "        entropy = entropy.mean()\n",
    "        return mask_values, complemantary_aggregated_mask_values, entropy"
   ]
  },
  {
   "cell_type": "code",
   "execution_count": 482,
   "metadata": {},
   "outputs": [],
   "source": [
    "class TabNet(nn.Module):\n",
    "\n",
    "    def __init__(self, n_features, hidden_size, output_dim, decision_steps=2,\n",
    "                 relaxation_factor=1, epsilon=1e-4, bn_momentum=0.7):\n",
    "        super().__init__()\n",
    "\n",
    "        self.hidden_size = hidden_size\n",
    "        self.output_dim = output_dim\n",
    "        self.n_features = n_features\n",
    "        self.decision_steps = decision_steps\n",
    "        self.bn_momentum = bn_momentum\n",
    "\n",
    "        self.bn = nn.BatchNorm1d(n_features, momentum=self.bn_momentum)\n",
    "\n",
    "        # feature transformer shared accross steps\n",
    "        self.shared_transformer = FeatureTransformer(n_features, hidden_size)\n",
    "\n",
    "        # step dependent feature transformer\n",
    "        self.step_transformers = nn.ModuleList([\n",
    "            FeatureTransformer(hidden_size, hidden_size, self.bn_momentum,\n",
    "                               self.shared_transformer)\n",
    "            for _ in range(decision_steps)\n",
    "        ])\n",
    "\n",
    "        self.attentive_transformers = nn.ModuleList([\n",
    "            AttentiveTransformer(\n",
    "                self.hidden_size-self.output_dim, self.n_features, relaxation_factor, epsilon)\n",
    "            for _ in range(decision_steps - 1)\n",
    "        ])\n",
    "\n",
    "    def forward(self, x, output_masks=False):\n",
    "        x = self.bn(x)  # applies batch norm on the input\n",
    "        batch_size = x.shape[0]\n",
    "        output_aggregated = torch.zeros(batch_size, self.output_dim).to(device)\n",
    "        mask_values = torch.zeros(batch_size, self.n_features).to(device)\n",
    "        aggregated_mask_values = torch.zeros(\n",
    "            batch_size, self.n_features).to(device)\n",
    "        complemantary_aggregated_mask_values = torch.ones(\n",
    "            batch_size, self.n_features).to(device)\n",
    "        total_entropy = 0\n",
    "\n",
    "        mask_values_per_step = []\n",
    "\n",
    "        masked_features = x\n",
    "\n",
    "        for i, step_transformer in enumerate(self.step_transformers):\n",
    "\n",
    "            o = step_transformer(masked_features)\n",
    "\n",
    "            if i > 0:\n",
    "                decision_out = F.relu(o[:, :self.output_dim])\n",
    "                output_aggregated = output_aggregated + decision_out\n",
    "\n",
    "                # for visualization\n",
    "                scale_agg = torch.sum(\n",
    "                    decision_out, dim=1, keepdim=True) / (self.decision_steps - 1)\n",
    "                aggregated_mask_values = aggregated_mask_values + mask_values * scale_agg\n",
    "\n",
    "            features_for_coef = o[:, self.output_dim:]\n",
    "\n",
    "            if i < self.decision_steps - 1:\n",
    "                attentive_transformer = self.attentive_transformers[i]\n",
    "                mask_values, complemantary_aggregated_mask_values, entropy = attentive_transformer(\n",
    "                    features_for_coef, complemantary_aggregated_mask_values)\n",
    "                total_entropy = total_entropy + \\\n",
    "                    entropy / (self.decision_steps - 1)\n",
    "\n",
    "                masked_features = mask_values * x\n",
    "\n",
    "                if output_masks:\n",
    "                    mask_values_per_step.append(mask_values.detach().cpu())\n",
    "\n",
    "        outputs = (output_aggregated, total_entropy)\n",
    "        if output_masks:\n",
    "            outputs = outputs + (aggregated_mask_values, mask_values_per_step)\n",
    "\n",
    "        return outputs"
   ]
  },
  {
   "cell_type": "code",
   "execution_count": 483,
   "metadata": {},
   "outputs": [],
   "source": [
    "class TabNetClassifier(nn.Module):\n",
    "    \n",
    "    def __init__(self, tabnet, output_dim, n_classes):\n",
    "        super().__init__()\n",
    "        self.tabnet = tabnet\n",
    "        self.classifier = nn.Linear(output_dim, n_classes)\n",
    "    \n",
    "    def forward(self, x):\n",
    "        output_aggregated, total_entropy = self.tabnet(x)\n",
    "        return self.classifier(output_aggregated)\n",
    "    \n",
    "    def to(self, device):\n",
    "        self.tabnet.to(device)\n",
    "        self.classifier.to(device)"
   ]
  },
  {
   "cell_type": "code",
   "execution_count": 484,
   "metadata": {},
   "outputs": [],
   "source": [
    "out_features = 16\n",
    "output_dim = 8"
   ]
  },
  {
   "cell_type": "code",
   "execution_count": 564,
   "metadata": {},
   "outputs": [],
   "source": [
    "tabnet = TabNet(in_features, out_features, output_dim, decision_steps=4)\n",
    "model = TabNetClassifier(tabnet, output_dim, n_classes)"
   ]
  },
  {
   "cell_type": "code",
   "execution_count": 565,
   "metadata": {},
   "outputs": [],
   "source": [
    "device = 'cuda'"
   ]
  },
  {
   "cell_type": "code",
   "execution_count": 566,
   "metadata": {
    "scrolled": true
   },
   "outputs": [],
   "source": [
    "model.to(device)"
   ]
  },
  {
   "cell_type": "code",
   "execution_count": 567,
   "metadata": {},
   "outputs": [],
   "source": [
    "with torch.no_grad():\n",
    "    out = model(x.float().to(device))"
   ]
  },
  {
   "cell_type": "markdown",
   "metadata": {},
   "source": [
    "# Training"
   ]
  },
  {
   "cell_type": "code",
   "execution_count": 568,
   "metadata": {},
   "outputs": [],
   "source": [
    "ridx = np.random.permutation(len(inputs))\n",
    "train_size = round(0.8 * len(inputs))\n",
    "train_idx = ridx[:train_size]\n",
    "valid_idx = ridx[train_size:]\n",
    "\n",
    "ds_train = TensorDataset(inputs[train_idx], targets[train_idx])\n",
    "ds_valid = TensorDataset(inputs[valid_idx], targets[valid_idx])"
   ]
  },
  {
   "cell_type": "code",
   "execution_count": 569,
   "metadata": {},
   "outputs": [],
   "source": [
    "dl_train = DataLoader(ds_train, batch_size=train_size, num_workers=4)\n",
    "dl_valid = DataLoader(ds_valid, batch_size=len(ds_valid), num_workers=4)"
   ]
  },
  {
   "cell_type": "code",
   "execution_count": 570,
   "metadata": {},
   "outputs": [],
   "source": [
    "loss_fn = nn.CrossEntropyLoss()\n",
    "optimizer = torch.optim.Adam(model.parameters(),  lr=1e-3)"
   ]
  },
  {
   "cell_type": "code",
   "execution_count": 576,
   "metadata": {
    "scrolled": true
   },
   "outputs": [
    {
     "name": "stdout",
     "output_type": "stream",
     "text": [
      "tensor(0.4800, device='cuda:0')\n",
      "tensor(0.4795, device='cuda:0')\n",
      "tensor(0.4805, device='cuda:0')\n",
      "tensor(0.4807, device='cuda:0')\n",
      "tensor(0.4799, device='cuda:0')\n",
      "tensor(0.4801, device='cuda:0')\n",
      "tensor(0.4802, device='cuda:0')\n",
      "tensor(0.4789, device='cuda:0')\n",
      "tensor(0.4763, device='cuda:0')\n",
      "tensor(0.4725, device='cuda:0')\n",
      "tensor(0.4691, device='cuda:0')\n",
      "tensor(0.4667, device='cuda:0')\n",
      "tensor(0.4629, device='cuda:0')\n",
      "tensor(0.4596, device='cuda:0')\n",
      "tensor(0.4598, device='cuda:0')\n",
      "tensor(0.4574, device='cuda:0')\n",
      "tensor(0.4491, device='cuda:0')\n",
      "tensor(0.4412, device='cuda:0')\n",
      "tensor(0.4420, device='cuda:0')\n",
      "tensor(0.4467, device='cuda:0')\n",
      "tensor(0.4306, device='cuda:0')\n",
      "tensor(0.4120, device='cuda:0')\n",
      "tensor(0.3958, device='cuda:0')\n",
      "tensor(0.3861, device='cuda:0')\n",
      "tensor(0.3804, device='cuda:0')\n",
      "tensor(0.3757, device='cuda:0')\n",
      "tensor(0.3718, device='cuda:0')\n",
      "tensor(0.3737, device='cuda:0')\n",
      "tensor(0.3756, device='cuda:0')\n",
      "tensor(0.3675, device='cuda:0')\n",
      "tensor(0.3708, device='cuda:0')\n",
      "tensor(0.3732, device='cuda:0')\n",
      "tensor(0.3738, device='cuda:0')\n",
      "tensor(0.3724, device='cuda:0')\n",
      "tensor(0.3674, device='cuda:0')\n",
      "tensor(0.3665, device='cuda:0')\n",
      "tensor(0.3670, device='cuda:0')\n",
      "tensor(0.3682, device='cuda:0')\n",
      "tensor(0.3698, device='cuda:0')\n",
      "tensor(0.3723, device='cuda:0')\n",
      "tensor(0.3739, device='cuda:0')\n",
      "tensor(0.3745, device='cuda:0')\n",
      "tensor(0.3756, device='cuda:0')\n",
      "tensor(0.3787, device='cuda:0')\n",
      "tensor(0.3823, device='cuda:0')\n",
      "tensor(0.3860, device='cuda:0')\n",
      "tensor(0.3902, device='cuda:0')\n",
      "tensor(0.3935, device='cuda:0')\n",
      "tensor(0.3949, device='cuda:0')\n",
      "tensor(0.3942, device='cuda:0')\n",
      "tensor(0.3931, device='cuda:0')\n",
      "tensor(0.3927, device='cuda:0')\n"
     ]
    },
    {
     "ename": "KeyboardInterrupt",
     "evalue": "",
     "output_type": "error",
     "traceback": [
      "\u001b[0;31m---------------------------------------------------------------------------\u001b[0m",
      "\u001b[0;31mKeyboardInterrupt\u001b[0m                         Traceback (most recent call last)",
      "\u001b[0;32m<ipython-input-576-07965c55e523>\u001b[0m in \u001b[0;36m<module>\u001b[0;34m\u001b[0m\n\u001b[1;32m      3\u001b[0m     \u001b[0mmodel\u001b[0m\u001b[0;34m.\u001b[0m\u001b[0mtabnet\u001b[0m\u001b[0;34m.\u001b[0m\u001b[0mtrain\u001b[0m\u001b[0;34m(\u001b[0m\u001b[0;34m)\u001b[0m\u001b[0;34m\u001b[0m\u001b[0;34m\u001b[0m\u001b[0m\n\u001b[1;32m      4\u001b[0m \u001b[0;34m\u001b[0m\u001b[0m\n\u001b[0;32m----> 5\u001b[0;31m     \u001b[0;32mfor\u001b[0m \u001b[0mx\u001b[0m\u001b[0;34m,\u001b[0m \u001b[0my\u001b[0m \u001b[0;32min\u001b[0m \u001b[0mdl_train\u001b[0m\u001b[0;34m:\u001b[0m\u001b[0;34m\u001b[0m\u001b[0;34m\u001b[0m\u001b[0m\n\u001b[0m\u001b[1;32m      6\u001b[0m         \u001b[0mmodel\u001b[0m\u001b[0;34m.\u001b[0m\u001b[0mzero_grad\u001b[0m\u001b[0;34m(\u001b[0m\u001b[0;34m)\u001b[0m\u001b[0;34m\u001b[0m\u001b[0;34m\u001b[0m\u001b[0m\n\u001b[1;32m      7\u001b[0m \u001b[0;34m\u001b[0m\u001b[0m\n",
      "\u001b[0;32m~/miniconda3/envs/bertenv/lib/python3.7/site-packages/torch/utils/data/dataloader.py\u001b[0m in \u001b[0;36m__next__\u001b[0;34m(self)\u001b[0m\n\u001b[1;32m    791\u001b[0m             \u001b[0;32melse\u001b[0m\u001b[0;34m:\u001b[0m\u001b[0;34m\u001b[0m\u001b[0;34m\u001b[0m\u001b[0m\n\u001b[1;32m    792\u001b[0m                 \u001b[0;31m# no valid `self.rcvd_idx` is found (i.e., didn't break)\u001b[0m\u001b[0;34m\u001b[0m\u001b[0;34m\u001b[0m\u001b[0;34m\u001b[0m\u001b[0m\n\u001b[0;32m--> 793\u001b[0;31m                 \u001b[0mself\u001b[0m\u001b[0;34m.\u001b[0m\u001b[0m_shutdown_workers\u001b[0m\u001b[0;34m(\u001b[0m\u001b[0;34m)\u001b[0m\u001b[0;34m\u001b[0m\u001b[0;34m\u001b[0m\u001b[0m\n\u001b[0m\u001b[1;32m    794\u001b[0m                 \u001b[0;32mraise\u001b[0m \u001b[0mStopIteration\u001b[0m\u001b[0;34m\u001b[0m\u001b[0;34m\u001b[0m\u001b[0m\n\u001b[1;32m    795\u001b[0m \u001b[0;34m\u001b[0m\u001b[0m\n",
      "\u001b[0;32m~/miniconda3/envs/bertenv/lib/python3.7/site-packages/torch/utils/data/dataloader.py\u001b[0m in \u001b[0;36m_shutdown_workers\u001b[0;34m(self)\u001b[0m\n\u001b[1;32m    904\u001b[0m                         \u001b[0mself\u001b[0m\u001b[0;34m.\u001b[0m\u001b[0m_shutdown_worker\u001b[0m\u001b[0;34m(\u001b[0m\u001b[0mworker_id\u001b[0m\u001b[0;34m)\u001b[0m\u001b[0;34m\u001b[0m\u001b[0;34m\u001b[0m\u001b[0m\n\u001b[1;32m    905\u001b[0m                 \u001b[0;32mfor\u001b[0m \u001b[0mw\u001b[0m \u001b[0;32min\u001b[0m \u001b[0mself\u001b[0m\u001b[0;34m.\u001b[0m\u001b[0mworkers\u001b[0m\u001b[0;34m:\u001b[0m\u001b[0;34m\u001b[0m\u001b[0;34m\u001b[0m\u001b[0m\n\u001b[0;32m--> 906\u001b[0;31m                     \u001b[0mw\u001b[0m\u001b[0;34m.\u001b[0m\u001b[0mjoin\u001b[0m\u001b[0;34m(\u001b[0m\u001b[0;34m)\u001b[0m\u001b[0;34m\u001b[0m\u001b[0;34m\u001b[0m\u001b[0m\n\u001b[0m\u001b[1;32m    907\u001b[0m                 \u001b[0;32mfor\u001b[0m \u001b[0mq\u001b[0m \u001b[0;32min\u001b[0m \u001b[0mself\u001b[0m\u001b[0;34m.\u001b[0m\u001b[0mindex_queues\u001b[0m\u001b[0;34m:\u001b[0m\u001b[0;34m\u001b[0m\u001b[0;34m\u001b[0m\u001b[0m\n\u001b[1;32m    908\u001b[0m                     \u001b[0mq\u001b[0m\u001b[0;34m.\u001b[0m\u001b[0mcancel_join_thread\u001b[0m\u001b[0;34m(\u001b[0m\u001b[0;34m)\u001b[0m\u001b[0;34m\u001b[0m\u001b[0;34m\u001b[0m\u001b[0m\n",
      "\u001b[0;32m~/miniconda3/envs/bertenv/lib/python3.7/multiprocessing/process.py\u001b[0m in \u001b[0;36mjoin\u001b[0;34m(self, timeout)\u001b[0m\n\u001b[1;32m    138\u001b[0m         \u001b[0;32massert\u001b[0m \u001b[0mself\u001b[0m\u001b[0;34m.\u001b[0m\u001b[0m_parent_pid\u001b[0m \u001b[0;34m==\u001b[0m \u001b[0mos\u001b[0m\u001b[0;34m.\u001b[0m\u001b[0mgetpid\u001b[0m\u001b[0;34m(\u001b[0m\u001b[0;34m)\u001b[0m\u001b[0;34m,\u001b[0m \u001b[0;34m'can only join a child process'\u001b[0m\u001b[0;34m\u001b[0m\u001b[0;34m\u001b[0m\u001b[0m\n\u001b[1;32m    139\u001b[0m         \u001b[0;32massert\u001b[0m \u001b[0mself\u001b[0m\u001b[0;34m.\u001b[0m\u001b[0m_popen\u001b[0m \u001b[0;32mis\u001b[0m \u001b[0;32mnot\u001b[0m \u001b[0;32mNone\u001b[0m\u001b[0;34m,\u001b[0m \u001b[0;34m'can only join a started process'\u001b[0m\u001b[0;34m\u001b[0m\u001b[0;34m\u001b[0m\u001b[0m\n\u001b[0;32m--> 140\u001b[0;31m         \u001b[0mres\u001b[0m \u001b[0;34m=\u001b[0m \u001b[0mself\u001b[0m\u001b[0;34m.\u001b[0m\u001b[0m_popen\u001b[0m\u001b[0;34m.\u001b[0m\u001b[0mwait\u001b[0m\u001b[0;34m(\u001b[0m\u001b[0mtimeout\u001b[0m\u001b[0;34m)\u001b[0m\u001b[0;34m\u001b[0m\u001b[0;34m\u001b[0m\u001b[0m\n\u001b[0m\u001b[1;32m    141\u001b[0m         \u001b[0;32mif\u001b[0m \u001b[0mres\u001b[0m \u001b[0;32mis\u001b[0m \u001b[0;32mnot\u001b[0m \u001b[0;32mNone\u001b[0m\u001b[0;34m:\u001b[0m\u001b[0;34m\u001b[0m\u001b[0;34m\u001b[0m\u001b[0m\n\u001b[1;32m    142\u001b[0m             \u001b[0m_children\u001b[0m\u001b[0;34m.\u001b[0m\u001b[0mdiscard\u001b[0m\u001b[0;34m(\u001b[0m\u001b[0mself\u001b[0m\u001b[0;34m)\u001b[0m\u001b[0;34m\u001b[0m\u001b[0;34m\u001b[0m\u001b[0m\n",
      "\u001b[0;32m~/miniconda3/envs/bertenv/lib/python3.7/multiprocessing/popen_fork.py\u001b[0m in \u001b[0;36mwait\u001b[0;34m(self, timeout)\u001b[0m\n\u001b[1;32m     46\u001b[0m                     \u001b[0;32mreturn\u001b[0m \u001b[0;32mNone\u001b[0m\u001b[0;34m\u001b[0m\u001b[0;34m\u001b[0m\u001b[0m\n\u001b[1;32m     47\u001b[0m             \u001b[0;31m# This shouldn't block if wait() returned successfully.\u001b[0m\u001b[0;34m\u001b[0m\u001b[0;34m\u001b[0m\u001b[0;34m\u001b[0m\u001b[0m\n\u001b[0;32m---> 48\u001b[0;31m             \u001b[0;32mreturn\u001b[0m \u001b[0mself\u001b[0m\u001b[0;34m.\u001b[0m\u001b[0mpoll\u001b[0m\u001b[0;34m(\u001b[0m\u001b[0mos\u001b[0m\u001b[0;34m.\u001b[0m\u001b[0mWNOHANG\u001b[0m \u001b[0;32mif\u001b[0m \u001b[0mtimeout\u001b[0m \u001b[0;34m==\u001b[0m \u001b[0;36m0.0\u001b[0m \u001b[0;32melse\u001b[0m \u001b[0;36m0\u001b[0m\u001b[0;34m)\u001b[0m\u001b[0;34m\u001b[0m\u001b[0;34m\u001b[0m\u001b[0m\n\u001b[0m\u001b[1;32m     49\u001b[0m         \u001b[0;32mreturn\u001b[0m \u001b[0mself\u001b[0m\u001b[0;34m.\u001b[0m\u001b[0mreturncode\u001b[0m\u001b[0;34m\u001b[0m\u001b[0;34m\u001b[0m\u001b[0m\n\u001b[1;32m     50\u001b[0m \u001b[0;34m\u001b[0m\u001b[0m\n",
      "\u001b[0;32m~/miniconda3/envs/bertenv/lib/python3.7/multiprocessing/popen_fork.py\u001b[0m in \u001b[0;36mpoll\u001b[0;34m(self, flag)\u001b[0m\n\u001b[1;32m     26\u001b[0m         \u001b[0;32mif\u001b[0m \u001b[0mself\u001b[0m\u001b[0;34m.\u001b[0m\u001b[0mreturncode\u001b[0m \u001b[0;32mis\u001b[0m \u001b[0;32mNone\u001b[0m\u001b[0;34m:\u001b[0m\u001b[0;34m\u001b[0m\u001b[0;34m\u001b[0m\u001b[0m\n\u001b[1;32m     27\u001b[0m             \u001b[0;32mtry\u001b[0m\u001b[0;34m:\u001b[0m\u001b[0;34m\u001b[0m\u001b[0;34m\u001b[0m\u001b[0m\n\u001b[0;32m---> 28\u001b[0;31m                 \u001b[0mpid\u001b[0m\u001b[0;34m,\u001b[0m \u001b[0msts\u001b[0m \u001b[0;34m=\u001b[0m \u001b[0mos\u001b[0m\u001b[0;34m.\u001b[0m\u001b[0mwaitpid\u001b[0m\u001b[0;34m(\u001b[0m\u001b[0mself\u001b[0m\u001b[0;34m.\u001b[0m\u001b[0mpid\u001b[0m\u001b[0;34m,\u001b[0m \u001b[0mflag\u001b[0m\u001b[0;34m)\u001b[0m\u001b[0;34m\u001b[0m\u001b[0;34m\u001b[0m\u001b[0m\n\u001b[0m\u001b[1;32m     29\u001b[0m             \u001b[0;32mexcept\u001b[0m \u001b[0mOSError\u001b[0m \u001b[0;32mas\u001b[0m \u001b[0me\u001b[0m\u001b[0;34m:\u001b[0m\u001b[0;34m\u001b[0m\u001b[0;34m\u001b[0m\u001b[0m\n\u001b[1;32m     30\u001b[0m                 \u001b[0;31m# Child process not yet created. See #1731717\u001b[0m\u001b[0;34m\u001b[0m\u001b[0;34m\u001b[0m\u001b[0;34m\u001b[0m\u001b[0m\n",
      "\u001b[0;31mKeyboardInterrupt\u001b[0m: "
     ]
    }
   ],
   "source": [
    "for _ in range(60):\n",
    "    model.train()\n",
    "    model.tabnet.train()\n",
    "    \n",
    "    for x, y in dl_train:\n",
    "        model.zero_grad()\n",
    "        \n",
    "        out = model(x.float().to(device))\n",
    "        loss = loss_fn(out, y.long().to(device))\n",
    "        \n",
    "        loss.backward()\n",
    "        optimizer.step()\n",
    "        \n",
    "    model.eval()\n",
    "    model.tabnet.eval()\n",
    "    x, y = next(iter(dl_valid))\n",
    "    with torch.no_grad():\n",
    "        out = model(x.float().to(device))\n",
    "        loss_valid = loss_fn(out, y.long().to(device))\n",
    "    print(loss_valid)"
   ]
  },
  {
   "cell_type": "code",
   "execution_count": 577,
   "metadata": {},
   "outputs": [
    {
     "data": {
      "text/plain": [
       "tensor(1.)"
      ]
     },
     "execution_count": 577,
     "metadata": {},
     "output_type": "execute_result"
    }
   ],
   "source": [
    "(out.argmax(-1).cpu() == y.long()).float().mean()"
   ]
  },
  {
   "cell_type": "code",
   "execution_count": 578,
   "metadata": {},
   "outputs": [],
   "source": [
    "out_agg, _, agg_mask, mask_per_step = model.tabnet(x.float().to(device), True)"
   ]
  },
  {
   "cell_type": "code",
   "execution_count": 579,
   "metadata": {},
   "outputs": [
    {
     "data": {
      "text/plain": [
       "(tensor(8.7213, device='cuda:0', grad_fn=<MaxBackward1>),\n",
       " tensor(0., device='cuda:0', grad_fn=<MinBackward1>))"
      ]
     },
     "execution_count": 579,
     "metadata": {},
     "output_type": "execute_result"
    }
   ],
   "source": [
    "out_agg.max(), out_agg.min()"
   ]
  },
  {
   "cell_type": "code",
   "execution_count": 580,
   "metadata": {},
   "outputs": [
    {
     "data": {
      "text/plain": [
       "(torch.Size([120, 4]),\n",
       " tensor(4.0263, device='cuda:0', grad_fn=<MaxBackward1>),\n",
       " tensor(0., device='cuda:0', grad_fn=<MinBackward1>))"
      ]
     },
     "execution_count": 580,
     "metadata": {},
     "output_type": "execute_result"
    }
   ],
   "source": [
    "agg_mask.shape, agg_mask.max(), agg_mask.min()"
   ]
  },
  {
   "cell_type": "code",
   "execution_count": 581,
   "metadata": {},
   "outputs": [
    {
     "data": {
      "text/plain": [
       "torch.Size([120, 4])"
      ]
     },
     "execution_count": 581,
     "metadata": {},
     "output_type": "execute_result"
    }
   ],
   "source": [
    "mask_per_step[2].shape"
   ]
  },
  {
   "cell_type": "code",
   "execution_count": 582,
   "metadata": {},
   "outputs": [],
   "source": [
    "agg_mask = agg_mask.detach().cpu().numpy()"
   ]
  },
  {
   "cell_type": "code",
   "execution_count": 583,
   "metadata": {},
   "outputs": [],
   "source": [
    "agg_mask_norm = (agg_mask - agg_mask.min(0)) / (agg_mask.max(0) - agg_mask.min(0))"
   ]
  },
  {
   "cell_type": "code",
   "execution_count": 592,
   "metadata": {},
   "outputs": [
    {
     "data": {
      "text/plain": [
       "<matplotlib.image.AxesImage at 0x7f33dbfa5650>"
      ]
     },
     "execution_count": 592,
     "metadata": {},
     "output_type": "execute_result"
    },
    {
     "data": {
      "image/png": "[encoded data removed]",
      "text/plain": [
       "<Figure size 432x288 with 1 Axes>"
      ]
     },
     "metadata": {
      "needs_background": "light"
     },
     "output_type": "display_data"
    }
   ],
   "source": [
    "plt.imshow(mask_per_step[1][1].unsqueeze(0), cmap='gray')"
   ]
  },
  {
   "cell_type": "code",
   "execution_count": 595,
   "metadata": {},
   "outputs": [
    {
     "data": {
      "text/plain": [
       "tensor([[0.3701, 0.3967, 2.2332, 0.0000],\n",
       "        [0.2653, 1.1035, 0.2962, 1.3350],\n",
       "        [1.2577, 0.9080, 0.0000, 0.8343],\n",
       "        [0.9581, 1.0243, 0.0000, 1.0175],\n",
       "        [0.0000, 0.8861, 1.0622, 1.0517],\n",
       "        [0.9209, 0.8975, 0.0000, 1.1817],\n",
       "        [0.0000, 0.5641, 1.1853, 1.2506],\n",
       "        [0.4527, 1.1838, 0.4944, 0.8691],\n",
       "        [1.0341, 0.9659, 0.0000, 1.0000],\n",
       "        [0.9362, 1.0638, 0.0000, 1.0000],\n",
       "        [0.3808, 0.8690, 0.9031, 0.8471],\n",
       "        [1.2842, 0.0000, 1.7087, 0.0071],\n",
       "        [0.3056, 0.7416, 0.4853, 1.4675],\n",
       "        [0.8606, 0.9423, 0.0000, 1.1971],\n",
       "        [0.9094, 0.9157, 0.0000, 1.1749],\n",
       "        [0.7653, 1.2177, 0.1185, 0.8985],\n",
       "        [0.3162, 0.0388, 1.2908, 1.3541],\n",
       "        [0.5687, 0.3320, 2.0993, 0.0000],\n",
       "        [0.3181, 0.0000, 1.9764, 0.7054],\n",
       "        [0.1541, 0.0000, 1.5158, 1.3301],\n",
       "        [0.7217, 1.1430, 0.0000, 1.1353],\n",
       "        [0.8598, 1.0226, 0.0000, 1.1176],\n",
       "        [0.2964, 0.0147, 1.9223, 0.7666],\n",
       "        [0.7447, 0.9163, 0.3153, 1.0237],\n",
       "        [0.6688, 1.1177, 0.3158, 0.8977],\n",
       "        [0.2664, 0.4752, 1.2583, 1.0000],\n",
       "        [0.4469, 0.6057, 1.9474, 0.0000],\n",
       "        [0.4634, 0.5976, 0.9038, 1.0353],\n",
       "        [0.4592, 0.1172, 2.0492, 0.3744],\n",
       "        [0.9858, 1.0730, 0.0000, 0.9413],\n",
       "        [0.6676, 1.0284, 0.1682, 1.1357],\n",
       "        [0.9346, 0.2216, 1.8439, 0.0000],\n",
       "        [0.1202, 1.0000, 0.8208, 1.0590],\n",
       "        [0.9866, 1.0766, 0.0000, 0.9368],\n",
       "        [1.1330, 0.2857, 0.0000, 1.5813],\n",
       "        [0.9270, 1.0730, 0.0000, 1.0000],\n",
       "        [1.0405, 1.0498, 0.0000, 0.9097],\n",
       "        [1.1405, 0.9595, 0.0000, 0.9000],\n",
       "        [0.7047, 1.1264, 0.1565, 1.0123],\n",
       "        [0.4938, 0.5101, 1.9961, 0.0000],\n",
       "        [0.8367, 0.9900, 0.0000, 1.1734],\n",
       "        [0.8017, 1.0050, 0.0000, 1.1934],\n",
       "        [1.1470, 0.6216, 0.0000, 1.2314],\n",
       "        [0.6825, 0.5563, 1.7612, 0.0000],\n",
       "        [0.5587, 0.5101, 1.9312, 0.0000],\n",
       "        [0.0000, 0.0000, 1.5000, 1.5000],\n",
       "        [0.0000, 1.0000, 1.0000, 1.0000],\n",
       "        [0.4447, 1.0987, 0.3601, 1.0966],\n",
       "        [0.7111, 1.0742, 0.1178, 1.0968],\n",
       "        [1.1029, 1.0409, 0.0000, 0.8562],\n",
       "        [0.5285, 0.3337, 2.1378, 0.0000],\n",
       "        [1.2167, 0.8818, 0.0000, 0.9015],\n",
       "        [1.0413, 1.0587, 0.0000, 0.8999],\n",
       "        [0.7011, 0.2096, 2.0780, 0.0112],\n",
       "        [1.0943, 1.0163, 0.0000, 0.8893],\n",
       "        [1.0070, 0.1302, 0.4370, 1.4258],\n",
       "        [1.0413, 1.1176, 0.0000, 0.8411],\n",
       "        [0.8300, 1.1857, 0.0000, 0.9843],\n",
       "        [1.0588, 1.0588, 0.0000, 0.8824],\n",
       "        [0.6125, 1.1186, 0.1715, 1.0974],\n",
       "        [0.2510, 0.0027, 1.8861, 0.8602],\n",
       "        [0.3296, 0.9470, 0.3121, 1.4113],\n",
       "        [0.8605, 0.9491, 0.3103, 0.8801],\n",
       "        [1.0061, 0.8088, 0.0859, 1.0992],\n",
       "        [0.6589, 1.1364, 0.1195, 1.0852],\n",
       "        [0.6895, 1.1721, 0.0557, 1.0826],\n",
       "        [0.7516, 1.0650, 0.3360, 0.8474],\n",
       "        [0.7080, 0.7334, 1.5585, 0.0000],\n",
       "        [0.3396, 0.0000, 1.4624, 1.1981],\n",
       "        [1.0260, 1.0847, 0.0000, 0.8893],\n",
       "        [0.9534, 0.8634, 0.0000, 1.1832],\n",
       "        [0.7729, 1.1546, 0.0432, 1.0293],\n",
       "        [0.9233, 0.9277, 0.0000, 1.1490],\n",
       "        [0.0000, 0.5438, 1.2205, 1.2357],\n",
       "        [0.8589, 0.9602, 0.0000, 1.1809],\n",
       "        [0.0000, 0.1018, 1.4491, 1.4491],\n",
       "        [0.0000, 0.2692, 1.1640, 1.5668],\n",
       "        [0.0905, 1.3412, 0.1382, 1.4301],\n",
       "        [1.0673, 0.0236, 1.8891, 0.0201],\n",
       "        [1.0056, 1.0597, 0.0000, 0.9347],\n",
       "        [0.2519, 0.0000, 1.4721, 1.2760],\n",
       "        [0.6644, 0.5571, 1.7785, 0.0000],\n",
       "        [0.8531, 0.9507, 0.0000, 1.1962],\n",
       "        [0.5585, 0.9393, 0.2081, 1.2940],\n",
       "        [1.2766, 0.6571, 0.0000, 1.0663],\n",
       "        [0.4738, 0.5571, 1.9691, 0.0000],\n",
       "        [0.9921, 1.0067, 0.0000, 1.0011],\n",
       "        [0.3926, 1.0207, 0.7703, 0.8164],\n",
       "        [1.0371, 1.1022, 0.0000, 0.8607],\n",
       "        [1.2828, 0.6383, 0.0000, 1.0789],\n",
       "        [0.4568, 0.0000, 1.9960, 0.5472],\n",
       "        [0.5186, 0.3998, 2.0816, 0.0000],\n",
       "        [1.1107, 0.0000, 0.0000, 1.8893],\n",
       "        [0.3312, 0.6962, 1.7593, 0.2132],\n",
       "        [1.0357, 1.0779, 0.0000, 0.8864],\n",
       "        [0.5628, 1.0585, 0.6835, 0.6952],\n",
       "        [0.3746, 0.4677, 2.1577, 0.0000],\n",
       "        [1.0577, 1.0047, 0.0000, 0.9376],\n",
       "        [1.1272, 0.0000, 1.4475, 0.4254],\n",
       "        [0.5655, 0.6529, 1.7816, 0.0000],\n",
       "        [1.3189, 0.3410, 0.0000, 1.3401],\n",
       "        [1.0131, 1.0366, 0.0000, 0.9503],\n",
       "        [1.3093, 0.0000, 1.3950, 0.2956],\n",
       "        [1.0472, 0.8261, 0.7423, 0.3844],\n",
       "        [0.0000, 0.7300, 1.1577, 1.1123],\n",
       "        [0.7854, 0.3760, 1.8386, 0.0000],\n",
       "        [0.5221, 1.0000, 1.0352, 0.4427],\n",
       "        [0.0000, 0.5094, 1.2545, 1.2361],\n",
       "        [1.0266, 1.0806, 0.0000, 0.8928],\n",
       "        [0.8208, 1.0002, 0.0000, 1.1790],\n",
       "        [1.0266, 1.0806, 0.0000, 0.8928],\n",
       "        [0.7170, 0.5342, 0.9208, 0.8280],\n",
       "        [1.1667, 0.9377, 0.0000, 0.8955],\n",
       "        [0.5215, 1.0196, 0.2848, 1.1742],\n",
       "        [0.4424, 0.0411, 1.4907, 1.0258],\n",
       "        [1.0455, 1.1094, 0.0000, 0.8450],\n",
       "        [0.8987, 1.1153, 0.0000, 0.9860],\n",
       "        [0.4861, 0.9050, 0.5322, 1.0768],\n",
       "        [0.5423, 0.0000, 1.3897, 1.0680],\n",
       "        [0.2193, 0.7951, 0.3385, 1.6471]])"
      ]
     },
     "execution_count": 595,
     "metadata": {},
     "output_type": "execute_result"
    }
   ],
   "source": [
    "sum(mask_per_step)"
   ]
  },
  {
   "cell_type": "code",
   "execution_count": 502,
   "metadata": {},
   "outputs": [
    {
     "data": {
      "text/plain": [
       "<matplotlib.image.AxesImage at 0x7f34307eca10>"
      ]
     },
     "execution_count": 502,
     "metadata": {},
     "output_type": "execute_result"
    },
    {
     "data": {
      "image/png": "[encoded data removed]",
      "text/plain": [
       "<Figure size 432x288 with 1 Axes>"
      ]
     },
     "metadata": {
      "needs_background": "light"
     },
     "output_type": "display_data"
    }
   ],
   "source": [
    "plt.imshow(agg_mask_norm, cmap='gray')"
   ]
  },
  {
   "cell_type": "code",
   "execution_count": null,
   "metadata": {},
   "outputs": [],
   "source": []
  }
 ],
 "metadata": {
  "kernelspec": {
   "display_name": "Python 3.7.4 64-bit ('bertenv': conda)",
   "language": "python",
   "name": "python37464bitbertenvcondabe30b9b65ccd476ab0afdaa5ea99afd8"
  },
  "language_info": {
   "codemirror_mode": {
    "name": "ipython",
    "version": 3
   },
   "file_extension": ".py",
   "mimetype": "text/x-python",
   "name": "python",
   "nbconvert_exporter": "python",
   "pygments_lexer": "ipython3",
   "version": "3.7.4"
  }
 },
 "nbformat": 4,
 "nbformat_minor": 2
}
